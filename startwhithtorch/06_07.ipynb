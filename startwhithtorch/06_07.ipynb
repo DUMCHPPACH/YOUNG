{
 "cells": [
  {
   "cell_type": "markdown",
   "source": [
    "---\r\n",
    "# 07. 다층 퍼셉트론으로 손글씨 분류하기"
   ],
   "metadata": {}
  },
  {
   "cell_type": "code",
   "execution_count": null,
   "source": [],
   "outputs": [],
   "metadata": {}
  }
 ],
 "metadata": {
  "orig_nbformat": 4,
  "language_info": {
   "name": "python"
  }
 },
 "nbformat": 4,
 "nbformat_minor": 2
}