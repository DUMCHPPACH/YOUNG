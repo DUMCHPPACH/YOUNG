{
 "cells": [
  {
   "cell_type": "markdown",
   "source": [
    "# 04. 토치텍스트(TorchText)의 batch_first\r\n",
    "---\r\n",
    "torchtext에서 batch_first를 True로 한 경우와 False로 한 경우를 비교해보자"
   ],
   "metadata": {}
  },
  {
   "cell_type": "markdown",
   "source": [
    "### 1. 훈련 데이터와 테스트 데이터로 분리하기\r\n",
    "---"
   ],
   "metadata": {}
  },
  {
   "cell_type": "code",
   "execution_count": 1,
   "source": [
    "import urllib.request\r\n",
    "import pandas as pd"
   ],
   "outputs": [],
   "metadata": {}
  },
  {
   "cell_type": "code",
   "execution_count": 2,
   "source": [
    "exist_data = 'D:/chch/startwhithtorch/datafolder/IMDb_Reviews.csv'\r\n",
    "df = pd.read_csv(exist_data, encoding='latin1')"
   ],
   "outputs": [],
   "metadata": {}
  },
  {
   "cell_type": "code",
   "execution_count": 3,
   "source": [
    "print('전체 샘플의 개수 : {}'.format(len(df)))"
   ],
   "outputs": [
    {
     "output_type": "stream",
     "name": "stdout",
     "text": [
      "전체 샘플의 개수 : 50000\n"
     ]
    }
   ],
   "metadata": {}
  },
  {
   "cell_type": "code",
   "execution_count": 4,
   "source": [
    "train_df = df[:25000]\r\n",
    "test_df = df[25000:]"
   ],
   "outputs": [],
   "metadata": {}
  },
  {
   "cell_type": "code",
   "execution_count": 5,
   "source": [
    "train_df.to_csv(\"train_data.csv\", index=False)\r\n",
    "test_df.to_csv(\"test_data.csv\", index=False)"
   ],
   "outputs": [],
   "metadata": {}
  },
  {
   "cell_type": "markdown",
   "source": [
    "### 2. 필드 정의하기(torchtext.data)\r\n",
    "---"
   ],
   "metadata": {}
  },
  {
   "cell_type": "code",
   "execution_count": 12,
   "source": [
    "from torchtext.legacy import data\r\n",
    "\r\n",
    "# text 필드 정의\r\n",
    "TEXT = data.Field(sequential = True,\r\n",
    "                  use_vocab = True,\r\n",
    "                  tokenize = str.split,\r\n",
    "                  lower = True,\r\n",
    "                  batch_first = True, # 이 부분을 바꿀건데 이전에 했던 방법처럼 True해서 우선 확인\r\n",
    "                                      # batch_first : 미니 배치 차원을 맨 앞으로 하여 데이터를 불러올 것인지 여부. (False가 기본값)\r\n",
    "                  fix_length = 20)\r\n",
    "\r\n",
    "# label 필드 정의\r\n",
    "LABEL = data.Field(sequential=False,\r\n",
    "                   use_vocab = False,\r\n",
    "                   batch_first = False,\r\n",
    "                   is_target = True)"
   ],
   "outputs": [],
   "metadata": {}
  },
  {
   "cell_type": "markdown",
   "source": [
    "### 3. 데이터셋 / 단어 집합 / 데이터로더 만들기\r\n",
    "---"
   ],
   "metadata": {}
  },
  {
   "cell_type": "code",
   "execution_count": 16,
   "source": [
    "from torchtext.legacy.data import TabularDataset\r\n",
    "from torchtext.legacy.data import Iterator\r\n",
    "\r\n",
    "# 데이터 불러오면서 토큰화\r\n",
    "tabul_path = 'D:/chch/startwhithtorch/datafolder/'\r\n",
    "train_data, test_data = TabularDataset.splits(\r\n",
    "    path = tabul_path, train = 'train_data.csv', test = 'test_data.csv', format='csv',\r\n",
    "    fields = [('text', TEXT), ('label', LABEL)], skip_header = True\r\n",
    ")\r\n",
    "\r\n",
    "# 단어 집합 생성\r\n",
    "TEXT.build_vocab(train_data, min_freq = 10, max_size=10000)\r\n",
    "\r\n",
    "# 배치 크기를 정하고 첫번째 배치 출력\r\n",
    "batch_size = 5\r\n",
    "train_loader = Iterator(dataset=train_data, batch_size=batch_size)\r\n",
    "batch = next(iter(train_loader))"
   ],
   "outputs": [],
   "metadata": {}
  },
  {
   "cell_type": "code",
   "execution_count": 20,
   "source": [
    "print(batch.text.size())\r\n",
    "print(batch.text)"
   ],
   "outputs": [
    {
     "output_type": "stream",
     "name": "stdout",
     "text": [
      "torch.Size([5, 20])\n",
      "tensor([[  22,   16, 4217,   18,    9,   61,   37,  112,  329, 3471, 1187,   17,\n",
      "          329,    0,   34,  135,  617, 2386, 1895,    0],\n",
      "        [   9,   37,    2,   84, 6263,    9,   37,    2,    0,   18,  148,    3,\n",
      "           20,   12,  271,   37,  147,  268,   29,   11],\n",
      "        [  10,   20,    7,  300, 5367,   11,    7,   38, 2440,  285,    2,    0,\n",
      "            4,   80,    0,   23,  257,  804,    2,  274],\n",
      "        [  52,   23, 1833,  127, 8071,    6,    0,   18,  529,  393,    7,  171,\n",
      "         8307,  686,    0,    8,   10,  149,   70,   23],\n",
      "        [ 186,  310,    3,  156, 1633,   42, 7343,    4,    0,    4,   10,    7,\n",
      "          362,   51, 2050,   68,    2,    0, 2410,    8]])\n"
     ]
    }
   ],
   "metadata": {}
  },
  {
   "cell_type": "markdown",
   "source": [
    "# 4. 필드 재정의하여 batch_first를 false로 한 경우를 확인하자\r\n",
    "---"
   ],
   "metadata": {}
  },
  {
   "cell_type": "code",
   "execution_count": 7,
   "source": [
    "from torchtext.legacy import data\r\n",
    "from torchtext.legacy.data import TabularDataset\r\n",
    "from torchtext.legacy.data import Iterator\r\n",
    "# ----------------------------------------------\r\n",
    "TEXT = data.Field(sequential=True,\r\n",
    "                  use_vocab=True,\r\n",
    "                  tokenize=str.split,\r\n",
    "                  batch_first=False,\r\n",
    "                  lower=True,\r\n",
    "                  fix_length=20)\r\n",
    "\r\n",
    "LABEL = data.Field(sequential=False,\r\n",
    "                   use_vocab=False,\r\n",
    "                   batch_first=False,\r\n",
    "                   is_target=True)\r\n",
    "# ----------------------------------------------\r\n",
    "\r\n",
    "# 데이터 불러오면서 토큰화\r\n",
    "tabul_path = 'D:/chch/startwhithtorch/datafolder/'\r\n",
    "train_data, test_data = TabularDataset.splits(\r\n",
    "    path = tabul_path, train = 'train_data.csv', test = 'test_data.csv', format='csv',\r\n",
    "    fields = [('text', TEXT), ('label', LABEL)], skip_header = True\r\n",
    ")\r\n",
    "\r\n",
    "# 단어 집합 생성\r\n",
    "TEXT.build_vocab(train_data, min_freq = 10, max_size=10000)\r\n",
    "\r\n",
    "# 배치 크기를 정하고 첫번째 배치 출력\r\n",
    "batch_size = 5\r\n",
    "train_loader = Iterator(dataset=train_data, batch_size=batch_size)\r\n",
    "batch = next(iter(train_loader))"
   ],
   "outputs": [],
   "metadata": {}
  },
  {
   "cell_type": "code",
   "execution_count": 8,
   "source": [
    "print(batch.text.size())\r\n",
    "print(batch.text)"
   ],
   "outputs": [
    {
     "output_type": "stream",
     "name": "stdout",
     "text": [
      "torch.Size([20, 5])\n",
      "tensor([[   0,   10,   10,    0, 5077],\n",
      "        [  23,  131,   20,    0,    0],\n",
      "        [2740,    7,  354,  271,    0],\n",
      "        [  35,   30, 3322,    4,    0],\n",
      "        [   0,    5,    0,  946, 3619],\n",
      "        [   2,    2,   21,  854,    0],\n",
      "        [ 158,  246,  667, 2492,   13],\n",
      "        [1391,  275,    6,  267, 4562],\n",
      "        [ 296,    5,   86,   34,   86],\n",
      "        [  47,   36,    3,    2,   24],\n",
      "        [   5, 4475,   87,    0,  115],\n",
      "        [2681,  357,  255, 3929,   50],\n",
      "        [   6,   60,  150,    9,  291],\n",
      "        [   0,  238,   18,  235,    8],\n",
      "        [  33,  762,    9,    8,    2],\n",
      "        [  62,    4,   61,   11,  769],\n",
      "        [  59,  434,  152,    3,    5],\n",
      "        [ 316,  201,    0, 2723,    3],\n",
      "        [   0,    3,    0,  926, 2753],\n",
      "        [4482,  403,  122,   12,  659]])\n"
     ]
    }
   ],
   "metadata": {}
  },
  {
   "cell_type": "code",
   "execution_count": null,
   "source": [
    "# 20, 5 로 배치사이즈가 차원의 맨 앞으로 왔다."
   ],
   "outputs": [],
   "metadata": {}
  }
 ],
 "metadata": {
  "orig_nbformat": 4,
  "language_info": {
   "name": "python",
   "version": "3.8.5",
   "mimetype": "text/x-python",
   "codemirror_mode": {
    "name": "ipython",
    "version": 3
   },
   "pygments_lexer": "ipython3",
   "nbconvert_exporter": "python",
   "file_extension": ".py"
  },
  "kernelspec": {
   "name": "python3",
   "display_name": "Python 3.8.5 64-bit ('chch': conda)"
  },
  "interpreter": {
   "hash": "fdd75c4cec139db88207ac7c4293bdcbae3543546183bc362ebf9b62ac7e89fe"
  }
 },
 "nbformat": 4,
 "nbformat_minor": 2
}