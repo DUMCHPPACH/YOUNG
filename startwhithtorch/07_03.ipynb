{
 "cells": [
  {
   "cell_type": "markdown",
   "source": [
    "## 03. 깊은 CNN으로 MNIST 분류하기\r\n",
    "---"
   ],
   "metadata": {}
  },
  {
   "cell_type": "code",
   "execution_count": 20,
   "source": [
    "import torch\r\n",
    "import torchvision.datasets as dsets\r\n",
    "import torchvision.transforms as transforms\r\n",
    "import torch.nn.init"
   ],
   "outputs": [],
   "metadata": {}
  },
  {
   "cell_type": "code",
   "execution_count": 21,
   "source": [
    "device = 'cuda' if torch.cuda.is_available() else 'cpu'\r\n",
    "torch.manual_seed(777)\r\n",
    "if device == 'cuda':\r\n",
    "    torch.cuda.manual_seed_all(777)"
   ],
   "outputs": [],
   "metadata": {}
  },
  {
   "cell_type": "code",
   "execution_count": 22,
   "source": [
    "learning_rate = 0.001\r\n",
    "training_epochs = 15\r\n",
    "batch_size = 100"
   ],
   "outputs": [],
   "metadata": {}
  },
  {
   "cell_type": "code",
   "execution_count": 23,
   "source": [
    "mnist_train = dsets.MNIST(root = 'MNIST_data/',\r\n",
    "                          train=True,\r\n",
    "                          transform=transforms.ToTensor(),\r\n",
    "                          download=False)\r\n",
    "\r\n",
    "mnist_test = dsets.MNIST(root = 'MNIST_data/',\r\n",
    "                         train=False,\r\n",
    "                         transform=transforms.ToTensor(),\r\n",
    "                         download=False)"
   ],
   "outputs": [],
   "metadata": {}
  },
  {
   "cell_type": "code",
   "execution_count": 24,
   "source": [
    "data_loader = torch.utils.data.DataLoader(dataset=mnist_train,\r\n",
    "                                          batch_size=batch_size,\r\n",
    "                                          shuffle=True,\r\n",
    "                                          drop_last =True)"
   ],
   "outputs": [],
   "metadata": {}
  },
  {
   "cell_type": "code",
   "execution_count": 25,
   "source": [
    "class CNN(torch.nn.Module):\r\n",
    "\r\n",
    "    def __init__(self):\r\n",
    "        super(CNN, self).__init__()\r\n",
    "        self.keep_prob = 0.5        # drop_out 용! 남길 비율\r\n",
    "\r\n",
    "        self.layer1 = torch.nn.Sequential(\r\n",
    "            torch.nn.Conv2d(1, 32, kernel_size=3, stride=1, padding=1),\r\n",
    "            torch.nn.ReLU(),\r\n",
    "            torch.nn.MaxPool2d(kernel_size=2, stride=2))\r\n",
    "\r\n",
    "        self.layer2 = torch.nn.Sequential(\r\n",
    "            torch.nn.Conv2d(32, 64, kernel_size=3, stride=1, padding=1),\r\n",
    "            torch.nn.ReLU(),\r\n",
    "            torch.nn.MaxPool2d(kernel_size=2, stride=2))\r\n",
    "\r\n",
    "        self.layer3 = torch.nn.Sequential(\r\n",
    "            torch.nn.Conv2d(64, 128, kernel_size=3, stride=1, padding=1),\r\n",
    "            torch.nn.ReLU(),\r\n",
    "            torch.nn.MaxPool2d(kernel_size=2, stride=2, padding=1))\r\n",
    "\r\n",
    "        self.fc1 = torch.nn.Linear(4*4*128, 625, bias=True)\r\n",
    "        torch.nn.init.xavier_uniform_(self.fc1.weight)\r\n",
    "\r\n",
    "        self.layer4 = torch.nn.Sequential(\r\n",
    "            self.fc1,\r\n",
    "            torch.nn.ReLU(),\r\n",
    "            torch.nn.Dropout(p = 1-self.keep_prob))\r\n",
    "\r\n",
    "        self.fc2 = torch.nn.Linear(625, 10, bias=True)\r\n",
    "        torch.nn.init.xavier_uniform_(self.fc1.weight)\r\n",
    "\r\n",
    "    def forward(self, x):\r\n",
    "        out = self.layer1(x)\r\n",
    "        out = self.layer2(out)\r\n",
    "        out = self.layer3(out)\r\n",
    "        out = out.view(out.size(0), -1)\r\n",
    "        out = self.layer4(out)\r\n",
    "        out = self.fc2(out)\r\n",
    "        return out"
   ],
   "outputs": [],
   "metadata": {}
  },
  {
   "cell_type": "code",
   "execution_count": 26,
   "source": [
    "model = CNN().to(device)"
   ],
   "outputs": [],
   "metadata": {}
  },
  {
   "cell_type": "code",
   "execution_count": 27,
   "source": [
    "criterion = torch.nn.CrossEntropyLoss().to(device)\r\n",
    "optimizer = torch.optim.Adam(model.parameters(), lr = learning_rate)"
   ],
   "outputs": [],
   "metadata": {}
  },
  {
   "cell_type": "code",
   "execution_count": 28,
   "source": [
    "total_batch = len(data_loader)\r\n",
    "print('총 배치의 수: {}'.format(total_batch))"
   ],
   "outputs": [
    {
     "output_type": "stream",
     "name": "stdout",
     "text": [
      "총 배치의 수: 600\n"
     ]
    }
   ],
   "metadata": {}
  },
  {
   "cell_type": "code",
   "execution_count": 29,
   "source": [
    "for epoch in range(training_epochs):\r\n",
    "    avg_cost = 0\r\n",
    "\r\n",
    "    for X, Y in data_loader:\r\n",
    "        X = X.to(device)\r\n",
    "        Y = Y.to(device)\r\n",
    "\r\n",
    "        optimizer.zero_grad()\r\n",
    "        hypothesis = model(X)\r\n",
    "        cost = criterion(hypothesis, Y)\r\n",
    "        cost.backward()\r\n",
    "        optimizer.step()\r\n",
    "\r\n",
    "        avg_cost += cost / total_batch\r\n",
    "\r\n",
    "    print('[Epoch: {:>4}] Cost = {:>.9}'.format(epoch+1, avg_cost))"
   ],
   "outputs": [
    {
     "output_type": "stream",
     "name": "stdout",
     "text": [
      "[Epoch:    1] Cost = 0.210043013\n",
      "[Epoch:    2] Cost = 0.0537214801\n",
      "[Epoch:    3] Cost = 0.0389906354\n",
      "[Epoch:    4] Cost = 0.0302699804\n",
      "[Epoch:    5] Cost = 0.024625374\n",
      "[Epoch:    6] Cost = 0.0187018253\n",
      "[Epoch:    7] Cost = 0.0169688836\n",
      "[Epoch:    8] Cost = 0.0155189531\n",
      "[Epoch:    9] Cost = 0.0140519328\n",
      "[Epoch:   10] Cost = 0.0121285645\n",
      "[Epoch:   11] Cost = 0.0111270649\n",
      "[Epoch:   12] Cost = 0.0093757147\n",
      "[Epoch:   13] Cost = 0.00850844756\n",
      "[Epoch:   14] Cost = 0.00823599566\n",
      "[Epoch:   15] Cost = 0.00919211376\n"
     ]
    }
   ],
   "metadata": {}
  },
  {
   "cell_type": "code",
   "execution_count": 30,
   "source": [
    "with torch.no_grad():\r\n",
    "    X_test = mnist_test.test_data.view(len(mnist_test), 1, 28, 28).float().to(device)\r\n",
    "    Y_test = mnist_test.test_labels.to(device)\r\n",
    "\r\n",
    "    prediction = model(X_test)\r\n",
    "    correct_prediction = torch.argmax(prediction, 1) == Y_test\r\n",
    "    accuracy = correct_prediction.float().mean()\r\n",
    "    print('Accuracy: ', accuracy.item())"
   ],
   "outputs": [
    {
     "output_type": "stream",
     "name": "stderr",
     "text": [
      "C:\\Users\\lemon\\anaconda3\\envs\\chch\\lib\\site-packages\\torchvision\\datasets\\mnist.py:67: UserWarning: test_data has been renamed data\n",
      "  warnings.warn(\"test_data has been renamed data\")\n",
      "C:\\Users\\lemon\\anaconda3\\envs\\chch\\lib\\site-packages\\torchvision\\datasets\\mnist.py:57: UserWarning: test_labels has been renamed targets\n",
      "  warnings.warn(\"test_labels has been renamed targets\")\n"
     ]
    },
    {
     "output_type": "stream",
     "name": "stdout",
     "text": [
      "Accuracy:  0.9833999872207642\n"
     ]
    }
   ],
   "metadata": {}
  }
 ],
 "metadata": {
  "orig_nbformat": 4,
  "language_info": {
   "name": "python",
   "version": "3.6.5",
   "mimetype": "text/x-python",
   "codemirror_mode": {
    "name": "ipython",
    "version": 3
   },
   "pygments_lexer": "ipython3",
   "nbconvert_exporter": "python",
   "file_extension": ".py"
  },
  "kernelspec": {
   "name": "python3",
   "display_name": "Python 3.6.5 64-bit ('chch': conda)"
  },
  "interpreter": {
   "hash": "fdd75c4cec139db88207ac7c4293bdcbae3543546183bc362ebf9b62ac7e89fe"
  }
 },
 "nbformat": 4,
 "nbformat_minor": 2
}