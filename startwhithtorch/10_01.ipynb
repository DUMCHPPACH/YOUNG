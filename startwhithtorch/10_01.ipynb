{
 "cells": [
  {
   "cell_type": "markdown",
   "source": [
    "# 01. 순환 신경망(Recurrent Neural Network, RNN)"
   ],
   "metadata": {}
  }
 ],
 "metadata": {
  "orig_nbformat": 4,
  "language_info": {
   "name": "python"
  }
 },
 "nbformat": 4,
 "nbformat_minor": 2
}