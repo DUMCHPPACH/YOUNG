{
 "cells": [
  {
   "cell_type": "markdown",
   "metadata": {},
   "source": [
    "### 2. 파이썬으로 RNN 구현하기\n",
    "---"
   ]
  },
  {
   "cell_type": "code",
   "execution_count": null,
   "metadata": {},
   "outputs": [],
   "source": [
    "# numpy로 rnn 층을 구현해보자\n",
    "\n",
    "# 의사 코드(pseudocode)를 작성해보자\n",
    "# 실제 동작하는 코드는 아님에 주의\n",
    "\n",
    "hidden_state_t = 0  # 초기 은닉 상태를 0(벡터)로 초기화\n",
    "for input_t in input_length:\n",
    "    # 각 시점마다 입력을 받는다. # 입력 데이터의 길이는 총 시점의 수(timesteps)가 된다.\n",
    "    output_t = tanh(input_t, hidden_state_t)    # 각 시점의 입력과 은닉 상태를 받아서 연산\n",
    "    hidden_state_t = output_t   # 계산 결과는 현재 시점의 은닉 상태가 된다.\n"
   ]
  }
 ],
 "metadata": {
  "interpreter": {
   "hash": "fdd75c4cec139db88207ac7c4293bdcbae3543546183bc362ebf9b62ac7e89fe"
  },
  "kernelspec": {
   "display_name": "Python 3.8.5 64-bit ('chch': conda)",
   "name": "python3"
  },
  "language_info": {
   "codemirror_mode": {
    "name": "ipython",
    "version": 3
   },
   "file_extension": ".py",
   "mimetype": "text/x-python",
   "name": "python",
   "nbconvert_exporter": "python",
   "pygments_lexer": "ipython3",
   "version": "3.8.5"
  },
  "orig_nbformat": 4
 },
 "nbformat": 4,
 "nbformat_minor": 2
}
