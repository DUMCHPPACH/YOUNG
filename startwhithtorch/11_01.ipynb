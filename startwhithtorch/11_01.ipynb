{
 "cells": [
  {
   "cell_type": "code",
   "execution_count": 18,
   "metadata": {},
   "outputs": [],
   "source": [
    "# https://wikidocs.net/64703"
   ]
  },
  {
   "cell_type": "markdown",
   "metadata": {},
   "source": [
    "## 01. 문자 단위 RNN(Char RNN)\n",
    "---\n",
    "모든 시점의 입력에 대해서 모든 시점에 대해서 출력하는 다대다 RNN을 구현하자"
   ]
  },
  {
   "cell_type": "markdown",
   "metadata": {},
   "source": [
    "### 1. 문자 단위 RNN(Char RNN)  \n",
    "RNN의 입출력의 단위가 단어 레벨(word-level)이 아니라 문자 레벨(character-level)로 하여 RNN을 구현한다면, 이를 문자 단위 RNN이라 부른다. RNN의 구조 자체가 달라진 것이 아니라 입,출력의 단위가 character로 바뀐 것이다."
   ]
  },
  {
   "cell_type": "code",
   "execution_count": 19,
   "metadata": {},
   "outputs": [],
   "source": [
    "import torch\n",
    "import torch.nn as nn\n",
    "import torch.optim as optim\n",
    "import numpy as np"
   ]
  },
  {
   "cell_type": "code",
   "execution_count": 20,
   "metadata": {},
   "outputs": [
    {
     "name": "stdout",
     "output_type": "stream",
     "text": [
      "문자 집합의 크기: 5\n"
     ]
    }
   ],
   "source": [
    "# 문자 시퀀스 apple이 들어오면 pple!을 출력하는 RNN을 구현해보자\n",
    "# 입력 데이터와 레이블 데이터에 대해서 문자 집합(vocabulary)를 만든다.\n",
    "# 여기서 문자 집합은 중복을 제거한 집합이다\n",
    "\n",
    "input_str = 'apple'\n",
    "label_str = 'pple!'\n",
    "char_vocab = sorted(list(set(input_str+label_str)))\n",
    "vocab_size = len(char_vocab)\n",
    "print(f'문자 집합의 크기: {vocab_size}')"
   ]
  },
  {
   "cell_type": "code",
   "execution_count": 21,
   "metadata": {},
   "outputs": [],
   "source": [
    "# 입력의 크기는 문자 집합의 크기로\n",
    "input_size = vocab_size\n",
    "hidden_size = 5\n",
    "output_size = 5\n",
    "learning_rate = 0.1"
   ]
  },
  {
   "cell_type": "code",
   "execution_count": 22,
   "metadata": {},
   "outputs": [
    {
     "name": "stdout",
     "output_type": "stream",
     "text": [
      "{'!': 0, 'a': 1, 'e': 2, 'l': 3, 'p': 4}\n"
     ]
    }
   ],
   "source": [
    "# 문자 집합에 고유한 정수를 부여하자\n",
    "# 문자 -> 정수\n",
    "char_to_index = dict((c, i) for i, c in enumerate(char_vocab))\n",
    "print(char_to_index)"
   ]
  },
  {
   "cell_type": "code",
   "execution_count": 23,
   "metadata": {},
   "outputs": [
    {
     "name": "stdout",
     "output_type": "stream",
     "text": [
      "{0: '!', 1: 'a', 2: 'e', 3: 'l', 4: 'p'}\n"
     ]
    }
   ],
   "source": [
    "# 나중에 다시 예측 결과를 문자 시퀀스로 보기 위해 반대 함수를 만든다\n",
    "# 정수 -> 문자\n",
    "index_to_char = {v:k for k, v in char_to_index.items()}\n",
    "print(index_to_char)"
   ]
  },
  {
   "cell_type": "code",
   "execution_count": 25,
   "metadata": {},
   "outputs": [
    {
     "name": "stdout",
     "output_type": "stream",
     "text": [
      "a p p l e : [1, 4, 4, 3, 2]\n",
      "p p l e ! : [4, 4, 3, 2, 0]\n"
     ]
    }
   ],
   "source": [
    "# 이제 입력 데이터와 레이블 데이터 모두 각 문자들을 정수로 맵핑한다\n",
    "x_data = [char_to_index[c] for c in input_str]\n",
    "y_data = [char_to_index[c] for c in label_str]\n",
    "print('a p p l e :', x_data)\n",
    "print('p p l e ! :', y_data)"
   ]
  },
  {
   "cell_type": "code",
   "execution_count": 26,
   "metadata": {},
   "outputs": [
    {
     "name": "stdout",
     "output_type": "stream",
     "text": [
      "a p p l e : [[1, 4, 4, 3, 2]]\n",
      "p p l e ! : [[4, 4, 3, 2, 0]]\n"
     ]
    }
   ],
   "source": [
    "# 토치의 nn.RNN() 은 기본 입력값이 3차원이니 차원을 추가 해준다\n",
    "x_data = [x_data]\n",
    "y_data = [y_data]\n",
    "print('a p p l e :', x_data)\n",
    "print('p p l e ! :', y_data)"
   ]
  },
  {
   "cell_type": "code",
   "execution_count": 34,
   "metadata": {},
   "outputs": [
    {
     "name": "stdout",
     "output_type": "stream",
     "text": [
      "[array([[0., 1., 0., 0., 0.],\n",
      "       [0., 0., 0., 0., 1.],\n",
      "       [0., 0., 0., 0., 1.],\n",
      "       [0., 0., 0., 1., 0.],\n",
      "       [0., 0., 1., 0., 0.]])]\n"
     ]
    }
   ],
   "source": [
    "# 각 정수를 원-핫 벡터로 바꿔준다\n",
    "# 입력 데이터만 바꿔준다\n",
    "x_one_hot = [np.eye(vocab_size)[x] for x in x_data]\n",
    "print(x_one_hot)"
   ]
  },
  {
   "cell_type": "code",
   "execution_count": 37,
   "metadata": {},
   "outputs": [
    {
     "name": "stdout",
     "output_type": "stream",
     "text": [
      "훈련 데이터의 크기 : torch.Size([1, 5, 5])\n",
      "레이블의 크기 : torch.Size([1, 5])\n"
     ]
    }
   ],
   "source": [
    "# 입력 데이터와 레이블 데이터를 텐서로 바꿔준다\n",
    "X = torch.FloatTensor(x_one_hot)\n",
    "Y = torch.FloatTensor(y_data)\n",
    "\n",
    "print(f'훈련 데이터의 크기 : {X.shape}')\n",
    "print(f'레이블의 크기 : {Y.shape}')\n",
    "\n",
    "\n",
    "# 훈련 데이터의 크기 : torch.Size([1, 5, 5])\n",
    "# 1 : 문장의 개수\n",
    "# 5 : 단어의 개수\n",
    "# 5 : 임베딩 크기"
   ]
  },
  {
   "cell_type": "markdown",
   "metadata": {},
   "source": [
    "### 2. 모델 구현하기\n",
    "---"
   ]
  },
  {
   "cell_type": "code",
   "execution_count": 38,
   "metadata": {},
   "outputs": [],
   "source": [
    "# RNN을 구현해보자 마지막은 fc 계층으로 연결해 출력층으로 이용한다\n",
    "class Net(torch.nn.Module):\n",
    "    def __init__(self, input_size, hidden_size, output_size):\n",
    "        super(Net, self).__init__()\n",
    "        \n",
    "        # rnn 셀\n",
    "        self.rnn = torch.nn.RNN(input_size, hidden_size, batch_first = True)\n",
    "\n",
    "        # 출력층\n",
    "        self.fc = torch.nn.Linear(hidden_size, output_size, bias = True)\n",
    "\n",
    "    def forward(self, )"
   ]
  }
 ],
 "metadata": {
  "interpreter": {
   "hash": "fdd75c4cec139db88207ac7c4293bdcbae3543546183bc362ebf9b62ac7e89fe"
  },
  "kernelspec": {
   "display_name": "Python 3.8.5 64-bit ('chch': conda)",
   "name": "python3"
  },
  "language_info": {
   "codemirror_mode": {
    "name": "ipython",
    "version": 3
   },
   "file_extension": ".py",
   "mimetype": "text/x-python",
   "name": "python",
   "nbconvert_exporter": "python",
   "pygments_lexer": "ipython3",
   "version": "3.8.5"
  },
  "orig_nbformat": 4
 },
 "nbformat": 4,
 "nbformat_minor": 2
}
