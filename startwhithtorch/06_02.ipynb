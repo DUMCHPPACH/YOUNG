{
 "cells": [
  {
   "cell_type": "code",
   "execution_count": null,
   "source": [
    "# https://wikidocs.net/60680"
   ],
   "outputs": [],
   "metadata": {}
  },
  {
   "cell_type": "markdown",
   "source": [
    "---\r\n",
    "# 02. 퍼셉트론(Perceptron)"
   ],
   "metadata": {}
  },
  {
   "cell_type": "code",
   "execution_count": 1,
   "source": [
    "# AND 게이트를 위한 매개변수 값을 가진 단층 퍼셉트론 식 구현\r\n",
    "\r\n",
    "def AND_gate(x1, x2):\r\n",
    "    w1 = 0.5\r\n",
    "    w2 = 0.5\r\n",
    "    b = -0.7\r\n",
    "    result = x1 * w1 + x2 * w2 + b\r\n",
    "    if result <= 0:\r\n",
    "        return 0\r\n",
    "    else:\r\n",
    "        return 1"
   ],
   "outputs": [],
   "metadata": {}
  },
  {
   "cell_type": "code",
   "execution_count": 4,
   "source": [
    "# 두 개의 입력값이 1인 경우에만 1을 출력\r\n",
    "AND_gate(0, 0), AND_gate(0, 1), AND_gate(1, 0), AND_gate(1, 1)"
   ],
   "outputs": [
    {
     "output_type": "execute_result",
     "data": {
      "text/plain": [
       "(0, 0, 0, 1)"
      ]
     },
     "metadata": {},
     "execution_count": 4
    }
   ],
   "metadata": {}
  },
  {
   "cell_type": "code",
   "execution_count": 5,
   "source": [
    "# 반대로 만들어보자\r\n",
    "def NAND_gate(x1, x2):\r\n",
    "    w1 = -0.5\r\n",
    "    w2 = -0.5\r\n",
    "    b = 0.7\r\n",
    "    result = x1 * w1 + x2 * w2 + b\r\n",
    "    if result <= 0:\r\n",
    "        return 0\r\n",
    "    else:\r\n",
    "        return 1"
   ],
   "outputs": [],
   "metadata": {}
  },
  {
   "cell_type": "code",
   "execution_count": 6,
   "source": [
    "# 두 개의 입력값이 1인 경우에만 0을 출력\r\n",
    "NAND_gate(0, 0), NAND_gate(0, 1), NAND_gate(1, 0), NAND_gate(1, 1)"
   ],
   "outputs": [
    {
     "output_type": "execute_result",
     "data": {
      "text/plain": [
       "(1, 1, 1, 0)"
      ]
     },
     "metadata": {},
     "execution_count": 6
    }
   ],
   "metadata": {}
  },
  {
   "cell_type": "code",
   "execution_count": 7,
   "source": [
    "# 입력값 둘중 하나라도 1일 때 1출력\r\n",
    "def OR_gate(x1, x2):\r\n",
    "    w1=0.6\r\n",
    "    w2=0.6\r\n",
    "    b=-0.5\r\n",
    "    result = x1*w1 + x2*w2 + b\r\n",
    "    if result <= 0:\r\n",
    "        return 0\r\n",
    "    else:\r\n",
    "        return 1"
   ],
   "outputs": [],
   "metadata": {}
  },
  {
   "cell_type": "code",
   "execution_count": 8,
   "source": [
    "OR_gate(0, 0), OR_gate(0, 1), OR_gate(1, 0), OR_gate(1, 1)"
   ],
   "outputs": [
    {
     "output_type": "execute_result",
     "data": {
      "text/plain": [
       "(0, 1, 1, 1)"
      ]
     },
     "metadata": {},
     "execution_count": 8
    }
   ],
   "metadata": {}
  },
  {
   "cell_type": "markdown",
   "source": [
    "---\r\n",
    "## 하지만 단층 퍼셉트론으로 구현이 불가능한 게이트가 있는데! 바로 XOR 게이트\r\n",
    "입력값 두 개가 서도 다른 값을 갖고 있을 때만 출력값이 1이 되는 게이트.  \r\n",
    "위의 단층 퍼셉트론을 어떤 값을 넣어도 XOR을 구현 할 수 없는데, 그 이유는 단층 퍼셉트론은 직선 하나로 두 영역을 나눌 수 있는 문제에 대해서만 구현이 가능하기 때문. 즉 선형 영역에 대해서만 분리가 가능하다.  \r\n",
    "XOR 문제를 풀기 위해서는 비선형 영역으로 분리하면 가능하다."
   ],
   "metadata": {}
  },
  {
   "cell_type": "markdown",
   "source": [
    "---\r\n",
    "### 다층 퍼셉트론(MultiLayer Perceptron, MLP)\r\n",
    "입력층과 출력층 사이에 은닉층을 추가한 신경망  \r\n",
    "은닉층을 2개 이상 가진 신경망은 심층 신경망(Deep Neural Network)라 한다.  \r\n",
    "또한 이제는 기계가 가중치를 스스로 찾아내도록 자동화시켜야 하는데, 이를 학습이라고 하며 loss function, optimizer를 사용한다.  \r\n",
    "  \r\n",
    "-> 06_03 에서 이어짐."
   ],
   "metadata": {}
  }
 ],
 "metadata": {
  "orig_nbformat": 4,
  "language_info": {
   "name": "python",
   "version": "3.6.5",
   "mimetype": "text/x-python",
   "codemirror_mode": {
    "name": "ipython",
    "version": 3
   },
   "pygments_lexer": "ipython3",
   "nbconvert_exporter": "python",
   "file_extension": ".py"
  },
  "kernelspec": {
   "name": "python3",
   "display_name": "Python 3.6.5 64-bit ('chch': conda)"
  },
  "interpreter": {
   "hash": "fdd75c4cec139db88207ac7c4293bdcbae3543546183bc362ebf9b62ac7e89fe"
  }
 },
 "nbformat": 4,
 "nbformat_minor": 2
}