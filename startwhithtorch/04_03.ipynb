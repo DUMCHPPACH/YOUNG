{
 "cells": [
  {
   "cell_type": "code",
   "execution_count": 1,
   "source": [
    "# https://wikidocs.net/60037"
   ],
   "outputs": [],
   "metadata": {}
  },
  {
   "cell_type": "markdown",
   "source": [
    "---\r\n",
    "# 03. 클래스로 파이토치 모델 구현하기"
   ],
   "metadata": {}
  },
  {
   "cell_type": "code",
   "execution_count": 2,
   "source": [
    "# 04_02 의 로지스틱 회귀 모델을 클래스로 구현해보자\r\n",
    "import torch\r\n",
    "import torch.nn as nn\r\n",
    "import torch.nn.functional as F\r\n",
    "import torch.optim as optim"
   ],
   "outputs": [],
   "metadata": {}
  },
  {
   "cell_type": "code",
   "execution_count": 4,
   "source": [
    "torch.manual_seed(1)"
   ],
   "outputs": [
    {
     "output_type": "execute_result",
     "data": {
      "text/plain": [
       "<torch._C.Generator at 0x28940da8f60>"
      ]
     },
     "metadata": {},
     "execution_count": 4
    }
   ],
   "metadata": {}
  },
  {
   "cell_type": "code",
   "execution_count": 5,
   "source": [
    "x_data = [[1, 2], [2, 3], [3, 1], [4, 3], [5, 3], [6, 2]]\r\n",
    "y_data = [[0], [0], [0], [1], [1], [1]]\r\n",
    "x_train = torch.FloatTensor(x_data)\r\n",
    "y_train = torch.FloatTensor(y_data)"
   ],
   "outputs": [],
   "metadata": {}
  },
  {
   "cell_type": "code",
   "execution_count": 6,
   "source": [
    "# 클래스로 모델 정의\r\n",
    "\r\n",
    "class BinaryClassifier(nn.Module):  # nn.Module을 상속\r\n",
    "    def __init__(self):             # __init__()으로 모델의 구조와 동작을 정의\r\n",
    "        super().__init__() \r\n",
    "        self.linear = nn.Linear(2, 1)\r\n",
    "        self.sigmoid = nn.Sigmoid()\r\n",
    "\r\n",
    "    def forward(self, x):           # 학습 데이터를 받아서 forward 연산을 진행\r\n",
    "        return self.sigmoid(self.linear(x))"
   ],
   "outputs": [],
   "metadata": {}
  },
  {
   "cell_type": "code",
   "execution_count": 7,
   "source": [
    "# 객체 생성\r\n",
    "model = BinaryClassifier()"
   ],
   "outputs": [],
   "metadata": {}
  },
  {
   "cell_type": "code",
   "execution_count": 15,
   "source": [
    "# optimizer 설정\r\n",
    "optimizer = optim.SGD(model.parameters(), lr=1)\r\n",
    "\r\n",
    "nb_epochs = 1000\r\n",
    "for epoch in range(nb_epochs + 1):\r\n",
    "\r\n",
    "    # H(x) 계산\r\n",
    "    hypothesis = model(x_train)\r\n",
    "\r\n",
    "    # cost 계산\r\n",
    "    cost = F.binary_cross_entropy(hypothesis, y_train)\r\n",
    "\r\n",
    "    # cost로 H(x) 개선\r\n",
    "    optimizer.zero_grad()\r\n",
    "    cost.backward()\r\n",
    "    optimizer.step()\r\n",
    "\r\n",
    "    # 20번마다 로그 출력\r\n",
    "    if epoch % 20 == 0:\r\n",
    "        prediction = hypothesis >= torch.FloatTensor([0.5])  # 0.5가 넘을 때만 True로\r\n",
    "        correct_prediction = prediction.float() == y_train   # 예측값이 실제값과 일치하는 경우만 True로 간주\r\n",
    "        accuracy = correct_prediction.sum().item() / len(correct_prediction)        # 정확도를 계산\r\n",
    "        print('Epoch : {:4d}/{}   Cost : {:.6f}   Accuracy : {:2.2f}%'.format(\r\n",
    "            epoch, nb_epochs, cost.item(), accuracy*100\r\n",
    "        ))"
   ],
   "outputs": [
    {
     "output_type": "stream",
     "name": "stdout",
     "text": [
      "Epoch :    0/1000   Cost : 0.527002   Accuracy : 83.33%\n",
      "Epoch :   20/1000   Cost : 0.570399   Accuracy : 83.33%\n",
      "Epoch :   40/1000   Cost : 0.388606   Accuracy : 83.33%\n",
      "Epoch :   60/1000   Cost : 0.235923   Accuracy : 83.33%\n",
      "Epoch :   80/1000   Cost : 0.155795   Accuracy : 100.00%\n",
      "Epoch :  100/1000   Cost : 0.133369   Accuracy : 100.00%\n",
      "Epoch :  120/1000   Cost : 0.117600   Accuracy : 100.00%\n",
      "Epoch :  140/1000   Cost : 0.105223   Accuracy : 100.00%\n",
      "Epoch :  160/1000   Cost : 0.095251   Accuracy : 100.00%\n",
      "Epoch :  180/1000   Cost : 0.087044   Accuracy : 100.00%\n",
      "Epoch :  200/1000   Cost : 0.080169   Accuracy : 100.00%\n",
      "Epoch :  220/1000   Cost : 0.074323   Accuracy : 100.00%\n",
      "Epoch :  240/1000   Cost : 0.069291   Accuracy : 100.00%\n",
      "Epoch :  260/1000   Cost : 0.064912   Accuracy : 100.00%\n",
      "Epoch :  280/1000   Cost : 0.061066   Accuracy : 100.00%\n",
      "Epoch :  300/1000   Cost : 0.057659   Accuracy : 100.00%\n",
      "Epoch :  320/1000   Cost : 0.054620   Accuracy : 100.00%\n",
      "Epoch :  340/1000   Cost : 0.051892   Accuracy : 100.00%\n",
      "Epoch :  360/1000   Cost : 0.049428   Accuracy : 100.00%\n",
      "Epoch :  380/1000   Cost : 0.047193   Accuracy : 100.00%\n",
      "Epoch :  400/1000   Cost : 0.045154   Accuracy : 100.00%\n",
      "Epoch :  420/1000   Cost : 0.043287   Accuracy : 100.00%\n",
      "Epoch :  440/1000   Cost : 0.041571   Accuracy : 100.00%\n",
      "Epoch :  460/1000   Cost : 0.039988   Accuracy : 100.00%\n",
      "Epoch :  480/1000   Cost : 0.038523   Accuracy : 100.00%\n",
      "Epoch :  500/1000   Cost : 0.037163   Accuracy : 100.00%\n",
      "Epoch :  520/1000   Cost : 0.035897   Accuracy : 100.00%\n",
      "Epoch :  540/1000   Cost : 0.034716   Accuracy : 100.00%\n",
      "Epoch :  560/1000   Cost : 0.033611   Accuracy : 100.00%\n",
      "Epoch :  580/1000   Cost : 0.032575   Accuracy : 100.00%\n",
      "Epoch :  600/1000   Cost : 0.031602   Accuracy : 100.00%\n",
      "Epoch :  620/1000   Cost : 0.030686   Accuracy : 100.00%\n",
      "Epoch :  640/1000   Cost : 0.029822   Accuracy : 100.00%\n",
      "Epoch :  660/1000   Cost : 0.029006   Accuracy : 100.00%\n",
      "Epoch :  680/1000   Cost : 0.028234   Accuracy : 100.00%\n",
      "Epoch :  700/1000   Cost : 0.027503   Accuracy : 100.00%\n",
      "Epoch :  720/1000   Cost : 0.026808   Accuracy : 100.00%\n",
      "Epoch :  740/1000   Cost : 0.026149   Accuracy : 100.00%\n",
      "Epoch :  760/1000   Cost : 0.025521   Accuracy : 100.00%\n",
      "Epoch :  780/1000   Cost : 0.024923   Accuracy : 100.00%\n",
      "Epoch :  800/1000   Cost : 0.024353   Accuracy : 100.00%\n",
      "Epoch :  820/1000   Cost : 0.023808   Accuracy : 100.00%\n",
      "Epoch :  840/1000   Cost : 0.023287   Accuracy : 100.00%\n",
      "Epoch :  860/1000   Cost : 0.022789   Accuracy : 100.00%\n",
      "Epoch :  880/1000   Cost : 0.022312   Accuracy : 100.00%\n",
      "Epoch :  900/1000   Cost : 0.021855   Accuracy : 100.00%\n",
      "Epoch :  920/1000   Cost : 0.021416   Accuracy : 100.00%\n",
      "Epoch :  940/1000   Cost : 0.020994   Accuracy : 100.00%\n",
      "Epoch :  960/1000   Cost : 0.020589   Accuracy : 100.00%\n",
      "Epoch :  980/1000   Cost : 0.020200   Accuracy : 100.00%\n",
      "Epoch : 1000/1000   Cost : 0.019825   Accuracy : 100.00%\n"
     ]
    }
   ],
   "metadata": {}
  }
 ],
 "metadata": {
  "orig_nbformat": 4,
  "language_info": {
   "name": "python",
   "version": "3.6.5",
   "mimetype": "text/x-python",
   "codemirror_mode": {
    "name": "ipython",
    "version": 3
   },
   "pygments_lexer": "ipython3",
   "nbconvert_exporter": "python",
   "file_extension": ".py"
  },
  "kernelspec": {
   "name": "python3",
   "display_name": "Python 3.6.5 64-bit ('chch': conda)"
  },
  "interpreter": {
   "hash": "fdd75c4cec139db88207ac7c4293bdcbae3543546183bc362ebf9b62ac7e89fe"
  }
 },
 "nbformat": 4,
 "nbformat_minor": 2
}