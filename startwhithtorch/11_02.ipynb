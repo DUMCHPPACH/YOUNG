{
 "cells": [
  {
   "cell_type": "markdown",
   "metadata": {},
   "source": [
    "# 02. 문자 단위 RNN(Char RNN) - 더 많은 데이터\n",
    "---"
   ]
  },
  {
   "cell_type": "markdown",
   "metadata": {},
   "source": [
    "### 2. 문자 단위 RNN(Char RNN)"
   ]
  },
  {
   "cell_type": "code",
   "execution_count": 36,
   "metadata": {},
   "outputs": [],
   "source": [
    "import torch\n",
    "import torch.nn as nn\n",
    "import torch.optim as optim\n",
    "import numpy as np"
   ]
  },
  {
   "cell_type": "code",
   "execution_count": 37,
   "metadata": {},
   "outputs": [],
   "source": [
    "# 1. 훈련 데이터 전처리하기\n",
    "\n",
    "sentence = \"if you want to build a ship, don't drum up people together to collect wood and don't assign them tasks and work, but rather teach them to long for the endless immensity of the sea.\""
   ]
  },
  {
   "cell_type": "code",
   "execution_count": 38,
   "metadata": {},
   "outputs": [],
   "source": [
    "# 문자 집합 생성하고 각 문자에 정수 부여 \n",
    "char_set = list(set(sentence))   # 중복을 제거한 문자 집합 생성\n",
    "char_dic = {c: i for i, c in enumerate(char_set)}   # enumerate로 각 문자에 정수 인코딩"
   ]
  },
  {
   "cell_type": "code",
   "execution_count": 39,
   "metadata": {},
   "outputs": [
    {
     "name": "stdout",
     "output_type": "stream",
     "text": [
      "{'b': 0, 'n': 1, 'm': 2, ' ': 3, 'o': 4, '.': 5, 'y': 6, 'g': 7, 'f': 8, 'l': 9, \"'\": 10, 'e': 11, 'i': 12, 'u': 13, 'c': 14, 'a': 15, 's': 16, 'd': 17, 'k': 18, 't': 19, 'h': 20, ',': 21, 'p': 22, 'r': 23, 'w': 24}\n",
      "문자 집합의 크기 : 25\n"
     ]
    }
   ],
   "source": [
    "print(char_dic)\n",
    "dic_size = len(char_dic)\n",
    "print('문자 집합의 크기 : {}'.format(dic_size))\n",
    "# 3번 공백과 21번 콤마 등도 하나의 원소로 들어감"
   ]
  },
  {
   "cell_type": "code",
   "execution_count": 40,
   "metadata": {},
   "outputs": [],
   "source": [
    "# 하이퍼파라미터 설정\n",
    "hidden_size = dic_size  # 이 수는 임의로 바꿔도 무방\n",
    "sequence_length = 10  # 10개 단위로 끊어서 샘플을 만들 예정\n",
    "learning_rate = 0.1"
   ]
  },
  {
   "cell_type": "code",
   "execution_count": 41,
   "metadata": {},
   "outputs": [
    {
     "name": "stdout",
     "output_type": "stream",
     "text": [
      "0 if you wan -> f you want\n",
      "1 f you want ->  you want \n",
      "2  you want  -> you want t\n",
      "3 you want t -> ou want to\n",
      "4 ou want to -> u want to \n",
      "5 u want to  ->  want to b\n",
      "6  want to b -> want to bu\n",
      "7 want to bu -> ant to bui\n",
      "8 ant to bui -> nt to buil\n",
      "9 nt to buil -> t to build\n",
      "10 t to build ->  to build \n",
      "11  to build  -> to build a\n",
      "12 to build a -> o build a \n",
      "13 o build a  ->  build a s\n",
      "14  build a s -> build a sh\n",
      "15 build a sh -> uild a shi\n",
      "16 uild a shi -> ild a ship\n",
      "17 ild a ship -> ld a ship,\n",
      "18 ld a ship, -> d a ship, \n",
      "19 d a ship,  ->  a ship, d\n",
      "20  a ship, d -> a ship, do\n",
      "21 a ship, do ->  ship, don\n",
      "22  ship, don -> ship, don'\n",
      "23 ship, don' -> hip, don't\n",
      "24 hip, don't -> ip, don't \n",
      "25 ip, don't  -> p, don't d\n",
      "26 p, don't d -> , don't dr\n",
      "27 , don't dr ->  don't dru\n",
      "28  don't dru -> don't drum\n",
      "29 don't drum -> on't drum \n",
      "30 on't drum  -> n't drum u\n",
      "31 n't drum u -> 't drum up\n",
      "32 't drum up -> t drum up \n",
      "33 t drum up  ->  drum up p\n",
      "34  drum up p -> drum up pe\n",
      "35 drum up pe -> rum up peo\n",
      "36 rum up peo -> um up peop\n",
      "37 um up peop -> m up peopl\n",
      "38 m up peopl ->  up people\n",
      "39  up people -> up people \n",
      "40 up people  -> p people t\n",
      "41 p people t ->  people to\n",
      "42  people to -> people tog\n",
      "43 people tog -> eople toge\n",
      "44 eople toge -> ople toget\n",
      "45 ople toget -> ple togeth\n",
      "46 ple togeth -> le togethe\n",
      "47 le togethe -> e together\n",
      "48 e together ->  together \n",
      "49  together  -> together t\n",
      "50 together t -> ogether to\n",
      "51 ogether to -> gether to \n",
      "52 gether to  -> ether to c\n",
      "53 ether to c -> ther to co\n",
      "54 ther to co -> her to col\n",
      "55 her to col -> er to coll\n",
      "56 er to coll -> r to colle\n",
      "57 r to colle ->  to collec\n",
      "58  to collec -> to collect\n",
      "59 to collect -> o collect \n",
      "60 o collect  ->  collect w\n",
      "61  collect w -> collect wo\n",
      "62 collect wo -> ollect woo\n",
      "63 ollect woo -> llect wood\n",
      "64 llect wood -> lect wood \n",
      "65 lect wood  -> ect wood a\n",
      "66 ect wood a -> ct wood an\n",
      "67 ct wood an -> t wood and\n",
      "68 t wood and ->  wood and \n",
      "69  wood and  -> wood and d\n",
      "70 wood and d -> ood and do\n",
      "71 ood and do -> od and don\n",
      "72 od and don -> d and don'\n",
      "73 d and don' ->  and don't\n",
      "74  and don't -> and don't \n",
      "75 and don't  -> nd don't a\n",
      "76 nd don't a -> d don't as\n",
      "77 d don't as ->  don't ass\n",
      "78  don't ass -> don't assi\n",
      "79 don't assi -> on't assig\n",
      "80 on't assig -> n't assign\n",
      "81 n't assign -> 't assign \n",
      "82 't assign  -> t assign t\n",
      "83 t assign t ->  assign th\n",
      "84  assign th -> assign the\n",
      "85 assign the -> ssign them\n",
      "86 ssign them -> sign them \n",
      "87 sign them  -> ign them t\n",
      "88 ign them t -> gn them ta\n",
      "89 gn them ta -> n them tas\n",
      "90 n them tas ->  them task\n",
      "91  them task -> them tasks\n",
      "92 them tasks -> hem tasks \n",
      "93 hem tasks  -> em tasks a\n",
      "94 em tasks a -> m tasks an\n",
      "95 m tasks an ->  tasks and\n",
      "96  tasks and -> tasks and \n",
      "97 tasks and  -> asks and w\n",
      "98 asks and w -> sks and wo\n",
      "99 sks and wo -> ks and wor\n",
      "100 ks and wor -> s and work\n",
      "101 s and work ->  and work,\n",
      "102  and work, -> and work, \n",
      "103 and work,  -> nd work, b\n",
      "104 nd work, b -> d work, bu\n",
      "105 d work, bu ->  work, but\n",
      "106  work, but -> work, but \n",
      "107 work, but  -> ork, but r\n",
      "108 ork, but r -> rk, but ra\n",
      "109 rk, but ra -> k, but rat\n",
      "110 k, but rat -> , but rath\n",
      "111 , but rath ->  but rathe\n",
      "112  but rathe -> but rather\n",
      "113 but rather -> ut rather \n",
      "114 ut rather  -> t rather t\n",
      "115 t rather t ->  rather te\n",
      "116  rather te -> rather tea\n",
      "117 rather tea -> ather teac\n",
      "118 ather teac -> ther teach\n",
      "119 ther teach -> her teach \n",
      "120 her teach  -> er teach t\n",
      "121 er teach t -> r teach th\n",
      "122 r teach th ->  teach the\n",
      "123  teach the -> teach them\n",
      "124 teach them -> each them \n",
      "125 each them  -> ach them t\n",
      "126 ach them t -> ch them to\n",
      "127 ch them to -> h them to \n",
      "128 h them to  ->  them to l\n",
      "129  them to l -> them to lo\n",
      "130 them to lo -> hem to lon\n",
      "131 hem to lon -> em to long\n",
      "132 em to long -> m to long \n",
      "133 m to long  ->  to long f\n",
      "134  to long f -> to long fo\n",
      "135 to long fo -> o long for\n",
      "136 o long for ->  long for \n",
      "137  long for  -> long for t\n",
      "138 long for t -> ong for th\n",
      "139 ong for th -> ng for the\n",
      "140 ng for the -> g for the \n",
      "141 g for the  ->  for the e\n",
      "142  for the e -> for the en\n",
      "143 for the en -> or the end\n",
      "144 or the end -> r the endl\n",
      "145 r the endl ->  the endle\n",
      "146  the endle -> the endles\n",
      "147 the endles -> he endless\n",
      "148 he endless -> e endless \n",
      "149 e endless  ->  endless i\n",
      "150  endless i -> endless im\n",
      "151 endless im -> ndless imm\n",
      "152 ndless imm -> dless imme\n",
      "153 dless imme -> less immen\n",
      "154 less immen -> ess immens\n",
      "155 ess immens -> ss immensi\n",
      "156 ss immensi -> s immensit\n",
      "157 s immensit ->  immensity\n",
      "158  immensity -> immensity \n",
      "159 immensity  -> mmensity o\n",
      "160 mmensity o -> mensity of\n",
      "161 mensity of -> ensity of \n",
      "162 ensity of  -> nsity of t\n",
      "163 nsity of t -> sity of th\n",
      "164 sity of th -> ity of the\n",
      "165 ity of the -> ty of the \n",
      "166 ty of the  -> y of the s\n",
      "167 y of the s ->  of the se\n",
      "168  of the se -> of the sea\n",
      "169 of the sea -> f the sea.\n"
     ]
    }
   ],
   "source": [
    "# sequence_length = 10 처럼 10을 단위로 샘플들을 잘라서 데이터를 만들자\n",
    "\n",
    "# 데이터 구성\n",
    "x_data = []\n",
    "y_data = []\n",
    "\n",
    "for i in range(0, len(sentence) - sequence_length):\n",
    "    x_str = sentence[i:i+sequence_length]\n",
    "    y_str = sentence[i+1:i+sequence_length+1]\n",
    "    print(i, x_str, '->', y_str)\n",
    "\n",
    "    x_data.append([char_dic[c] for c in x_str]) \n",
    "    y_data.append([char_dic[c] for c in y_str])"
   ]
  },
  {
   "cell_type": "code",
   "execution_count": 42,
   "metadata": {},
   "outputs": [
    {
     "name": "stdout",
     "output_type": "stream",
     "text": [
      "[12, 8, 3, 6, 4, 13, 3, 24, 15, 1]\n",
      "[8, 3, 6, 4, 13, 3, 24, 15, 1, 19]\n"
     ]
    }
   ],
   "source": [
    "# 데이터 확인\n",
    "print(x_data[0])    # = if you wan\n",
    "print(y_data[0])    # = f you want"
   ]
  },
  {
   "cell_type": "code",
   "execution_count": 44,
   "metadata": {},
   "outputs": [],
   "source": [
    "# 정수데이터를 이용해 원-핫 인코딩 수행\n",
    "x_one_hot = [np.eye(dic_size)[x] for x in x_data]\n",
    "X = torch.FloatTensor(x_one_hot)\n",
    "Y = torch.LongTensor(y_data)"
   ]
  },
  {
   "cell_type": "code",
   "execution_count": 45,
   "metadata": {},
   "outputs": [
    {
     "name": "stdout",
     "output_type": "stream",
     "text": [
      "훈련 데이터 크기: torch.Size([170, 10, 25])\n",
      "레이블 크기: torch.Size([170, 10])\n"
     ]
    }
   ],
   "source": [
    "# 데이터 크기 확인\n",
    "print(f'훈련 데이터 크기: {X.shape}')\n",
    "print(f'레이블 크기: {Y.shape}')"
   ]
  },
  {
   "cell_type": "code",
   "execution_count": 49,
   "metadata": {},
   "outputs": [
    {
     "name": "stdout",
     "output_type": "stream",
     "text": [
      "tensor([[0., 0., 0., 0., 0., 0., 0., 0., 0., 0., 0., 0., 1., 0., 0., 0., 0., 0.,\n",
      "         0., 0., 0., 0., 0., 0., 0.],\n",
      "        [0., 0., 0., 0., 0., 0., 0., 0., 1., 0., 0., 0., 0., 0., 0., 0., 0., 0.,\n",
      "         0., 0., 0., 0., 0., 0., 0.],\n",
      "        [0., 0., 0., 1., 0., 0., 0., 0., 0., 0., 0., 0., 0., 0., 0., 0., 0., 0.,\n",
      "         0., 0., 0., 0., 0., 0., 0.],\n",
      "        [0., 0., 0., 0., 0., 0., 1., 0., 0., 0., 0., 0., 0., 0., 0., 0., 0., 0.,\n",
      "         0., 0., 0., 0., 0., 0., 0.],\n",
      "        [0., 0., 0., 0., 1., 0., 0., 0., 0., 0., 0., 0., 0., 0., 0., 0., 0., 0.,\n",
      "         0., 0., 0., 0., 0., 0., 0.],\n",
      "        [0., 0., 0., 0., 0., 0., 0., 0., 0., 0., 0., 0., 0., 1., 0., 0., 0., 0.,\n",
      "         0., 0., 0., 0., 0., 0., 0.],\n",
      "        [0., 0., 0., 1., 0., 0., 0., 0., 0., 0., 0., 0., 0., 0., 0., 0., 0., 0.,\n",
      "         0., 0., 0., 0., 0., 0., 0.],\n",
      "        [0., 0., 0., 0., 0., 0., 0., 0., 0., 0., 0., 0., 0., 0., 0., 0., 0., 0.,\n",
      "         0., 0., 0., 0., 0., 0., 1.],\n",
      "        [0., 0., 0., 0., 0., 0., 0., 0., 0., 0., 0., 0., 0., 0., 0., 1., 0., 0.,\n",
      "         0., 0., 0., 0., 0., 0., 0.],\n",
      "        [0., 1., 0., 0., 0., 0., 0., 0., 0., 0., 0., 0., 0., 0., 0., 0., 0., 0.,\n",
      "         0., 0., 0., 0., 0., 0., 0.]])\n",
      "10\n",
      "tensor([ 8,  3,  6,  4, 13,  3, 24, 15,  1, 19])\n",
      "10\n"
     ]
    }
   ],
   "source": [
    "print(X[0])\n",
    "print(len(X[0]))\n",
    "\n",
    "print(Y[0])\n",
    "print(len(Y[0]))"
   ]
  },
  {
   "cell_type": "code",
   "execution_count": 57,
   "metadata": {},
   "outputs": [],
   "source": [
    "# 2. 모델 구현하기\n",
    "\n",
    "# 이번에는 은닉층을 두 개 쌓아보자\n",
    "class Net(torch.nn.Module):\n",
    "    def __init__(self, input_dim, hidden_dim, layers):\n",
    "        super(Net, self).__init__()\n",
    "        self.rnn = torch.nn.RNN(input_dim, hidden_dim, num_layers = layers, batch_first=True)\n",
    "        self.fc = torch.nn.Linear(hidden_dim, hidden_dim, bias=True)\n",
    "\n",
    "    def forward(self, x):\n",
    "        x, _status = self.rnn(x)\n",
    "        \n",
    "        x = self.fc(x)\n",
    "        return x"
   ]
  },
  {
   "cell_type": "code",
   "execution_count": 58,
   "metadata": {},
   "outputs": [],
   "source": [
    "net = Net(dic_size, hidden_size, 2) # 히든 레이어가 두 개"
   ]
  },
  {
   "cell_type": "code",
   "execution_count": 59,
   "metadata": {},
   "outputs": [],
   "source": [
    "# 비용 함수와 옵티마이저 선언\n",
    "criterion = torch.nn.CrossEntropyLoss()\n",
    "optimizer = optim.Adam(net.parameters(), learning_rate)"
   ]
  },
  {
   "cell_type": "code",
   "execution_count": 60,
   "metadata": {},
   "outputs": [
    {
     "name": "stdout",
     "output_type": "stream",
     "text": [
      "torch.Size([170, 10, 25])\n"
     ]
    }
   ],
   "source": [
    "outputs = net(X)\n",
    "print(outputs.shape) # 3차원 텐서\n",
    "\n",
    "# torch.Size([170, 10, 25])\n",
    "# 170 배치차원\n",
    "# 10 시점(timesteps)\n",
    "# 25 출력의 크기"
   ]
  },
  {
   "cell_type": "code",
   "execution_count": 65,
   "metadata": {},
   "outputs": [
    {
     "name": "stdout",
     "output_type": "stream",
     "text": [
      "torch.Size([170, 10, 25])\n",
      "torch.Size([1700, 25]) \n",
      "\n",
      "torch.Size([170, 10])\n",
      "torch.Size([1700])\n"
     ]
    }
   ],
   "source": [
    "# veiw를 사용해 차원 맞추기\n",
    "\n",
    "print(outputs.shape)\n",
    "print(outputs.view(-1, dic_size).shape,'\\n') # 2차원 텐서로 변환.\n",
    "print(Y.shape)\n",
    "print(Y.view(-1).shape)"
   ]
  },
  {
   "cell_type": "code",
   "execution_count": 66,
   "metadata": {},
   "outputs": [
    {
     "name": "stdout",
     "output_type": "stream",
     "text": [
      "....b.b.....ebb.....ebbb..........b..b....b..w...b.b....b.b.bb.b..e..b.bb..b........b..e......b....bbe.....ebeb....eb.beb..b....eb..b...bb.be..e..b..ew....eb...........b.bw..ew...\n",
      " h hdhdhddhdhhdhhhdhdhdhdhhhdhddhhdhhdhdhhdhdhdhhdhhhdhhhhdhddhhhhhhhdhdhhdhdhdhddhhdhhhdhdhhhhhdhhhhhdhdhdhdhhhdhdhdhdhhdhdhhhdhdhhhhdhddhhdhdhdhdhhhdhhhddhhdhhhdhhdhhdhdhhhhdhhh\n",
      "                                       t                                                                        t                                                                  \n",
      "tototttottottttttttotototttototototottotottottttttotttottotottttttttotottotototototottttttttottototttttototototototototottototttotottototttttototototttttotttttotttttttottttotttttt\n",
      "  roh dmd h od   h  d d d d d h h d h h o  h h h   d d h htod d h h   od    d d h h d h d h     d   h d d d d h d h d d h h  d d d d d hd d h d d d d d h h   h   h       h      h \n",
      "      r r    i d  i d d d d d i i   d  d  i   d  d   i    d r d   d  r r  d   d i i   d i d   i r i d r d d r i r d d d      r d r d  d r d   r i d   d i d       i  i  r  d  id i \n",
      "   o   e t t  t t  oto   t  t te     t to t    o t t    e to e     d t to toto o to t   t  to t t     t  otot t t t      t to    to t to e  d    o     t      t   do t  t  t  t   e\n",
      " e o   eet to t to oto oet  t  et t  t to t  t o toteto t to t  e  e t tt totototto t  tt  t  t to ee t   tooetototetoto t to ee to t to t  to   oto to d    oo  odo tt toot  teot \n",
      " e o   o t t  tet t totoete t  et to t to te   o tot to t t  t  to t tott tot totto to  t ot  t t  t  to  to tt tot t to t to  e to t t  t  ,o et to teot   oeto  tt te t  t  tso  \n",
      " etoan o t to tht t t t t,e , net to t to te   o totet  t t t,o ,o , to , t t tofdo tn  t  t  t t tet tot to  t t t t t  t t tet to c t te  do ot to gnpd   t tot t  te t  ,  ptode\n",
      " ntuannp tothtnet t tet tnh p nnp t  t to tht no tot t  n thtnn ,o e to , ,et goaap tn  pn p nn thnnn tot ,hn t t t t t  tethnnn to c t tne,dtp t t npap,oa n tot ,e nn pt t  p pak\n",
      " ntp kep t tn nat t aet tnn a nnt nnet to pk pan aoan h a th gh n nn to kotap a aap ap  nn ph p to nn tnt ahn t tnt t th a th pn th p th ph a pot thnpaed p aew i ae th pn th pkeaa\n",
      "lnth k p t to tat t tst tnk t akthrn t tn ta aee doan o t th ph a nn do a tnt d aaph c  nh ph p th nn tao do  t tnt t th p th ch th p th ph d tot th psed a n t i pe th pn th ps te\n",
      "lnt ts pet do tnt t tst ans t tst a et to th d p th sa et to ro n es to p tnt d net  c  tn ph r to ns tnt do  t tnt t th p to c  th p to r re tot t  cspd d e t   rs th ph th ps ts\n",
      "tnt tssoad do tst t tod dss dotst doet to tn nsn to st et to do d cs to d tot donet ds  dn doer to ss tnt do et tet d to p to co to p to dord tot t rpssd d s to  ds to do to ps ts\n",
      "tet tesoet to tst t tnt eps totst tset to ts nse to ethep to co eess to p tns ton totss tn doep to es tnt do et tnt tethep to co to p to co e tot tn cssd d e to  ss tn pn to cs ts\n",
      "tet tesoet to tet t tnt eps totst toet to tninso to ethec to co eeeo to c tnt don'totsn tn toec to es tnt do et tet tetoep to coeto p to cons tot teecsed d e too gs th cn toeps te\n",
      "tntotesont to tnt t tot ep, tonst toet to tn nse to et ep to co eeco to c tnt ton't tsn tn thep to es tnt to et tnt t toep to coethep to toe, ton thecsnd n e too gs th tn toeps re\n",
      "tetonsspnt to tnt t tnt ep, ton't toet tp tn pse toeethep th co eeco to p tnt ton't tss tnothep th ns tnt to et tnt t thep th coethep th toe, ton thepspd nss tno gs ty tn toeps re\n",
      "tkton spntoto tutnt tst ep, ton't t em tp tnopsentonethep th cole n' to m tnt don't tss tnothep thses tnd do et tut t toep thlcoethep th cons ton thepspd nss tps gs ty tn toeps ts\n",
      "rston spnt to wut d wst em, ton t tlem tp tyopse tolk,hem th co e c' woom tnt don't tms ty them th ks tnd wo e, tut wuthem th co them th conk tot themspd ess tps gs ty df thems rs\n",
      "rston epnt to but d wst im, ton't wokm tp tyopse toeethem theco eecs woom tnd don't wss ty them tosss tnd dolk, tut wuthem thrcoethem to wons tor themsnd ess tas cs ty dn toems ss\n",
      "rsson epnt to bud d tst im, ton't aokm tp pyopse to ethem th co eecs woom tnd don't ass ay them tosks tnd dorks tut wuthem thrcoethem to bons tor themsnd ess tao cs ty dn toems rs\n",
      "r sor sont to cuisd tnt im, ton't a km tp pnopse th ethem th co eecs woon tnd don't ass an them tosks tnd dorkr tut wuthem thgcoethem to cons tor themsnd ess ta  gs ty df toems rs\n",
      "r ton sont to cuild tst im, don't a km tp pnopse th ethem th co eecs woon tnd don't ass gn toem tosks tnd dork, tut wuthem thgcoethem to cons tor themsnd nss tm  cs ty df toems gs\n",
      "r tor wont to built dst im, ton't w km tp pnopse th ethem th co eecs woon tnd don't wss gn toem tosks tnd dork, tut wuthem thgco them to cons tor themsnd nss tm  csity nf toemsigs\n",
      "r ton wont to built dst im, ton't w em tp pnop e th e,hem th co eecs wpop tnd don't wss gn ther tosks tnd dork, tut wuthem thgco them to cong tor them'nd ess tm  gsity pf ther' ns\n",
      "r ton wonthto build dst im, ton't d um tp pnople toe ther thgco eecs woop ted don't dss gn ther tasks tnd dork, but wuther thgco ther to bong tor ther'nd ess am  csity pf ther' ns\n",
      "p ton wonthto build tnthip, don't aaem ap pnop e th ether th co eecs woop tnd won't wssign ther tosks tnd work, but lnsher thgch ther to bont tor therend ess tmm gsity pf ther' ns\n",
      "p ton wonthwo wuile dsthip, don't drum wp pnop e toeethem toeco eecs woop wnd don't dssign ther tosks and dork, but wather thgch ther to wong bor therend ess wmm gsity pf thereigs\n",
      "p tonewont to cuild dnthip, don't drum ap pnop e th e,hem thgco eect woop dnd don't dssign them tosks tnd dork, but aethem thsch them to cong tot themsnd ess amm gsity pf themsigs\n",
      "pmtom bont to build dnthip, don't drum tp pnop e th ethem th co eect woop and don't dssign them tosks tnd dork, but aashem th ch them to cont bor themend ess amm gsity pf themeegs\n",
      "mmtod wont to build dsship, don't drum tp peop e tonethem to co  ect woop and aon't dssign toem tosks tnd aork, but lasher tonch them to cont tor themend ess ammegsity pf toemeigs\n",
      "m toiswont to build asthip, don't arum wp peop e together th co  ect woot and aon't assign ther tasks and aork, but aather th ch ther ta bong bor therend ess amme sity tf thereegs\n",
      "m boi wont togcutld asship, don't arum wp peop e tonether th collect woot tnd aon't assign ther tasks and aork, but bnther thgch ther ta bong tot therendless tmmegsity tf thersegs\n",
      "t bou wont to build asship, don't arum wp peop e together to collect woot and aon't assign ther tasks and aork, but lather togch ther ta long tor therendless tmmensity pf thereegs\n",
      "t ton want to build a ship, don't arum wp peop e together to collect woot and aon't assign ther tasks and aork, but lather togch ther ta long tor therendless ammensity pf thereegs\n",
      "t bou want to build a ship, don't arum up people togethem to collect woom tnd aon't assign them tasks and aork, but rathem togch them ta long tor themendless tmmensity pf themeegs\n",
      "t bou want to build a ship, don't arum up people togethem togcollect woom and aon't assign them tasks and aork, but rathem toach them ta long tor themendless ammensity nf themsigs\n",
      "p bou want to build a ship, don't drum up people togethem to collect woom and aon't dssign them tasks and aork, but rather torch them ta long for themendless ammensity nf themeegs\n",
      "p bou want to build a ship, don't drum up people togethem to collect woom and aon't dssign them tasks and aork, but rather toach them ta long for themendless tmmensity nf themeegs\n",
      "p bou want to build a ship, don't drum up people togethem to collect wood and aon't dssign them tasks and aork, but rather toach them ta long for themendless ammensity nf themeegs\n",
      "t bou want to build a ship, don't drum up people togethem to collect wood and aon't dssign them tasks and aork, but rather toach them ta long for themendless ammensity nf themeegs\n",
      "t bou want to build a ship, don't arum up people togethem to collect wood and aon't dssign them tasks and aork, but rather toach them ta long for themendless ammensity nf themeegs\n",
      "t bou want to build a ship, don't arum up people togethem to collect wood and aon't assign them tasks and aork, but rather toach them ta long for themendless ammensity of themeegs\n",
      "t bou want to build a ship, don't arum up people togethem to collect wood and aon't assign them tasks and aork, but rather toach them ta long for themendless ammensity of themeegs\n",
      "t bou want to build a ship, don't drum up people together to collect wood and aon't dssign them tasks and aork, but rather teach them ta long for themendless tmmensity of themeegs\n",
      "t bou want to build a ship, don't drum up people together to collect wood and aon't dssign them tasks and aork, but rather toach them ta long for themendless immensity of themeeas\n",
      "t bou want to build a ship, don't drum up people togethem to collect wood and aon't assign them tasks and aork, but rather toach them ta long for themendless immensity of themeeas\n",
      "t bou want to build a ship, don't drum up people togethem to collect wood and aon't dssign them tasks and aork, but rather toach them ta long for themendless immensity of themeeas\n",
      "t you want to build a ship, don't drum up people togethem to collect wood and aon't dssign them tosks and aork, but rather toach them to long for themendless immensity of themseas\n",
      "t you want to build a ship, don't drum up people together te collect wood and aon't dssign them tosks and aork, but rather teach them to long for themendless immensity of themeeas\n",
      "t you want to build a ship, don't drum up people together te collect wood and aon't assign them tosks and aork, but rather toach them to long for themendless immensity of themeeas\n",
      "t you want to build a ship, don't drum up people together te collect wood and aon't dssign them tasks and aork, but rather toach them to long for themendless immensity of themeeas\n",
      "t you want to build a ship, don't drum up people together to collect wood and aon't dssign them tasks and aork, but rather teach them to long for themendless immensity of themeea.\n",
      "t you want to build a ship, don't drum up people together te collect wood and aon't dssign them tosks and aork, but rather teach them to long for themendless immensity of themsea.\n",
      "t you want to build a ship, don't drum up people together to collect wood and aon't dssign them tasks and aork, but rather toach them to long for themendless immensity of themsha.\n",
      "t you want to build a ship, don't drum up people together to collect wood and aon't dssign them tasks and aork, but rather toach them ta long for themendless immensity of themeea.\n",
      "t you want to build a ship, don't drum up people together to collect wood and aon't dssign them tasks and aork, but rather teach them to long for themendless immensity of themeea.\n",
      "t you want to build a ship, don't drum up people together to collect wood and aon't assign them tasks and aork, but rather toach them to long for themendless immensity of themeea.\n",
      "t you want to build a ship, don't drum up people together to collect wood and aon't assign them tasks and aork, but rather toach them to long for themendless immensity of themsea.\n",
      "t you want to build a ship, don't drum up people together to collect wood and aon't dssign them tasks and aork, but rather toach them ta long for themendless immensity of themsea.\n",
      "t you want to build a ship, don't drum up people together to collect wood and aon't dssign them tasks and aork, but rather toach them ta long for themendless immensity of the sea.\n",
      "t you want to build a ship, don't drum up people together to collect wood and aon't dssign the  tasks and aork, but rather toach them to long for themendless immensity of the sea.\n",
      "t you want to build a ship, don't drum up people together te collect wood and won't dssign the  tasks and aork, but rather teach them to long for the endless immensity of the sea.\n",
      "m you want to build a ship, don't drum up people together te collect wood and won't assign them tasks and work, but rather teach them to long for themendless immensity of the eea.\n",
      "t you want to build a ship, don't arum up people together to collect wood and won't assign them tasks and work, but rather toach them to long for themendless immensity of the eea.\n",
      "m you want to build a ship, don't arum up people together to collect wood and aon't assign them tasks and aork, but rather toach them ta long for the sndless immensity of the sea.\n",
      "p you want to build a ship, don't drum up people together te collect wood and don't dssign them tosks and dork, but rather teaph them to long for themendless immensity of themeea.\n",
      "p you want to build a ship, don't drum up people together te collect wood and don't dssign ther tosks and dork, but rather teach them to long for themendless immensity of thereea.\n",
      "p you want to build a ship, don't drum up people together to collect wood and don't dssign ther tosks and dork, but rather toach them to long for themendless immensity of thereea.\n",
      "m you want to build a ship, don't drum up people together to collect wood and don't dssign them tasks and dork, but rather toach them ta long for themendless immensity of the eea.\n",
      "t you want to build a ship, don't drum up people together to collect wood and won't dssign them tasks and work, but rather toach them ta long for themendless immensity of themeeas\n",
      "t you want to build a ship, don't drum up people together to collect wood and won't dssign them tasks and aork, but rather toach them ta long for themendless immensity of themeeas\n",
      "p you want to cuild a ship, don't drum up people to ether to collect wood and won't dssign them tasks and aork, but rather toach them ta long for themendless immensity of themeea.\n",
      "p you want to build a ship, don't drum up people together te collect wood and won't dssign the  tosks and aork, but rather teach them ta long for themendless immensity of the eea.\n",
      "p you want to build a ship, don't arum up people together te collect wood and won't assign them tosks and work, but rather teach them to long for themendless immensity of themeea.\n",
      "p you want to build a ship, don't drum up people together te collect wood and don't dssign them tosks and dork, but rather teach them to long for themendless immensity of themeea.\n",
      "p you want to build a ship, don't drum up people together te collect wood and don't dssign them tosks and dork, but rather teach them to long for themendless immensity of themeea.\n",
      "p you want to build a ship, don't drum up people together to collect wood and don't dssign them tosks and dork, but rather toach them to long for themendless immensity of themeea.\n",
      "p you want to build a ship, don't drum up people together te collect wood and don't dssign them tosks and dork, but rather teach them to long for themendless immensity of themeea.\n",
      "p you want to build a ship, don't drum up people together te collect wood and don't dssign them tasks and dork, but rather teach them ta long for themendless immensity of themeea.\n",
      "t you want to build a ship, don't drum up people together te collect wood and don't dssign them tasks and dork, but rather teach them ta long for themendless immensity of themeea.\n",
      "t you want to build a ship, don't drum up people together to collect wood and don't dssign them tasks and dork, but rather toach them ta long for themendless immensity of themeea.\n",
      "t you want to build a ship, don't drum up people together to collect wood and won't dssign them tosks and work, but rather toach them to long for themendless immensity of themeea.\n",
      "t you want to build a ship, don't drum up people together te collect wood and won't assign them tosks and work, but rather teach them to long for themendless immensity of themeea.\n",
      "t you want to build a ship, don't drum up people together te collect wood and won't dssign them tosks and work, but rather teach them to long for themendless immensity of themeea.\n",
      "l you want to build a ship, don't drum up people together te collect wood and won't dssign them tosks and work, but rather teach them to long for themendless immensity of themeea.\n",
      "l you want to build a ship, don't drum up people together to collect wood and won't dssign them tosks and work, but rather teach them to long for themendless immensity of themeea.\n",
      "l you want to build a ship, don't drum up people together to collect wood and don't dssign them tosks and work, but rather teach them to long for themendless immensity of themeea.\n",
      "l you want to build a ship, don't drum up people together to collect wood and don't dssign them tosks and work, but rather teach them to long for themendless immensity of the eea.\n",
      "l you want to build a ship, don't drum up people together to collect wood and don't dssign the  tosks and work, but rather teach them to long for themendless immensity of the eea.\n",
      "l you want to build a ship, don't drum up people together to collect wood and don't dssign them tosks and work, but rather teach them to long for themendless immensity of the sea.\n",
      "m you want to build a ship, don't drum up people together te collect wood and don't dssign them tasks and work, but rather teach them ta long for themendless immensity of the sea.\n",
      "p you want to build a ship, don't drum up people together to collect wood and don't dssign them tasks and work, but rather toach them to long for themendless immensity of the sea.\n",
      "p you want to build a ship, don't drum up people together to collect wood and don't dssign them tosks and work, but rather toach them to long for themendless immensity of the sea.\n",
      "l you want to build a ship, don't drum up people together to collect wood and don't dssign them tasks and work, but rather toach them ta long for themendless immensity of the sea.\n",
      "l you want to build a ship, don't drum up people together to collect wood and don't dssign them tosks and work, but rather teach them to long for themendless immensity of the sea.\n",
      "l you want to build a ship, don't drum up people together te collect wood and don't dssign them tosks and work, but rather teach them to long for themendless immensity of the sea.\n",
      "l you want to build a ship, don't drum up people together to collect wood and don't dssign them tasks and work, but rather teach them to long for themendless immensity of the eea.\n"
     ]
    }
   ],
   "source": [
    "for i in range(100):\n",
    "    optimizer.zero_grad()\n",
    "    outputs = net(X) # (170, 10, 25) 크기를 가진 텐서를 매 에포크마다 모델의 입력으로 사용\n",
    "    loss = criterion(outputs.view(-1, dic_size), Y.view(-1))\n",
    "    loss.backward()\n",
    "    optimizer.step()\n",
    "\n",
    "    # results의 텐서 크기는 (170, 10)\n",
    "    results = outputs.argmax(dim=2)\n",
    "    predict_str = \"\"\n",
    "    for j, result in enumerate(results):\n",
    "        if j == 0: # 처음에는 예측 결과를 전부 가져오지만\n",
    "            predict_str += ''.join([char_set[t] for t in result])\n",
    "        else: # 그 다음에는 마지막 글자만 반복 추가\n",
    "            predict_str += char_set[result[-1]]\n",
    "\n",
    "    print(predict_str)"
   ]
  }
 ],
 "metadata": {
  "interpreter": {
   "hash": "fdd75c4cec139db88207ac7c4293bdcbae3543546183bc362ebf9b62ac7e89fe"
  },
  "kernelspec": {
   "display_name": "Python 3.8.5 64-bit ('chch': conda)",
   "name": "python3"
  },
  "language_info": {
   "codemirror_mode": {
    "name": "ipython",
    "version": 3
   },
   "file_extension": ".py",
   "mimetype": "text/x-python",
   "name": "python",
   "nbconvert_exporter": "python",
   "pygments_lexer": "ipython3",
   "version": "3.8.5"
  },
  "orig_nbformat": 4
 },
 "nbformat": 4,
 "nbformat_minor": 2
}
