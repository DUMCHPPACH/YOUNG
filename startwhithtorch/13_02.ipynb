{
 "cells": [
  {
   "cell_type": "code",
   "execution_count": 77,
   "metadata": {},
   "outputs": [],
   "source": [
    "# https://wikidocs.net/66747"
   ]
  },
  {
   "cell_type": "markdown",
   "metadata": {},
   "source": [
    "## 02. 양방향 RNN을 이용한 품사 태깅"
   ]
  },
  {
   "cell_type": "code",
   "execution_count": 78,
   "metadata": {},
   "outputs": [],
   "source": [
    "import torch\n",
    "import torch.nn as nn\n",
    "import torch.nn.functional as F\n",
    "import torch.optim as optim\n",
    "from torchtext.legacy import data\n",
    "from torchtext.legacy import datasets\n",
    "import time\n",
    "import random"
   ]
  },
  {
   "cell_type": "code",
   "execution_count": 79,
   "metadata": {},
   "outputs": [
    {
     "data": {
      "text/plain": [
       "<torch._C.Generator at 0x1e1613513b0>"
      ]
     },
     "execution_count": 79,
     "metadata": {},
     "output_type": "execute_result"
    }
   ],
   "source": [
    "SEED = 1234\n",
    "random.seed(SEED)\n",
    "torch.manual_seed(SEED)"
   ]
  },
  {
   "cell_type": "code",
   "execution_count": 80,
   "metadata": {},
   "outputs": [
    {
     "data": {
      "text/plain": [
       "device(type='cuda')"
      ]
     },
     "execution_count": 80,
     "metadata": {},
     "output_type": "execute_result"
    }
   ],
   "source": [
    "device = torch.device('cuda' if torch.cuda.is_available() else 'cpu')\n",
    "device"
   ]
  },
  {
   "cell_type": "markdown",
   "metadata": {},
   "source": [
    "### 2. 훈련 데이터에 대한 이해"
   ]
  },
  {
   "cell_type": "code",
   "execution_count": 81,
   "metadata": {},
   "outputs": [],
   "source": [
    "# 이번에도 토치 텍스트를 이용해보자\n",
    "\n",
    "# 1. 필드 정의하기\n",
    "# 이번에 사용할 데이터는 총 3개의 열, 즉 3개의 필드를 갖고 있다. 레이블은 총 2개.\n",
    "# 이중 1개만 사용할 것인데 원만하게 데이터를 불러오기 위해 우선 3개 모두 필드를 정의해주자"
   ]
  },
  {
   "cell_type": "code",
   "execution_count": 82,
   "metadata": {},
   "outputs": [],
   "source": [
    "# 3개의 필드 정의\n",
    "TEXT = data.Field(lower = True) \n",
    "UD_TAGS = data.Field(unk_token = None)\n",
    "PTB_TAGS = data.Field(unk_token = None)\n",
    "\n",
    "fields = (('text', TEXT), ('udtags', UD_TAGS), ('ptbtags', PTB_TAGS))"
   ]
  },
  {
   "cell_type": "code",
   "execution_count": 83,
   "metadata": {},
   "outputs": [],
   "source": [
    "# 2. 데이터셋 만들기\n",
    "# 토치텍스트에서 제공하는 훈련 데이터를 불러오는 동시에 데이터셋을 만들어보자. 훈련/검증/테스트로 나누자\n",
    "# UDPOS(SequenceTaggingDataset)\n",
    "train_data, valid_data, test_data = datasets.UDPOS.splits(fields)"
   ]
  },
  {
   "cell_type": "code",
   "execution_count": 84,
   "metadata": {},
   "outputs": [
    {
     "name": "stdout",
     "output_type": "stream",
     "text": [
      "훈련 샘플의 개수: 12543\n",
      "검증 샘플의 개수: 2002\n",
      "테스트 샘플의 개수: 2077\n"
     ]
    }
   ],
   "source": [
    "# 훈련/검증/테스트의 크기를 확인\n",
    "print(f'훈련 샘플의 개수: {len(train_data)}')\n",
    "print(f'검증 샘플의 개수: {len(valid_data)}')\n",
    "print(f'테스트 샘플의 개수: {len(test_data)}')"
   ]
  },
  {
   "cell_type": "code",
   "execution_count": 85,
   "metadata": {},
   "outputs": [
    {
     "name": "stdout",
     "output_type": "stream",
     "text": [
      "{'text': <torchtext.legacy.data.field.Field object at 0x000001E19B72CB20>, 'udtags': <torchtext.legacy.data.field.Field object at 0x000001E19B72CB50>, 'ptbtags': <torchtext.legacy.data.field.Field object at 0x000001E19B72CAF0>}\n"
     ]
    }
   ],
   "source": [
    "# 데이터셋을 생성했으니 훈련 데이터의 필드들을 출력해서 확인 해보자\n",
    "print(train_data.fields)"
   ]
  },
  {
   "cell_type": "code",
   "execution_count": 86,
   "metadata": {},
   "outputs": [
    {
     "name": "stdout",
     "output_type": "stream",
     "text": [
      "['al', '-', 'zaman', ':', 'american', 'forces', 'killed', 'shaikh', 'abdullah', 'al', '-', 'ani', ',', 'the', 'preacher', 'at', 'the', 'mosque', 'in', 'the', 'town', 'of', 'qaim', ',', 'near', 'the', 'syrian', 'border', '.']\n",
      "['PROPN', 'PUNCT', 'PROPN', 'PUNCT', 'ADJ', 'NOUN', 'VERB', 'PROPN', 'PROPN', 'PROPN', 'PUNCT', 'PROPN', 'PUNCT', 'DET', 'NOUN', 'ADP', 'DET', 'NOUN', 'ADP', 'DET', 'NOUN', 'ADP', 'PROPN', 'PUNCT', 'ADP', 'DET', 'ADJ', 'NOUN', 'PUNCT']\n",
      "['NNP', 'HYPH', 'NNP', ':', 'JJ', 'NNS', 'VBD', 'NNP', 'NNP', 'NNP', 'HYPH', 'NNP', ',', 'DT', 'NN', 'IN', 'DT', 'NN', 'IN', 'DT', 'NN', 'IN', 'NNP', ',', 'IN', 'DT', 'JJ', 'NN', '.']\n"
     ]
    }
   ],
   "source": [
    "# 훈련 데이터의 첫번째 샘플에서 text와 두 개의 레이블을 모두 출력해보자\n",
    "\n",
    "# 첫번째 훈련 샘플의 text 필드\n",
    "print(vars(train_data.examples[0])['text'])\n",
    "# 이 필드에는 2개의 레이블이 있다. 사용할 것이 udtags 이고 사용하지 않을 것이 ptbtags 이다.\n",
    "print(vars(train_data.examples[0])['udtags'])\n",
    "print(vars(train_data.examples[0])['ptbtags'])\n"
   ]
  },
  {
   "cell_type": "code",
   "execution_count": 87,
   "metadata": {},
   "outputs": [],
   "source": [
    "# 3. 단어 집합(vocabulary) 만들기\n",
    "# 이제 단어 집합을 생성해보자\n",
    "# 그리고 단어 집합을 생성 시에 사전 훈련된 워드 임베딩인 Glove을 사용해보자\n",
    "\n",
    "# 최소 허용 빈도\n",
    "MIN_FREQ = 5\n",
    "\n",
    "# 사전 훈련된 워드 임베딩 Glove 다운로드\n",
    "TEXT.build_vocab(train_data, min_freq = MIN_FREQ, vectors = \"glove.6B.100d\")\n",
    "UD_TAGS.build_vocab(train_data)\n",
    "PTB_TAGS.build_vocab(train_data)"
   ]
  },
  {
   "cell_type": "code",
   "execution_count": 88,
   "metadata": {},
   "outputs": [
    {
     "name": "stdout",
     "output_type": "stream",
     "text": [
      "[('the', 9076), ('.', 8640), (',', 7021), ('to', 5137), ('and', 5002), ('a', 3782), ('of', 3622), ('i', 3379), ('in', 3112), ('is', 2239), ('you', 2156), ('that', 2036), ('it', 1850), ('for', 1842), ('-', 1426), ('have', 1359), ('\"', 1296), ('on', 1273), ('was', 1244), ('with', 1216)]\n"
     ]
    }
   ],
   "source": [
    "# 상위 빈도수 20개 단어를 확인해보자\n",
    "print(TEXT.vocab.freqs.most_common(20))\n",
    "\n",
    "# 영어는 기본적으로 the의 빈도수가 가장 많다.\n",
    "# 토치텍스트는 빈도수가 가장 높은 단어부터 작은 숫자를 부여한다.\n",
    "# 물론 <unk>는 0번, <pad>는 1번으로 자동 부여하고 시작한다."
   ]
  },
  {
   "cell_type": "code",
   "execution_count": 89,
   "metadata": {},
   "outputs": [
    {
     "name": "stdout",
     "output_type": "stream",
     "text": [
      "['<unk>', '<pad>', 'the', '.', ',', 'to', 'and', 'a', 'of', 'i']\n"
     ]
    }
   ],
   "source": [
    "# 상위 정수 인덱스를 가진 10개의 단어를 확인해보자. 다시 말해 0~9번까지의 단어를 확인해보자\n",
    "print(TEXT.vocab.itos[:10])"
   ]
  },
  {
   "cell_type": "code",
   "execution_count": 90,
   "metadata": {},
   "outputs": [
    {
     "name": "stdout",
     "output_type": "stream",
     "text": [
      "[('the', 9076), ('.', 8640), (',', 7021), ('to', 5137), ('and', 5002), ('a', 3782), ('of', 3622), ('i', 3379), ('in', 3112), ('is', 2239)]\n"
     ]
    }
   ],
   "source": [
    "# 단어가 몇번 나왔는지 빈도수까지 확인하자\n",
    "print(TEXT.vocab.freqs.most_common(10))"
   ]
  },
  {
   "cell_type": "code",
   "execution_count": 91,
   "metadata": {},
   "outputs": [
    {
     "name": "stdout",
     "output_type": "stream",
     "text": [
      "[('NOUN', 34781), ('PUNCT', 23679), ('VERB', 23081), ('PRON', 18577), ('ADP', 17638), ('DET', 16285), ('PROPN', 12946), ('ADJ', 12477), ('AUX', 12343), ('ADV', 10548), ('CCONJ', 6707), ('PART', 5567), ('NUM', 3999), ('SCONJ', 3843), ('X', 847), ('INTJ', 688), ('SYM', 599)]\n"
     ]
    }
   ],
   "source": [
    "# 이번에는 레이블의 단어 집합에 대해 빈도수가 가장 높은 단어들과 그 빈도수를 출력해보자\n",
    "\n",
    "# 상위 빈도순으로 udtags 출력\n",
    "print(UD_TAGS.vocab.freqs.most_common())\n",
    "\n",
    "# 전부 출력한 결과가 아래이다. 결과로 보았을 때 형태소를 구분하려 레이블을 나누었다."
   ]
  },
  {
   "cell_type": "code",
   "execution_count": 92,
   "metadata": {},
   "outputs": [
    {
     "name": "stdout",
     "output_type": "stream",
     "text": [
      "['<pad>', 'NOUN', 'PUNCT', 'VERB', 'PRON', 'ADP', 'DET', 'PROPN', 'ADJ', 'AUX']\n"
     ]
    }
   ],
   "source": [
    "# UD_TAGS 의 상위 정수 인덱스 10개 단어를 확인해보자\n",
    "print(UD_TAGS.vocab.itos[:10])"
   ]
  },
  {
   "cell_type": "code",
   "execution_count": 93,
   "metadata": {},
   "outputs": [],
   "source": [
    "# 레이블에 속한 단어들의 분포를 확인하자\n",
    "\n",
    "# 태그 레이블의 분포를 확인하는 함수. tag_counts에 UD_TAGS.vocab.freqs.most_common() 이 들어갈 것이다.\n",
    "def tag_percentage(tag_counts):\n",
    "    total_count = sum([count for tag, count in tag_counts])\n",
    "    tag_counts_percentages  = [(tag, count, count/total_count) for tag, count in tag_counts]\n",
    "\n",
    "    return tag_counts_percentages"
   ]
  },
  {
   "cell_type": "code",
   "execution_count": 94,
   "metadata": {},
   "outputs": [
    {
     "name": "stdout",
     "output_type": "stream",
     "text": [
      "Tag Occurences Percentage\n",
      "\n",
      "NOUN\t34781\t17.0%\n",
      "PUNCT\t23679\t11.6%\n",
      "VERB\t23081\t11.3%\n",
      "PRON\t18577\t 9.1%\n",
      "ADP\t17638\t 8.6%\n",
      "DET\t16285\t 8.0%\n",
      "PROPN\t12946\t 6.3%\n",
      "ADJ\t12477\t 6.1%\n",
      "AUX\t12343\t 6.0%\n",
      "ADV\t10548\t 5.2%\n",
      "CCONJ\t6707\t 3.3%\n",
      "PART\t5567\t 2.7%\n",
      "NUM\t3999\t 2.0%\n",
      "SCONJ\t3843\t 1.9%\n",
      "X\t847\t 0.4%\n",
      "INTJ\t688\t 0.3%\n",
      "SYM\t599\t 0.3%\n"
     ]
    }
   ],
   "source": [
    "print('Tag Occurences Percentage\\n')\n",
    "\n",
    "for tag, count, percent in tag_percentage(UD_TAGS.vocab.freqs.most_common()):\n",
    "    print(f'{tag}\\t{count}\\t{percent*100:4.1f}%')"
   ]
  },
  {
   "cell_type": "code",
   "execution_count": 95,
   "metadata": {},
   "outputs": [],
   "source": [
    "# 4. 데이터로더 만들기\n",
    "\n",
    "# 이제 데이터로더를 만들자. 배치 크기는 64로 한다\n",
    "\n",
    "BATCH_SIZE = 64\n",
    "\n",
    "train_iterator, valid_iterator, test_iterator = data.BucketIterator.splits(\n",
    "    (train_data, valid_data, test_data), \n",
    "    batch_size = BATCH_SIZE,\n",
    "    device = device)"
   ]
  },
  {
   "cell_type": "code",
   "execution_count": 96,
   "metadata": {},
   "outputs": [
    {
     "data": {
      "text/plain": [
       "\n",
       "[torchtext.legacy.data.batch.Batch of size 64 from UDPOS]\n",
       "\t[.text]:[torch.cuda.LongTensor of size 46x64 (GPU 0)]\n",
       "\t[.udtags]:[torch.cuda.LongTensor of size 46x64 (GPU 0)]\n",
       "\t[.ptbtags]:[torch.cuda.LongTensor of size 46x64 (GPU 0)]"
      ]
     },
     "execution_count": 96,
     "metadata": {},
     "output_type": "execute_result"
    }
   ],
   "source": [
    "# 첫번째 미니 배치만 꺼내서 미니 배치의 구성, 크기, text를 출력해보자\n",
    "batch = next(iter(train_iterator))\n",
    "batch"
   ]
  },
  {
   "cell_type": "code",
   "execution_count": 97,
   "metadata": {},
   "outputs": [
    {
     "data": {
      "text/plain": [
       "torch.Size([46, 64])"
      ]
     },
     "execution_count": 97,
     "metadata": {},
     "output_type": "execute_result"
    }
   ],
   "source": [
    "# 첫 번째 미니 배치의 text의 크기를 출력해보자\n",
    "batch.text.shape\n",
    "\n",
    "# 이 크기는 [시퀀스 길이, 배치 크기] 이다.\n",
    "# batch_first = True 하지 않아서 배치 크기가 두번째 차원으로 들어간다"
   ]
  },
  {
   "cell_type": "code",
   "execution_count": 98,
   "metadata": {},
   "outputs": [
    {
     "data": {
      "text/plain": [
       "tensor([[ 732,  167,    2,  ...,    2,   59,  668],\n",
       "        [  16,  196,  133,  ..., 2991,   46,    1],\n",
       "        [   1,   29,   48,  ..., 1582,   12,    1],\n",
       "        ...,\n",
       "        [   1,    1,    1,  ...,    1,    1,    1],\n",
       "        [   1,    1,    1,  ...,    1,    1,    1],\n",
       "        [   1,    1,    1,  ...,    1,    1,    1]], device='cuda:0')"
      ]
     },
     "execution_count": 98,
     "metadata": {},
     "output_type": "execute_result"
    }
   ],
   "source": [
    "# 첫번째 미니 배치의 text를 확인해보자\n",
    "batch.text"
   ]
  },
  {
   "cell_type": "code",
   "execution_count": 99,
   "metadata": {},
   "outputs": [],
   "source": [
    "# 3. 모델 구현하기\n",
    "\n",
    "# 이제 모델을 구현하자. 기본적으로 다대다 RNN을 사용하자\n",
    "# 일단 양방향 여부와 층의 개수는 변수로 둔다\n",
    "# 이번 모델에서는 batch_first=True를 사용하지 않았으므로 배치 차원이 맨 앞이 아니다\n",
    "\n",
    "class RNNPOSTagger(nn.Module):\n",
    "    def __init__(self, vocab_size, embedding_dim, hidden_dim, output_dim, n_layers, bidirectional, dropout): \n",
    "        super().__init__()\n",
    "\n",
    "        self.embedding = nn.Embedding(vocab_size, embedding_dim)\n",
    "        self.rnn = nn.LSTM(embedding_dim, hidden_dim, num_layers = n_layers, bidirectional = bidirectional)\n",
    "        self.fc = nn.Linear(hidden_dim * 2 if bidirectional else hidden_dim, output_dim)        \n",
    "        self.dropout = nn.Dropout(dropout)\n",
    "\n",
    "    def forward(self, text):\n",
    "        # text = [sent len, batch size]\n",
    "        embedded = self.dropout(self.embedding(text))\n",
    "\n",
    "        # embedded = [sent len, batch size, emb dim]\n",
    "        outputs, (hidden, cell) = self.rnn(embedded)\n",
    "\n",
    "        # output = [sent len, batch size, hid dim * n directions]\n",
    "        # hidden/cell = [n layers * n directions, batch size, hid dim]\n",
    "        predictions = self.fc(self.dropout(outputs))\n",
    "\n",
    "        # predictions = [sent len, batch size, output dim]\n",
    "        return predictions"
   ]
  },
  {
   "cell_type": "code",
   "execution_count": 100,
   "metadata": {},
   "outputs": [],
   "source": [
    "# 실제 클래스로부터 모델 객체로 생성 시에 양방향 여부 True, 층 개수 2 로 지정하자\n",
    "\n",
    "INPUT_DIM = len(TEXT.vocab)\n",
    "EMBEDDING_DIM = 100\n",
    "HIDDEN_DIM = 128\n",
    "OUTPUT_DIM = len(UD_TAGS.vocab)\n",
    "N_LAYERS = 2\n",
    "BIDIRECTIONAL = True\n",
    "DROPOUT = 0.25\n",
    "\n",
    "model = RNNPOSTagger(INPUT_DIM, \n",
    "                     EMBEDDING_DIM, \n",
    "                     HIDDEN_DIM, \n",
    "                     OUTPUT_DIM, \n",
    "                     N_LAYERS, \n",
    "                     BIDIRECTIONAL, \n",
    "                     DROPOUT)"
   ]
  },
  {
   "cell_type": "code",
   "execution_count": 101,
   "metadata": {},
   "outputs": [
    {
     "name": "stdout",
     "output_type": "stream",
     "text": [
      "The model has 1,027,510 trainable parameters\n"
     ]
    }
   ],
   "source": [
    "# 파라미터 개수를 확인해보자\n",
    "\n",
    "def count_parameters(model):\n",
    "    return sum(p.numel() for p in model.parameters() if p.requires_grad)\n",
    "\n",
    "print(f'The model has {count_parameters(model):,} trainable parameters')"
   ]
  },
  {
   "cell_type": "code",
   "execution_count": 102,
   "metadata": {},
   "outputs": [
    {
     "name": "stdout",
     "output_type": "stream",
     "text": [
      "torch.Size([3921, 100])\n"
     ]
    }
   ],
   "source": [
    "# 4. 사전 훈현된 워드 임베딩 사용하기\n",
    "\n",
    "# 사전 훈련된 워드 임베딩인 Glove를 사용하자\n",
    "# 이를 위해 토치텍스트의 단어 집합 생성 시에 저장해두었던 Glove 임베딩을 nn.Embedding()에 연결해야 한다\n",
    "# 우선 단어 집합의 단어들에 맵핑된 사전 훈련된 워드 임베딩을 확인해보자\n",
    "\n",
    "pretrained_embeddings = TEXT.vocab.vectors\n",
    "print(pretrained_embeddings.shape)\n",
    "# 단어 집합에 존재하는 총 3,921개의 단어에 대해 100 차원의 벡터가 맵핑되어져 있다.\n",
    "# 이제 이를 nn.Embedding()에 연결해주자"
   ]
  },
  {
   "cell_type": "code",
   "execution_count": 103,
   "metadata": {},
   "outputs": [
    {
     "data": {
      "text/plain": [
       "tensor([[ 0.0000,  0.0000,  0.0000,  ...,  0.0000,  0.0000,  0.0000],\n",
       "        [ 0.0000,  0.0000,  0.0000,  ...,  0.0000,  0.0000,  0.0000],\n",
       "        [-0.0382, -0.2449,  0.7281,  ..., -0.1459,  0.8278,  0.2706],\n",
       "        ...,\n",
       "        [-0.1020,  0.7700,  0.1169,  ..., -0.1416, -0.1932, -0.4225],\n",
       "        [-0.0263,  0.0179, -0.5016,  ..., -0.8688,  0.9409, -0.2882],\n",
       "        [ 0.1519,  0.4712,  0.0895,  ..., -0.4702, -0.3127,  0.1078]])"
      ]
     },
     "execution_count": 103,
     "metadata": {},
     "output_type": "execute_result"
    }
   ],
   "source": [
    "model.embedding.weight.data.copy_(pretrained_embeddings)\n",
    "# 임데팅 벡터값을 복사"
   ]
  },
  {
   "cell_type": "code",
   "execution_count": 104,
   "metadata": {},
   "outputs": [
    {
     "name": "stdout",
     "output_type": "stream",
     "text": [
      "0\n",
      "1\n"
     ]
    }
   ],
   "source": [
    "# 우선 <unk> 와 <pad> 토큰의 인덱스를 저장해두자\n",
    "UNK_IDX = TEXT.vocab.stoi[TEXT.unk_token]\n",
    "PAD_IDX = TEXT.vocab.stoi[TEXT.pad_token]\n",
    "\n",
    "print(UNK_IDX)\n",
    "print(PAD_IDX)"
   ]
  },
  {
   "cell_type": "code",
   "execution_count": 105,
   "metadata": {},
   "outputs": [
    {
     "name": "stdout",
     "output_type": "stream",
     "text": [
      "tensor([[ 0.0000,  0.0000,  0.0000,  ...,  0.0000,  0.0000,  0.0000],\n",
      "        [ 0.0000,  0.0000,  0.0000,  ...,  0.0000,  0.0000,  0.0000],\n",
      "        [-0.0382, -0.2449,  0.7281,  ..., -0.1459,  0.8278,  0.2706],\n",
      "        ...,\n",
      "        [-0.1020,  0.7700,  0.1169,  ..., -0.1416, -0.1932, -0.4225],\n",
      "        [-0.0263,  0.0179, -0.5016,  ..., -0.8688,  0.9409, -0.2882],\n",
      "        [ 0.1519,  0.4712,  0.0895,  ..., -0.4702, -0.3127,  0.1078]])\n"
     ]
    }
   ],
   "source": [
    "# 임의로 0번, 1번 단어에 0벡터를 만든다\n",
    "\n",
    "# 0번 임베딩 벡터에 0값 채우기\n",
    "model.embedding.weight.data[UNK_IDX] = torch.zeros(EMBEDDING_DIM)\n",
    "# 1번 임베딩 벡터에 0값 채우기\n",
    "model.embedding.weight.data[PAD_IDX] = torch.zeros(EMBEDDING_DIM)\n",
    "\n",
    "print(model.embedding.weight.data)\n",
    "# 위 두 줄은 0값이다."
   ]
  },
  {
   "cell_type": "code",
   "execution_count": 178,
   "metadata": {},
   "outputs": [
    {
     "name": "stdout",
     "output_type": "stream",
     "text": [
      "0\n"
     ]
    }
   ],
   "source": [
    "# 5.옵티마이저와 비용 함수 구현\n",
    "\n",
    "# 옵티마이저 설계 전에 레이블 데이터의 패딩 토큰의 인덱스도 확인하자\n",
    "TAG_PAD_IDX = UD_TAGS.vocab.stoi[UD_TAGS.pad_token]\n",
    "print(TAG_PAD_IDX)\n",
    "TAG_PAD_IDX = torch.tensor(TAG_PAD_IDX)\n",
    "TAG_PAD_IDX = TAG_PAD_IDX.cuda()\n",
    "# 0으로 나오는데 이유는 아래 비용 함수를 선택할 때 인자로 주기 위함이다."
   ]
  },
  {
   "cell_type": "code",
   "execution_count": 155,
   "metadata": {},
   "outputs": [],
   "source": [
    "# Adam으로 옵티마이저를 설정\n",
    "optimizer = optim.Adam(model.parameters())"
   ]
  },
  {
   "cell_type": "code",
   "execution_count": 156,
   "metadata": {},
   "outputs": [],
   "source": [
    "# 비용 함수는 crossentropy 함수\n",
    "# 이때 레이블 데이터의 패딩 코튼은 비용 함수의 연산에 포함되지 않도록 ignore_index로 설정한다\n",
    "\n",
    "criterion = nn.CrossEntropyLoss(ignore_index=TAG_PAD_IDX)"
   ]
  },
  {
   "cell_type": "code",
   "execution_count": 157,
   "metadata": {},
   "outputs": [],
   "source": [
    "# 현재 GPU를 사용 중일때 GPU 연산을 할 수 있도록 지정\n",
    "model = model.to(device)\n",
    "criterion = criterion.to(device)"
   ]
  },
  {
   "cell_type": "code",
   "execution_count": 158,
   "metadata": {},
   "outputs": [
    {
     "data": {
      "text/plain": [
       "torch.Size([46, 64, 18])"
      ]
     },
     "execution_count": 158,
     "metadata": {},
     "output_type": "execute_result"
    }
   ],
   "source": [
    "# 아직 훈련되지 않은 모델이지만 모델에 입력값을 넣어 출력(예측값)의 크기를 확인하자\n",
    "prediction = model(batch.text)\n",
    "prediction.shape\n",
    "\n",
    "# 46 = 첫번째 배치의 시퀀스 길이, 첫번째 배치의 길이일 뿐 다른 배치들은 다를 수 있다\n",
    "# 64 = 배치 크기\n",
    "# 18 = 레이블 단어장의 크기"
   ]
  },
  {
   "cell_type": "code",
   "execution_count": 159,
   "metadata": {},
   "outputs": [
    {
     "data": {
      "text/plain": [
       "torch.Size([2944, 18])"
      ]
     },
     "execution_count": 159,
     "metadata": {},
     "output_type": "execute_result"
    }
   ],
   "source": [
    "# 예측값에 대해서 시퀀스 길이와 배치 길이를 모두 펼쳐주자\n",
    "prediction = prediction.view(-1, prediction.shape[-1])\n",
    "prediction.shape"
   ]
  },
  {
   "cell_type": "code",
   "execution_count": 160,
   "metadata": {},
   "outputs": [
    {
     "data": {
      "text/plain": [
       "torch.Size([46, 64])"
      ]
     },
     "execution_count": 160,
     "metadata": {},
     "output_type": "execute_result"
    }
   ],
   "source": [
    "# 첫번째 배치의 레이블 데이터의 크기를 보자\n",
    "batch.udtags.shape"
   ]
  },
  {
   "cell_type": "code",
   "execution_count": 193,
   "metadata": {},
   "outputs": [
    {
     "data": {
      "text/plain": [
       "torch.Size([2944])"
      ]
     },
     "execution_count": 193,
     "metadata": {},
     "output_type": "execute_result"
    }
   ],
   "source": [
    "# 이를 펼쳐보자\n",
    "batch.udtags.view(-1).shape\n",
    "\n",
    "# 2944로 정확한 사이즈를 지정해주었다."
   ]
  },
  {
   "cell_type": "code",
   "execution_count": 194,
   "metadata": {},
   "outputs": [],
   "source": [
    "# 6. 훈련과 평가하기\n",
    "\n",
    "def categorical_accuracy(preds, y, tag_pad_idx):\n",
    "    \"\"\"\n",
    "    미니 배치에 대한 정확도 출력\n",
    "    \"\"\"\n",
    "    max_preds = preds.argmax(dim = 1, keepdim = True) # get the index of the max probability\n",
    "    non_pad_elements = (y != tag_pad_idx).nonzero()\n",
    "    correct = max_preds[non_pad_elements].squeeze(1).eq(y[non_pad_elements])\n",
    "    \n",
    "    return correct.sum() / torch.FloatTensor([y[non_pad_elements].shape[0]]).cuda()"
   ]
  },
  {
   "cell_type": "code",
   "execution_count": 195,
   "metadata": {},
   "outputs": [],
   "source": [
    "def train(model, iterator, optimizer, criterion, tag_pad_idx):\n",
    "    \n",
    "    epoch_loss = 0\n",
    "    epoch_acc = 0\n",
    "\n",
    "    model.train()\n",
    "\n",
    "    for batch in iterator:\n",
    "\n",
    "        text = batch.text\n",
    "        tags = batch.udtags\n",
    "\n",
    "        optimizer.zero_grad()\n",
    "\n",
    "        #text = [sent len, batch size]     \n",
    "        predictions = model(text)\n",
    "\n",
    "        #predictions = [sent len, batch size, output dim]\n",
    "        #tags = [sent len, batch size]\n",
    "        predictions = predictions.view(-1, predictions.shape[-1]) # #predictions = [sent len * batch size, output dim]\n",
    "        tags = tags.view(-1) # tags = [sent len * batch_size]\n",
    "\n",
    "        #predictions = [sent len * batch size, output dim]\n",
    "        #tags = [sent len * batch size]\n",
    "        loss = criterion(predictions, tags)\n",
    "        \n",
    "        acc = categorical_accuracy(predictions, tags, tag_pad_idx)\n",
    "\n",
    "        loss.backward()\n",
    "\n",
    "        optimizer.step()\n",
    "\n",
    "        epoch_loss += loss.item()\n",
    "        epoch_acc += acc.item()\n",
    "\n",
    "    return epoch_loss / len(iterator), epoch_acc / len(iterator)"
   ]
  },
  {
   "cell_type": "code",
   "execution_count": 196,
   "metadata": {},
   "outputs": [],
   "source": [
    "def evaluate(model, iterator, criterion, tag_pad_idx):\n",
    "    \n",
    "    epoch_loss = 0\n",
    "    epoch_acc = 0\n",
    "\n",
    "    model.eval()\n",
    "\n",
    "    with torch.no_grad():\n",
    "\n",
    "        for batch in iterator:\n",
    "\n",
    "            text = batch.text\n",
    "            tags = batch.udtags\n",
    "\n",
    "            predictions = model(text)\n",
    "\n",
    "            predictions = predictions.view(-1, predictions.shape[-1])\n",
    "            tags = tags.view(-1)\n",
    "\n",
    "            loss = criterion(predictions, tags)\n",
    "\n",
    "            acc = categorical_accuracy(predictions, tags, tag_pad_idx)\n",
    "\n",
    "            epoch_loss += loss.item()\n",
    "            epoch_acc += acc.item()\n",
    "\n",
    "    return epoch_loss / len(iterator), epoch_acc / len(iterator)"
   ]
  },
  {
   "cell_type": "code",
   "execution_count": 197,
   "metadata": {},
   "outputs": [
    {
     "name": "stdout",
     "output_type": "stream",
     "text": [
      "Epoch: 01\n",
      "\tTrain Loss: 0.211 | Train Acc: 93.02%\n",
      "\t Val. Loss: 0.427 |  Val. Acc: 86.01%\n",
      "Epoch: 02\n",
      "\tTrain Loss: 0.196 | Train Acc: 93.52%\n",
      "\t Val. Loss: 0.420 |  Val. Acc: 86.10%\n",
      "Epoch: 03\n",
      "\tTrain Loss: 0.184 | Train Acc: 93.88%\n",
      "\t Val. Loss: 0.427 |  Val. Acc: 86.03%\n",
      "Epoch: 04\n",
      "\tTrain Loss: 0.171 | Train Acc: 94.30%\n",
      "\t Val. Loss: 0.411 |  Val. Acc: 86.64%\n",
      "Epoch: 05\n",
      "\tTrain Loss: 0.162 | Train Acc: 94.59%\n",
      "\t Val. Loss: 0.411 |  Val. Acc: 86.64%\n",
      "Epoch: 06\n",
      "\tTrain Loss: 0.153 | Train Acc: 94.85%\n",
      "\t Val. Loss: 0.411 |  Val. Acc: 86.61%\n",
      "Epoch: 07\n",
      "\tTrain Loss: 0.144 | Train Acc: 95.17%\n",
      "\t Val. Loss: 0.415 |  Val. Acc: 86.72%\n",
      "Epoch: 08\n",
      "\tTrain Loss: 0.135 | Train Acc: 95.42%\n",
      "\t Val. Loss: 0.406 |  Val. Acc: 86.82%\n",
      "Epoch: 09\n",
      "\tTrain Loss: 0.127 | Train Acc: 95.74%\n",
      "\t Val. Loss: 0.419 |  Val. Acc: 86.70%\n",
      "Epoch: 10\n",
      "\tTrain Loss: 0.119 | Train Acc: 95.99%\n",
      "\t Val. Loss: 0.417 |  Val. Acc: 86.95%\n"
     ]
    }
   ],
   "source": [
    "N_EPOCHS = 10\n",
    "\n",
    "best_valid_loss = float('inf')\n",
    "\n",
    "for epoch in range(N_EPOCHS):\n",
    "\n",
    "    train_loss, train_acc = train(model, train_iterator, optimizer, criterion, TAG_PAD_IDX)\n",
    "    valid_loss, valid_acc = evaluate(model, valid_iterator, criterion, TAG_PAD_IDX)\n",
    "\n",
    "    if valid_loss < best_valid_loss:\n",
    "        best_valid_loss = valid_loss\n",
    "        torch.save(model.state_dict(), 'tut1-model.pt')\n",
    "\n",
    "    print(f'Epoch: {epoch+1:02}')\n",
    "    print(f'\\tTrain Loss: {train_loss:.3f} | Train Acc: {train_acc*100:.2f}%')\n",
    "    print(f'\\t Val. Loss: {valid_loss:.3f} |  Val. Acc: {valid_acc*100:.2f}%')"
   ]
  },
  {
   "cell_type": "code",
   "execution_count": 198,
   "metadata": {},
   "outputs": [
    {
     "name": "stdout",
     "output_type": "stream",
     "text": [
      "Test Loss: 0.424 |  Test Acc: 87.27%\n"
     ]
    }
   ],
   "source": [
    "test_loss, test_acc = evaluate(model, test_iterator, criterion, TAG_PAD_IDX)\n",
    "\n",
    "print(f'Test Loss: {test_loss:.3f} |  Test Acc: {test_acc*100:.2f}%')"
   ]
  }
 ],
 "metadata": {
  "interpreter": {
   "hash": "fdd75c4cec139db88207ac7c4293bdcbae3543546183bc362ebf9b62ac7e89fe"
  },
  "kernelspec": {
   "display_name": "Python 3.8.5 64-bit ('chch': conda)",
   "language": "python",
   "name": "python3"
  },
  "language_info": {
   "codemirror_mode": {
    "name": "ipython",
    "version": 3
   },
   "file_extension": ".py",
   "mimetype": "text/x-python",
   "name": "python",
   "nbconvert_exporter": "python",
   "pygments_lexer": "ipython3",
   "version": "3.8.5"
  },
  "orig_nbformat": 4
 },
 "nbformat": 4,
 "nbformat_minor": 2
}
