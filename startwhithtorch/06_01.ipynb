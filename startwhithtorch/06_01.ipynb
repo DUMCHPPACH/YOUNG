{
 "cells": [
  {
   "cell_type": "code",
   "execution_count": 1,
   "source": [
    "# https://wikidocs.net/60021"
   ],
   "outputs": [],
   "metadata": {}
  },
  {
   "cell_type": "markdown",
   "source": [
    "### 머신 러닝 모델의 평가\r\n",
    "\r\n",
    "데이터 분리의 목적\r\n",
    "- Training : 학습\r\n",
    "- Validation : 검증, 모델 성능 평가를 위한 용도가 아닌 모델의 성능을 조정하기 위한 용도\r\n",
    "- Testing : 모델 성능 평가\r\n",
    "\r\n",
    "두 가지 변수\r\n",
    "- 하이퍼파라미터 : 사용자가 직접 정해주는 변수(lr, 은닉층 수, 뉴런의 수, 드랍아웃 비율 등)\r\n",
    "- 매개변수 : 기계가 훈련을 통해서 바꾸는 변수(가중치, 편향 등)"
   ],
   "metadata": {}
  }
 ],
 "metadata": {
  "orig_nbformat": 4,
  "language_info": {
   "name": "python",
   "version": "3.6.5",
   "mimetype": "text/x-python",
   "codemirror_mode": {
    "name": "ipython",
    "version": 3
   },
   "pygments_lexer": "ipython3",
   "nbconvert_exporter": "python",
   "file_extension": ".py"
  },
  "kernelspec": {
   "name": "python3",
   "display_name": "Python 3.6.5 64-bit ('chch': conda)"
  },
  "interpreter": {
   "hash": "fdd75c4cec139db88207ac7c4293bdcbae3543546183bc362ebf9b62ac7e89fe"
  }
 },
 "nbformat": 4,
 "nbformat_minor": 2
}