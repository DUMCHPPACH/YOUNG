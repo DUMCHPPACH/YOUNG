{
 "cells": [
  {
   "cell_type": "code",
   "execution_count": 1,
   "source": [
    "# https://wikidocs.net/60021"
   ],
   "outputs": [],
   "metadata": {}
  },
  {
   "cell_type": "markdown",
   "source": [
    "---\r\n",
    "### 머신 러닝 모델의 평가\r\n",
    "\r\n",
    "데이터 분리의 목적\r\n",
    "- Training : 학습\r\n",
    "- Validation : 검증, 모델 성능 평가를 위한 용도가 아닌 모델의 성능을 조정하기 위한 용도\r\n",
    "- Testing : 모델 성능 평가\r\n",
    "\r\n",
    "두 가지 변수\r\n",
    "- 하이퍼파라미터 : 사용자가 직접 정해주는 변수(lr, 은닉층 수, 뉴런의 수, 드랍아웃 비율 등)\r\n",
    "- 매개변수 : 기계가 훈련을 통해서 바꾸는 변수(가중치, 편향 등)"
   ],
   "metadata": {}
  },
  {
   "cell_type": "markdown",
   "source": [
    "---\r\n",
    "### 분류(Classification)와 회귀(Regression)\r\n",
    "\r\n",
    "1. 이진 분류 문제(Binary Classification)  \r\n",
    "   주어진 입력에 대해 둘중 하나의 답을 정하는 문제. 합격/불합격, 정상메일/스팸메일 등  \r\n",
    "\r\n",
    "2. 다중 클래스 분류(Multi-class Classification)  \r\n",
    "   주어진 입력에 대해 세 개 이상의 답을 정하는 문제. 과학/영어/수학, iris, mnist 등  \r\n",
    "  \r\n",
    "3. 회귀 문제(Regression)  \r\n",
    "   분류와 달리 연속된 값을 결과로 가지는 문제. 공부시간에 따른 성적, 주가 예측, 지수 예측 등 \r\n",
    "    "
   ],
   "metadata": {}
  },
  {
   "cell_type": "markdown",
   "source": [
    "---\r\n",
    "### 지도 학습(Supervised Learning)과 비지도 학습(Unsupervised Learning)\r\n",
    "\r\n",
    "1. 지도 학습  \r\n",
    "    label이라는 정답과 함께 학습 하는 것. \r\n",
    "\r\n",
    "2. 비지도 학습  \r\n",
    "    label이 없이 하는 학습. 군집(clustering)이나 차원 축소와 같은 방법들이 있다.  \r\n",
    "\r\n",
    "3. 강화 학습  \r\n",
    "    어떤 환경 내에서 정의된 에이전트가 현재의 상태를 인식하여, 선택 가능한 행동들 중 보상을 최대화하는 행동 혹은 행동 순서를 선택하는 방법."
   ],
   "metadata": {}
  },
  {
   "cell_type": "markdown",
   "source": [
    "---\r\n",
    "### 과적합(Overfitting)과 과소 적합(Underfitting)  \r\n",
    "\r\n",
    "- 과적합: 머신이 훈련 데이터에 대해서만 과하게 학습하여 테스트 데이터나 실제 서비스 데이터에 대해서는 정확도가 좋지 않은 현상  \r\n",
    "- 과소적합: 훈련 자체가 부족한 상황으로 테스트 데이터, 훈련 데이터 모두에 정확도 낮은 현상"
   ],
   "metadata": {}
  },
  {
   "cell_type": "markdown",
   "source": [],
   "metadata": {}
  }
 ],
 "metadata": {
  "orig_nbformat": 4,
  "language_info": {
   "name": "python",
   "version": "3.6.5",
   "mimetype": "text/x-python",
   "codemirror_mode": {
    "name": "ipython",
    "version": 3
   },
   "pygments_lexer": "ipython3",
   "nbconvert_exporter": "python",
   "file_extension": ".py"
  },
  "kernelspec": {
   "name": "python3",
   "display_name": "Python 3.6.5 64-bit ('chch': conda)"
  },
  "interpreter": {
   "hash": "fdd75c4cec139db88207ac7c4293bdcbae3543546183bc362ebf9b62ac7e89fe"
  }
 },
 "nbformat": 4,
 "nbformat_minor": 2
}