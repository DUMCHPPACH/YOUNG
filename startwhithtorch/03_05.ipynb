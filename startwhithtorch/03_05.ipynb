{
 "cells": [
  {
   "cell_type": "code",
   "execution_count": 20,
   "source": [
    "# https://wikidocs.net/55409"
   ],
   "outputs": [],
   "metadata": {}
  },
  {
   "cell_type": "markdown",
   "source": [
    "---\r\n",
    "# 05. 클래스로 파이토치 모델 구현하기"
   ],
   "metadata": {}
  },
  {
   "cell_type": "code",
   "execution_count": 21,
   "source": [
    "# 파이토치 대부분 구현체들은 모델을 클래스로 사용하여 생성한다.\r\n",
    "# 앞서 진행한 선형 회귀를 클래스로 구현해보자."
   ],
   "outputs": [],
   "metadata": {}
  },
  {
   "cell_type": "code",
   "execution_count": 22,
   "source": [
    "# 앞서 진행했던 선형 회귀 모델은 다음과 같이 구현함\r\n",
    "import torch\r\n",
    "from torch import nn\r\n",
    "\r\n",
    "# 모델 선언 및 초기화. 단순 선형 회귀이니 input_dim = 1 , output_dim = 1\r\n",
    "model = nn.Linear(1,1)"
   ],
   "outputs": [],
   "metadata": {}
  },
  {
   "cell_type": "code",
   "execution_count": 23,
   "source": [
    "# 이를 클래스로 구현하자\r\n",
    "class LinearRegressionModel(nn.Module): # torch.nn.Module을 상속받는 파이썬 클래스\r\n",
    "    def __init__(self):     # 모델의 구조와 동작을 정의하는 생성자를 정의\r\n",
    "        super().__init__()  # .super() 함수를 부르면 여기서 만든 클래스는 nn.Module 클래스의 속성들을 갖고 초기화 된다.\r\n",
    "        self.linear = nn.Linear(1,1)\r\n",
    "\r\n",
    "    def forward(self, x):   # 모델이 학습 데이터를 받아서 forward 연산을 진행하게 하는 함수\r\n",
    "                            # 이 함수를 model 객체를 데이터와 함께 호출하면 자동으로 실행된다.\r\n",
    "        return self.linear(x)\r\n",
    "\r\n",
    "# class를 이용하여 객체 생성\r\n",
    "model = LinearRegressionModel()\r\n",
    "\r\n",
    "# LinearRegressiongModel(x)를 하면 forward 연산이 자동으로 수행된다.\r\n",
    "# H(x) 식에 입력 x로부터 예측된 y를 얻는 것을 forward 연산이라고 한다."
   ],
   "outputs": [],
   "metadata": {}
  },
  {
   "cell_type": "code",
   "execution_count": 24,
   "source": [
    "# 모델을 클래스로 구현한 코드를 보자\r\n",
    "# 달라진 점은 모델을 클래스로 구현했다는 것 뿐이다."
   ],
   "outputs": [],
   "metadata": {}
  },
  {
   "cell_type": "code",
   "execution_count": 25,
   "source": [
    "import torch\r\n",
    "import torch.nn as nn\r\n",
    "import torch.nn.functional as F"
   ],
   "outputs": [],
   "metadata": {}
  },
  {
   "cell_type": "code",
   "execution_count": 26,
   "source": [
    "torch.manual_seed(1)"
   ],
   "outputs": [
    {
     "output_type": "execute_result",
     "data": {
      "text/plain": [
       "<torch._C.Generator at 0x24b3fe78f60>"
      ]
     },
     "metadata": {},
     "execution_count": 26
    }
   ],
   "metadata": {}
  },
  {
   "cell_type": "code",
   "execution_count": 27,
   "source": [
    "# 데이터\r\n",
    "x_train = torch.FloatTensor([[1],[2],[3]])\r\n",
    "y_train = torch.FloatTensor([[2],[4],[6]])"
   ],
   "outputs": [],
   "metadata": {}
  },
  {
   "cell_type": "code",
   "execution_count": 28,
   "source": [
    "class LinearRegressionModel(nn.Module):\r\n",
    "    def __init__(self):\r\n",
    "        super().__init__()\r\n",
    "        self.linear = nn.Linear(1, 1)\r\n",
    "\r\n",
    "    def forward(self, x):\r\n",
    "        return self.linear(x)"
   ],
   "outputs": [],
   "metadata": {}
  },
  {
   "cell_type": "code",
   "execution_count": 29,
   "source": [
    "model = LinearRegressionModel()"
   ],
   "outputs": [],
   "metadata": {}
  },
  {
   "cell_type": "code",
   "execution_count": 30,
   "source": [
    "optimizer = torch.optim.SGD(model.parameters(), lr=0.01)"
   ],
   "outputs": [],
   "metadata": {}
  },
  {
   "cell_type": "code",
   "execution_count": 33,
   "source": [
    "nb_epochs = 2000\r\n",
    "\r\n",
    "for epoch in range(nb_epochs + 1):\r\n",
    "\r\n",
    "    # H(x) 계산\r\n",
    "    prediction = model(x_train)\r\n",
    "\r\n",
    "    # cost 계산\r\n",
    "    cost = F.mse_loss(prediction, y_train)\r\n",
    "\r\n",
    "    # cost로 H(x) 개선하는 부분, gradient를 0으로 초기화\r\n",
    "    optimizer.zero_grad()\r\n",
    "    cost.backward()\r\n",
    "    optimizer.step()\r\n",
    "\r\n",
    "    if epoch % 100 == 0 :\r\n",
    "        print('Epoch {:4d}/{} Cost: {:.6f}'.format(epoch, nb_epochs, cost.item()))\r\n",
    "    # cost.item() : 1개의 요소를 가지는 텐서(one element tensor)가 있다면, .item()을 이용하여 스칼라 값을 가져올 수 있다.\r\n"
   ],
   "outputs": [
    {
     "output_type": "stream",
     "name": "stdout",
     "text": [
      "Epoch    0/2000 Cost: 8.188817\n",
      "Epoch  100/2000 Cost: 0.002764\n",
      "Epoch  200/2000 Cost: 0.001708\n",
      "Epoch  300/2000 Cost: 0.001055\n",
      "Epoch  400/2000 Cost: 0.000652\n",
      "Epoch  500/2000 Cost: 0.000403\n",
      "Epoch  600/2000 Cost: 0.000249\n",
      "Epoch  700/2000 Cost: 0.000154\n",
      "Epoch  800/2000 Cost: 0.000095\n",
      "Epoch  900/2000 Cost: 0.000059\n",
      "Epoch 1000/2000 Cost: 0.000036\n",
      "Epoch 1100/2000 Cost: 0.000022\n",
      "Epoch 1200/2000 Cost: 0.000014\n",
      "Epoch 1300/2000 Cost: 0.000009\n",
      "Epoch 1400/2000 Cost: 0.000005\n",
      "Epoch 1500/2000 Cost: 0.000003\n",
      "Epoch 1600/2000 Cost: 0.000002\n",
      "Epoch 1700/2000 Cost: 0.000001\n",
      "Epoch 1800/2000 Cost: 0.000001\n",
      "Epoch 1900/2000 Cost: 0.000000\n",
      "Epoch 2000/2000 Cost: 0.000000\n"
     ]
    }
   ],
   "metadata": {}
  },
  {
   "cell_type": "markdown",
   "source": [
    "---\r\n",
    "## 다중 선형 회귀 클래스로 구현하기"
   ],
   "metadata": {}
  },
  {
   "cell_type": "code",
   "execution_count": null,
   "source": [
    "# 이번에는 다중 선형 회귀 모델을 클래스로 구현해보자"
   ],
   "outputs": [],
   "metadata": {}
  },
  {
   "cell_type": "code",
   "execution_count": 34,
   "source": [
    "# 데이터\r\n",
    "x_train = torch.FloatTensor([[73, 80, 75],\r\n",
    "                             [93, 88, 93],\r\n",
    "                             [89, 91, 90],\r\n",
    "                             [96, 98, 100],\r\n",
    "                             [73, 66, 70]])\r\n",
    "y_train = torch.FloatTensor([[152], [185], [180], [196], [142]])"
   ],
   "outputs": [],
   "metadata": {}
  },
  {
   "cell_type": "code",
   "execution_count": 36,
   "source": [
    "class MultivariateLinearRegressionModel(nn.Module):\r\n",
    "    def __init__(self):\r\n",
    "        super().__init__()\r\n",
    "        self.linear = nn.Linear(3, 1)\r\n",
    "\r\n",
    "    def forward(self, x):\r\n",
    "        return self.linear(x)"
   ],
   "outputs": [],
   "metadata": {}
  },
  {
   "cell_type": "code",
   "execution_count": 42,
   "source": [
    "# class를 이용하여 객체 생성\r\n",
    "model = MultivariateLinearRegressionModel()"
   ],
   "outputs": [],
   "metadata": {}
  },
  {
   "cell_type": "code",
   "execution_count": 43,
   "source": [
    "optimizer = torch.optim.SGD(model.parameters(), lr = 1e-5)"
   ],
   "outputs": [],
   "metadata": {}
  },
  {
   "cell_type": "code",
   "execution_count": 44,
   "source": [
    "nb_epochs = 2000\r\n",
    "for epoch in range(nb_epochs + 1):\r\n",
    "\r\n",
    "    # H(x) 계산\r\n",
    "    prediction = model(x_train)\r\n",
    "\r\n",
    "    # cost 계산\r\n",
    "    cost = F.mse_loss(prediction, y_train)\r\n",
    "\r\n",
    "    # cost로 H(x) 개선 , gradient를 0으로 초기화\r\n",
    "    optimizer.zero_grad()\r\n",
    "    cost.backward()\r\n",
    "    optimizer.step()\r\n",
    "\r\n",
    "    if epoch % 100 == 0 :\r\n",
    "        print('Epoch {:4d}/{} Cost {:.6f}'.format(epoch, nb_epochs, cost.item()))"
   ],
   "outputs": [
    {
     "output_type": "stream",
     "name": "stdout",
     "text": [
      "Epoch    0/2000 Cost 47375.710938\n",
      "Epoch  100/2000 Cost 0.844645\n",
      "Epoch  200/2000 Cost 0.815248\n",
      "Epoch  300/2000 Cost 0.787375\n",
      "Epoch  400/2000 Cost 0.760944\n",
      "Epoch  500/2000 Cost 0.735871\n",
      "Epoch  600/2000 Cost 0.712089\n",
      "Epoch  700/2000 Cost 0.689536\n",
      "Epoch  800/2000 Cost 0.668133\n",
      "Epoch  900/2000 Cost 0.647833\n",
      "Epoch 1000/2000 Cost 0.628584\n",
      "Epoch 1100/2000 Cost 0.610303\n",
      "Epoch 1200/2000 Cost 0.592965\n",
      "Epoch 1300/2000 Cost 0.576510\n",
      "Epoch 1400/2000 Cost 0.560903\n",
      "Epoch 1500/2000 Cost 0.546079\n",
      "Epoch 1600/2000 Cost 0.532007\n",
      "Epoch 1700/2000 Cost 0.518654\n",
      "Epoch 1800/2000 Cost 0.505976\n",
      "Epoch 1900/2000 Cost 0.493935\n",
      "Epoch 2000/2000 Cost 0.482503\n"
     ]
    }
   ],
   "metadata": {}
  }
 ],
 "metadata": {
  "orig_nbformat": 4,
  "language_info": {
   "name": "python",
   "version": "3.6.5",
   "mimetype": "text/x-python",
   "codemirror_mode": {
    "name": "ipython",
    "version": 3
   },
   "pygments_lexer": "ipython3",
   "nbconvert_exporter": "python",
   "file_extension": ".py"
  },
  "kernelspec": {
   "name": "python3",
   "display_name": "Python 3.6.5 64-bit ('chch': conda)"
  },
  "interpreter": {
   "hash": "fdd75c4cec139db88207ac7c4293bdcbae3543546183bc362ebf9b62ac7e89fe"
  }
 },
 "nbformat": 4,
 "nbformat_minor": 2
}