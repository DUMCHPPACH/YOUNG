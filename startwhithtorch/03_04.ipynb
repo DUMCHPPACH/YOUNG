{
 "cells": [
  {
   "cell_type": "code",
   "execution_count": 38,
   "source": [
    "# https://wikidocs.net/55409"
   ],
   "outputs": [],
   "metadata": {}
  },
  {
   "cell_type": "markdown",
   "source": [
    "---\r\n",
    "# 04. nn.Module로 구현하는 선형 회귀"
   ],
   "metadata": {}
  },
  {
   "cell_type": "code",
   "execution_count": 39,
   "source": [
    "import torch\r\n",
    "import torch.nn as nn\r\n",
    "import torch.nn.functional as F"
   ],
   "outputs": [],
   "metadata": {}
  },
  {
   "cell_type": "code",
   "execution_count": 40,
   "source": [
    "torch.manual_seed(1)"
   ],
   "outputs": [
    {
     "output_type": "execute_result",
     "data": {
      "text/plain": [
       "<torch._C.Generator at 0x1e703888f48>"
      ]
     },
     "metadata": {},
     "execution_count": 40
    }
   ],
   "metadata": {}
  },
  {
   "cell_type": "code",
   "execution_count": 41,
   "source": [
    "# y = 2x를 가정한 데이터 생성 / w=2 , b=0\r\n",
    "\r\n",
    "# 데이터\r\n",
    "x_train = torch.FloatTensor([[1], [2], [3]])\r\n",
    "y_train = torch.FloatTensor([[2], [4], [6]])\r\n",
    "print(x_train.size())\r\n",
    "print(y_train.size())"
   ],
   "outputs": [
    {
     "output_type": "stream",
     "name": "stdout",
     "text": [
      "torch.Size([3, 1])\n",
      "torch.Size([3, 1])\n"
     ]
    }
   ],
   "metadata": {}
  },
  {
   "cell_type": "code",
   "execution_count": 42,
   "source": [
    "# 단순 선형 회귀를 위한 모델 선언 및 초기화\r\n",
    "# linear는 (input_dim, output_dim)을 인수로 받는다.\r\n",
    "# 여기서는 input_dim=1 , output_dim=1\r\n",
    "model = nn.Linear(1,1)"
   ],
   "outputs": [],
   "metadata": {}
  },
  {
   "cell_type": "code",
   "execution_count": 43,
   "source": [
    "# 불러온 모델에는 가중치w 와 편향b가 저장되어 있는데, model.parameters()에서 확인 할 수 있다.\r\n",
    "print(list(model.parameters()))\r\n",
    "\r\n",
    "# [Parameter containing:\r\n",
    "# tensor([[0.5153]], requires_grad=True), Parameter containing:   --> W(랜덤시드 1에 생성된 값)\r\n",
    "# tensor([-0.4414], requires_grad=True)]                          --> b\r\n",
    "# 두 값 모두 학습의 대상이므로 requires_grad=True"
   ],
   "outputs": [
    {
     "output_type": "stream",
     "name": "stdout",
     "text": [
      "[Parameter containing:\n",
      "tensor([[0.5153]], requires_grad=True), Parameter containing:\n",
      "tensor([-0.4414], requires_grad=True)]\n"
     ]
    }
   ],
   "metadata": {}
  },
  {
   "cell_type": "code",
   "execution_count": 44,
   "source": [
    "# 옵티마이저 정의\r\n",
    "# 경사 하강법 SGD를 사용하고 lr = 0.01\r\n",
    "optimizer = torch.optim.SGD(model.parameters(), lr=0.01)"
   ],
   "outputs": [],
   "metadata": {}
  },
  {
   "cell_type": "code",
   "execution_count": 45,
   "source": [
    "# 에폭 2000으로 모델 설정\r\n",
    "nb_epochs = 2000\r\n",
    "for epoch in range(nb_epochs + 1):\r\n",
    "\r\n",
    "    # H(x) 계산\r\n",
    "    prediction = model(x_train)\r\n",
    "\r\n",
    "    # cost 계산\r\n",
    "    cost = F.mse_loss(prediction, y_train)\r\n",
    "\r\n",
    "    # cost로 H(x) 개선하는 부분\r\n",
    "    # gradient를 0으로 초기화\r\n",
    "    optimizer.zero_grad()\r\n",
    "    # 비용 함수를 미분하여 gradient 계산\r\n",
    "    cost.backward()\r\n",
    "    # W와 b를 업데이트\r\n",
    "    optimizer.step()\r\n",
    "\r\n",
    "    if epoch % 100 == 0:\r\n",
    "        print('Epoch {:4d}/{} Cost: {:.6f}'.format(\r\n",
    "            epoch, nb_epochs, cost.item()\r\n",
    "        ))"
   ],
   "outputs": [
    {
     "output_type": "stream",
     "name": "stdout",
     "text": [
      "Epoch    0/2000 Cost: 13.103541\n",
      "Epoch  100/2000 Cost: 0.002791\n",
      "Epoch  200/2000 Cost: 0.001724\n",
      "Epoch  300/2000 Cost: 0.001066\n",
      "Epoch  400/2000 Cost: 0.000658\n",
      "Epoch  500/2000 Cost: 0.000407\n",
      "Epoch  600/2000 Cost: 0.000251\n",
      "Epoch  700/2000 Cost: 0.000155\n",
      "Epoch  800/2000 Cost: 0.000096\n",
      "Epoch  900/2000 Cost: 0.000059\n",
      "Epoch 1000/2000 Cost: 0.000037\n",
      "Epoch 1100/2000 Cost: 0.000023\n",
      "Epoch 1200/2000 Cost: 0.000014\n",
      "Epoch 1300/2000 Cost: 0.000009\n",
      "Epoch 1400/2000 Cost: 0.000005\n",
      "Epoch 1500/2000 Cost: 0.000003\n",
      "Epoch 1600/2000 Cost: 0.000002\n",
      "Epoch 1700/2000 Cost: 0.000001\n",
      "Epoch 1800/2000 Cost: 0.000001\n",
      "Epoch 1900/2000 Cost: 0.000000\n",
      "Epoch 2000/2000 Cost: 0.000000\n"
     ]
    }
   ],
   "metadata": {}
  },
  {
   "cell_type": "code",
   "execution_count": 46,
   "source": [
    "# 테스트 데이터를 넣어서 확인 해보자\r\n",
    "\r\n",
    "# x = 4\r\n",
    "new_var = torch.FloatTensor([[4.0]])\r\n",
    "pred_y = model(new_var) # forward 계산\r\n",
    "# - H(x)에 입력 x로부터 예측된 y를 얻는 것을 forward 연산이라 한다.\r\n",
    "# - 학습 과정에서 비용 함수를 미분하여 기울기를 구하는 것을 backward 연산이라고 합니다.\r\n",
    "# - cost.backward()는 비용 함수로부터 기울기를 구하라는 의미이며 backward 연산입니다.\r\n",
    "print('4가 입력일 때 y의 값(8): ', pred_y)"
   ],
   "outputs": [
    {
     "output_type": "stream",
     "name": "stdout",
     "text": [
      "4가 입력일 때 y의 값(8):  tensor([[7.9989]], grad_fn=<AddmmBackward>)\n"
     ]
    }
   ],
   "metadata": {}
  },
  {
   "cell_type": "code",
   "execution_count": 47,
   "source": [
    "# cost가 감소 했음을 확인. 다음은 W와 b가 최적화 되었는지 확인\r\n",
    "# x에 임의의 값 4를 넣어 모델이 예측하는 y의 값을 확인하자\r\n",
    "\r\n",
    "print(list(model.parameters()))"
   ],
   "outputs": [
    {
     "output_type": "stream",
     "name": "stdout",
     "text": [
      "[Parameter containing:\n",
      "tensor([[1.9994]], requires_grad=True), Parameter containing:\n",
      "tensor([0.0014], requires_grad=True)]\n"
     ]
    }
   ],
   "metadata": {}
  },
  {
   "cell_type": "markdown",
   "source": [
    "---\r\n",
    "## 다중 선형 회귀 구현"
   ],
   "metadata": {}
  },
  {
   "cell_type": "code",
   "execution_count": 48,
   "source": [
    "# 3개의 x로부터 하나의 y를 예측하는 문제를 만들자\r\n",
    "# hypothesis = H(x) = w1x1 + w2x2 + w3x3 + b\r\n",
    "\r\n",
    "# 데이터\r\n",
    "x_train = torch.FloatTensor([[73, 80, 75],\r\n",
    "                             [93, 88, 93],\r\n",
    "                             [89, 91, 90],\r\n",
    "                             [96, 98, 100],\r\n",
    "                             [73, 66, 70]])\r\n",
    "y_train = torch.FloatTensor([[152], [185], [180], [196], [142]])\r\n",
    "\r\n",
    "print(x_train.size())\r\n",
    "print(y_train.size())"
   ],
   "outputs": [
    {
     "output_type": "stream",
     "name": "stdout",
     "text": [
      "torch.Size([5, 3])\n",
      "torch.Size([5, 1])\n"
     ]
    }
   ],
   "metadata": {}
  },
  {
   "cell_type": "code",
   "execution_count": 49,
   "source": [
    "# 다중 선형 회귀이므로 input_dim=3, output_dim=1\r\n",
    "model = nn.Linear(3,1)"
   ],
   "outputs": [],
   "metadata": {}
  },
  {
   "cell_type": "code",
   "execution_count": 50,
   "source": [
    "# 초기값으로 저장된 w,b를 확인 (랜덤 시드 1로 설정함)\r\n",
    "print('W: ', list(model.parameters())[0])\r\n",
    "print('b: ', list(model.parameters())[1])"
   ],
   "outputs": [
    {
     "output_type": "stream",
     "name": "stdout",
     "text": [
      "W:  Parameter containing:\n",
      "tensor([[-0.1119,  0.2710, -0.5435]], requires_grad=True)\n",
      "b:  Parameter containing:\n",
      "tensor([0.3462], requires_grad=True)\n"
     ]
    }
   ],
   "metadata": {}
  },
  {
   "cell_type": "code",
   "execution_count": 51,
   "source": [
    "# optimizer 설정\r\n",
    "optimizer = torch.optim.SGD(model.parameters(), lr = 1e-5)"
   ],
   "outputs": [],
   "metadata": {}
  },
  {
   "cell_type": "code",
   "execution_count": 52,
   "source": [
    "nb_epochs = 2000\r\n",
    "for epoch in range(nb_epochs + 1):\r\n",
    "\r\n",
    "    # H(x) 계산\r\n",
    "    prediction = model(x_train)\r\n",
    "    # model(x_train)은 model.forward(x_train)와 동일함\r\n",
    "\r\n",
    "    # cost 계산\r\n",
    "    cost = F.mse_loss(prediction, y_train)\r\n",
    "\r\n",
    "    # cost로 H(x) 개선하는 부분\r\n",
    "    # gradient를 0으로 초기화\r\n",
    "    optimizer.zero_grad()\r\n",
    "    # 비용 함수를 미분하여 gradient 계산\r\n",
    "    cost.backward()\r\n",
    "    # W와 b를 업데이트\r\n",
    "    optimizer.step()\r\n",
    "\r\n",
    "    if epoch % 100 == 0 :\r\n",
    "        print('Epoch {:4d}/{} Cost: {:.6}'.format(\r\n",
    "            epoch, nb_epochs, cost.item()\r\n",
    "        ))"
   ],
   "outputs": [
    {
     "output_type": "stream",
     "name": "stdout",
     "text": [
      "Epoch    0/2000 Cost: 42134.7\n",
      "Epoch  100/2000 Cost: 5.96005\n",
      "Epoch  200/2000 Cost: 5.65471\n",
      "Epoch  300/2000 Cost: 5.36541\n",
      "Epoch  400/2000 Cost: 5.09143\n",
      "Epoch  500/2000 Cost: 4.83183\n",
      "Epoch  600/2000 Cost: 4.586\n",
      "Epoch  700/2000 Cost: 4.35307\n",
      "Epoch  800/2000 Cost: 4.13241\n",
      "Epoch  900/2000 Cost: 3.92346\n",
      "Epoch 1000/2000 Cost: 3.7255\n",
      "Epoch 1100/2000 Cost: 3.53797\n",
      "Epoch 1200/2000 Cost: 3.36033\n",
      "Epoch 1300/2000 Cost: 3.19206\n",
      "Epoch 1400/2000 Cost: 3.03267\n",
      "Epoch 1500/2000 Cost: 2.8817\n",
      "Epoch 1600/2000 Cost: 2.73867\n",
      "Epoch 1700/2000 Cost: 2.6032\n",
      "Epoch 1800/2000 Cost: 2.47485\n",
      "Epoch 1900/2000 Cost: 2.35329\n",
      "Epoch 2000/2000 Cost: 2.23811\n"
     ]
    }
   ],
   "metadata": {}
  },
  {
   "cell_type": "code",
   "execution_count": 54,
   "source": [
    "# 예측하여 성능 평가\r\n",
    "new_var =  torch.FloatTensor([[73, 80, 75]]) \r\n",
    "pred_y = model(new_var)\r\n",
    "print(\"훈련 후 입력이 73, 80, 75일 때의 예측값 :\", pred_y) "
   ],
   "outputs": [
    {
     "output_type": "stream",
     "name": "stdout",
     "text": [
      "훈련 후 입력이 73, 80, 75일 때의 예측값 : tensor([[153.7184]], grad_fn=<AddmmBackward>)\n"
     ]
    }
   ],
   "metadata": {}
  },
  {
   "cell_type": "code",
   "execution_count": 55,
   "source": [
    "print(list(model.parameters()))"
   ],
   "outputs": [
    {
     "output_type": "stream",
     "name": "stdout",
     "text": [
      "[Parameter containing:\n",
      "tensor([[0.8541, 0.8475, 0.3096]], requires_grad=True), Parameter containing:\n",
      "tensor([0.3568], requires_grad=True)]\n"
     ]
    }
   ],
   "metadata": {}
  }
 ],
 "metadata": {
  "orig_nbformat": 4,
  "language_info": {
   "name": "python",
   "version": "3.6.5",
   "mimetype": "text/x-python",
   "codemirror_mode": {
    "name": "ipython",
    "version": 3
   },
   "pygments_lexer": "ipython3",
   "nbconvert_exporter": "python",
   "file_extension": ".py"
  },
  "kernelspec": {
   "name": "python3",
   "display_name": "Python 3.6.5 64-bit ('chch': conda)"
  },
  "interpreter": {
   "hash": "fdd75c4cec139db88207ac7c4293bdcbae3543546183bc362ebf9b62ac7e89fe"
  }
 },
 "nbformat": 4,
 "nbformat_minor": 2
}