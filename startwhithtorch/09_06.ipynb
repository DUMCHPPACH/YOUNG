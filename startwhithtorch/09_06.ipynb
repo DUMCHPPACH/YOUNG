{
 "cells": [
  {
   "cell_type": "code",
   "execution_count": 1,
   "source": [
    "# 09_06.md 이어서 작성하는 실습 코드"
   ],
   "outputs": [],
   "metadata": {}
  },
  {
   "cell_type": "markdown",
   "source": [
    "## 5. GloVe 훈련시키기\r\n",
    "---"
   ],
   "metadata": {}
  },
  {
   "cell_type": "code",
   "execution_count": 5,
   "source": [
    "# 글로브 패키지 설치\r\n",
    "# !pip install glove_python > 로 설치 안됨. 2016년도에 마지막으로 릴리즈됨\r\n",
    "# >> pip install glove_python_binary 으로 대신 설치하면 심신의 평화를 찾을 수 있음\r\n",
    "# !pip install glove_python_binary"
   ],
   "outputs": [
    {
     "output_type": "stream",
     "name": "stdout",
     "text": [
      "Collecting glove_python_binary\n",
      "  Using cached glove_python_binary-0.2.0-cp38-cp38-win_amd64.whl (244 kB)\n",
      "Requirement already satisfied: scipy in c:\\users\\lemon\\anaconda3\\envs\\chch\\lib\\site-packages (from glove_python_binary) (1.7.1)\n",
      "Requirement already satisfied: numpy in c:\\users\\lemon\\anaconda3\\envs\\chch\\lib\\site-packages (from glove_python_binary) (1.19.5)\n",
      "Installing collected packages: glove-python-binary\n",
      "Successfully installed glove-python-binary-0.2.0\n"
     ]
    }
   ],
   "metadata": {}
  },
  {
   "cell_type": "markdown",
   "source": [
    "### 09_04 에서 썼던 데이터 준비\r\n",
    "---"
   ],
   "metadata": {}
  },
  {
   "cell_type": "code",
   "execution_count": 9,
   "source": [
    "import urllib.request\r\n",
    "import zipfile\r\n",
    "from lxml import etree\r\n",
    "import re\r\n",
    "from nltk.tokenize import word_tokenize, sent_tokenize"
   ],
   "outputs": [],
   "metadata": {}
  },
  {
   "cell_type": "code",
   "execution_count": 10,
   "source": [
    "datapath = 'D:/chch/startwhithtorch/datafolder/'\r\n",
    "\r\n",
    "# 훈련 데이터 전처리하기\r\n",
    "targetXML = open(datapath + 'ted_en-2016408.xml', 'r', encoding='UTF8')\r\n",
    "target_text = etree.parse(targetXML)\r\n",
    "\r\n",
    "parse_text = '/n'.join(target_text.xpath('//content/text()'))\r\n",
    "# xml 파일로부터 <content>와 </content> 사이의 내용만 가져온다.\r\n",
    "\r\n",
    "content_text = re.sub(r'/([^)]*/)', '', parse_text)\r\n",
    "# parse_text 를 불러와서 (Audio), (Laughter) 등의 배경음 부분을 제거\r\n",
    "# 해당 코드는 괄호로 구성된 내용을 제거한다는 뜻\r\n",
    "\r\n",
    "sent_text = sent_tokenize(content_text)\r\n",
    "\r\n",
    "normalized_text = []\r\n",
    "for string in sent_text :\r\n",
    "    tokens = re.sub(r'[^a-z0-9]+', ' ', string.lower())\r\n",
    "    normalized_text.append(tokens)\r\n",
    "# 각 문장에서 알파벳소문자와 숫자를 제외하고는 블랭크로 바꿈\r\n",
    "\r\n",
    "result = []\r\n",
    "result = [word_tokenize(sentence) for sentence in normalized_text]\r\n",
    "\r\n",
    "print(f'총 샘플의 개수: {len(result)}')"
   ],
   "outputs": [
    {
     "output_type": "stream",
     "name": "stdout",
     "text": [
      "총 샘플의 개수: 265335\n"
     ]
    }
   ],
   "metadata": {}
  },
  {
   "cell_type": "markdown",
   "source": [
    "### 진짜 시작\r\n",
    "---"
   ],
   "metadata": {}
  },
  {
   "cell_type": "code",
   "execution_count": 11,
   "source": [
    "from glove import Corpus, Glove\r\n",
    "\r\n",
    "# 데이터 만들기 -------------------------------------------------\r\n",
    "# 훈련 데이터 result로 부터 Glove에서 사용할 동시 등장 행렬을 생성\r\n",
    "corpus = Corpus() # = co-occurrence matrix\r\n",
    "corpus.fit(result, window=5)    # result를 데이터로 window size는 5로\r\n",
    "\r\n",
    "\r\n",
    "# 학습 설정 -----------------------------------------------------\r\n",
    "glove = Glove(no_components=100     # 아웃풋 벡터(임베딩 결과)의 차원\r\n",
    "            , learning_rate=0.05)   # 경사하강법 학습률\r\n",
    "\r\n",
    "glove.fit(corpus.matrix\r\n",
    "        , epochs=20                 # 에포크\r\n",
    "        , no_threads=4              # 사용할 스레드 개수\r\n",
    "        , verbose=True)\r\n",
    "\r\n",
    "# 유사어 검색을 위해서는 sparse matrix 의 각 row, column index 에 해당하는 vocabulary 의 정보가 필요\r\n",
    "glove.add_dictionary(corpus.dictionary)"
   ],
   "outputs": [
    {
     "output_type": "stream",
     "name": "stdout",
     "text": [
      "Performing 20 training epochs with 4 threads\n",
      "Epoch 0\n",
      "Epoch 1\n",
      "Epoch 2\n",
      "Epoch 3\n",
      "Epoch 4\n",
      "Epoch 5\n",
      "Epoch 6\n",
      "Epoch 7\n",
      "Epoch 8\n",
      "Epoch 9\n",
      "Epoch 10\n",
      "Epoch 11\n",
      "Epoch 12\n",
      "Epoch 13\n",
      "Epoch 14\n",
      "Epoch 15\n",
      "Epoch 16\n",
      "Epoch 17\n",
      "Epoch 18\n",
      "Epoch 19\n"
     ]
    }
   ],
   "metadata": {}
  },
  {
   "cell_type": "code",
   "execution_count": 14,
   "source": [
    "# 학습 완료 되었으니 유사한 단어 뽑기 해보자\r\n",
    "model_result1 = glove.most_similar('woman')\r\n",
    "print(model_result1)"
   ],
   "outputs": [
    {
     "output_type": "stream",
     "name": "stdout",
     "text": [
      "[('man', 0.9562144135473687), ('guy', 0.8876158869398776), ('girl', 0.8570906030254912), ('kid', 0.851567422658002)]\n"
     ]
    }
   ],
   "metadata": {}
  },
  {
   "cell_type": "code",
   "execution_count": 16,
   "source": [
    "model_result2=glove.most_similar(\"cat\")\r\n",
    "print(model_result2)"
   ],
   "outputs": [
    {
     "output_type": "stream",
     "name": "stdout",
     "text": [
      "[('battery', 0.8806458422392436), ('physician', 0.8751692764712892), ('sport', 0.8713512761107577), ('dog', 0.8667326054158758)]\n"
     ]
    }
   ],
   "metadata": {}
  },
  {
   "cell_type": "code",
   "execution_count": 27,
   "source": [
    "model_result3=glove.most_similar(\"money\")\r\n",
    "print(model_result3)"
   ],
   "outputs": [
    {
     "output_type": "stream",
     "name": "stdout",
     "text": [
      "[('better', 0.7623932649608524), ('spend', 0.750545642413745), ('get', 0.7306802914490503), ('lot', 0.7305354247041402)]\n"
     ]
    }
   ],
   "metadata": {}
  },
  {
   "cell_type": "code",
   "execution_count": 18,
   "source": [
    "model_result4=glove.most_similar(\"water\")\r\n",
    "print(model_result4)"
   ],
   "outputs": [
    {
     "output_type": "stream",
     "name": "stdout",
     "text": [
      "[('air', 0.8537416799403803), ('fresh', 0.8386465245295099), ('clean', 0.8247012541328808), ('food', 0.8177883595201297)]\n"
     ]
    }
   ],
   "metadata": {}
  },
  {
   "cell_type": "code",
   "execution_count": 26,
   "source": [
    "model_result5=glove.most_similar(\"smart\")\r\n",
    "print(model_result5)"
   ],
   "outputs": [
    {
     "output_type": "stream",
     "name": "stdout",
     "text": [
      "[('quite', 0.7854522161275729), ('rich', 0.7835029402965338), ('healthy', 0.7751506943679994), ('similar', 0.763591558100667)]\n"
     ]
    }
   ],
   "metadata": {}
  },
  {
   "cell_type": "code",
   "execution_count": 21,
   "source": [
    "model_result6=glove.most_similar(\"candy\")\r\n",
    "print(model_result6)"
   ],
   "outputs": [
    {
     "output_type": "stream",
     "name": "stdout",
     "text": [
      "[('symptom', 0.8561671619739152), ('kit', 0.8384330095090121), ('weapon', 0.833907013941906), ('celebration', 0.8270653784203009)]\n"
     ]
    }
   ],
   "metadata": {}
  },
  {
   "cell_type": "code",
   "execution_count": 25,
   "source": [
    "model_result7=glove.most_similar(\"scissors\")\r\n",
    "print(model_result7)"
   ],
   "outputs": [
    {
     "output_type": "stream",
     "name": "stdout",
     "text": [
      "[('encouragement', 0.8971377000148031), ('gloom', 0.8966484737574668), ('stacks', 0.8887300225986902), ('moons', 0.885892264307453)]\n"
     ]
    }
   ],
   "metadata": {}
  }
 ],
 "metadata": {
  "orig_nbformat": 4,
  "language_info": {
   "name": "python",
   "version": "3.8.5",
   "mimetype": "text/x-python",
   "codemirror_mode": {
    "name": "ipython",
    "version": 3
   },
   "pygments_lexer": "ipython3",
   "nbconvert_exporter": "python",
   "file_extension": ".py"
  },
  "kernelspec": {
   "name": "python3",
   "display_name": "Python 3.8.5 64-bit ('chch': conda)"
  },
  "interpreter": {
   "hash": "fdd75c4cec139db88207ac7c4293bdcbae3543546183bc362ebf9b62ac7e89fe"
  }
 },
 "nbformat": 4,
 "nbformat_minor": 2
}