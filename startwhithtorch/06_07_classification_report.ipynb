{
 "cells": [
  {
   "cell_type": "markdown",
   "source": [
    "---\r\n",
    "# 07. 다층 퍼셉트론으로 손글씨 분류하기"
   ],
   "metadata": {}
  },
  {
   "cell_type": "code",
   "execution_count": 180,
   "source": [
    "import matplotlib.pyplot as plt\r\n",
    "from sklearn.datasets import load_digits\r\n",
    "digits = load_digits() # 1979개의 이미지 데이터 로드"
   ],
   "outputs": [],
   "metadata": {}
  },
  {
   "cell_type": "code",
   "execution_count": 181,
   "source": [
    "# 첫 번째 샘플 출력\r\n",
    "print(digits.images[0]) # 8*8 행렬이 출력\r\n",
    "print(digits.target[0]) # 라벨은 0"
   ],
   "outputs": [
    {
     "output_type": "stream",
     "name": "stdout",
     "text": [
      "[[ 0.  0.  5. 13.  9.  1.  0.  0.]\n",
      " [ 0.  0. 13. 15. 10. 15.  5.  0.]\n",
      " [ 0.  3. 15.  2.  0. 11.  8.  0.]\n",
      " [ 0.  4. 12.  0.  0.  8.  8.  0.]\n",
      " [ 0.  5.  8.  0.  0.  9.  8.  0.]\n",
      " [ 0.  4. 11.  0.  1. 12.  7.  0.]\n",
      " [ 0.  2. 14.  5. 10. 12.  0.  0.]\n",
      " [ 0.  0.  6. 13. 10.  0.  0.  0.]]\n",
      "0\n"
     ]
    }
   ],
   "metadata": {}
  },
  {
   "cell_type": "code",
   "execution_count": 182,
   "source": [
    "# 전체 샘플의 개수를 확인해보자\r\n",
    "print('전체 샘플의 수: {}'.format(len(digits.images)))"
   ],
   "outputs": [
    {
     "output_type": "stream",
     "name": "stdout",
     "text": [
      "전체 샘플의 수: 1797\n"
     ]
    }
   ],
   "metadata": {}
  },
  {
   "cell_type": "code",
   "execution_count": 183,
   "source": [
    "# 상위 5개만 시각화해보자\r\n",
    "images_and_labels = list(zip(digits.images, digits.target))\r\n",
    "\r\n",
    "for index, (image, label) in enumerate(images_and_labels[:5]): # 5개의 샘플만 출력\r\n",
    "    print(index+1,'번 인덱스 샘플의 레이블 : ',label)\r\n",
    "    plt.subplot(2, 5, index + 1)\r\n",
    "    plt.axis('off')\r\n",
    "    plt.imshow(image, cmap=plt.cm.gray_r, interpolation='nearest')\r\n",
    "    plt.title('sample: %i' % label)"
   ],
   "outputs": [
    {
     "output_type": "stream",
     "name": "stdout",
     "text": [
      "1 번 인덱스 샘플의 레이블 :  0\n",
      "2 번 인덱스 샘플의 레이블 :  1\n",
      "3 번 인덱스 샘플의 레이블 :  2\n",
      "4 번 인덱스 샘플의 레이블 :  3\n",
      "5 번 인덱스 샘플의 레이블 :  4\n"
     ]
    },
    {
     "output_type": "display_data",
     "data": {
      "image/png": "[encoded data removed]",
      "text/plain": [
       "<Figure size 432x288 with 5 Axes>"
      ]
     },
     "metadata": {
      "needs_background": "light"
     }
    }
   ],
   "metadata": {}
  },
  {
   "cell_type": "code",
   "execution_count": 184,
   "source": [
    "print(digits.data[0])"
   ],
   "outputs": [
    {
     "output_type": "stream",
     "name": "stdout",
     "text": [
      "[ 0.  0.  5. 13.  9.  1.  0.  0.  0.  0. 13. 15. 10. 15.  5.  0.  0.  3.\n",
      " 15.  2.  0. 11.  8.  0.  0.  4. 12.  0.  0.  8.  8.  0.  0.  5.  8.  0.\n",
      "  0.  9.  8.  0.  0.  4. 11.  0.  1. 12.  7.  0.  0.  2. 14.  5. 10. 12.\n",
      "  0.  0.  0.  0.  6. 13. 10.  0.  0.  0.]\n"
     ]
    }
   ],
   "metadata": {}
  },
  {
   "cell_type": "code",
   "execution_count": 185,
   "source": [
    "X = digits.data # 이미지. 즉, 특성 행렬\r\n",
    "Y = digits.target # 각 이미지에 대한 레이블"
   ],
   "outputs": [],
   "metadata": {}
  },
  {
   "cell_type": "code",
   "execution_count": 186,
   "source": [
    "# 다층 퍼셉트론 분류기 만들기\r\n",
    "import torch\r\n",
    "import torch.nn as nn\r\n",
    "from torch import optim"
   ],
   "outputs": [],
   "metadata": {}
  },
  {
   "cell_type": "code",
   "execution_count": 187,
   "source": [
    "torch.manual_seed(1)"
   ],
   "outputs": [
    {
     "output_type": "execute_result",
     "data": {
      "text/plain": [
       "<torch._C.Generator at 0x1d6bc5cff90>"
      ]
     },
     "metadata": {},
     "execution_count": 187
    }
   ],
   "metadata": {}
  },
  {
   "cell_type": "code",
   "execution_count": 188,
   "source": [
    "model = nn.Sequential(\r\n",
    "    nn.Linear(64, 32), # input_layer = 64, hidden_layer1 = 32\r\n",
    "    nn.ReLU(),\r\n",
    "    nn.Linear(32, 16), # hidden_layer2 = 32, hidden_layer3 = 16\r\n",
    "    nn.ReLU(),\r\n",
    "    nn.Linear(16, 10) # hidden_layer3 = 16, output_layer = 10\r\n",
    ")"
   ],
   "outputs": [],
   "metadata": {}
  },
  {
   "cell_type": "code",
   "execution_count": 189,
   "source": [
    "X = torch.tensor(X, dtype=torch.float32)\r\n",
    "Y = torch.tensor(Y, dtype=torch.int64)"
   ],
   "outputs": [],
   "metadata": {}
  },
  {
   "cell_type": "code",
   "execution_count": 190,
   "source": [
    "loss_fn = nn.CrossEntropyLoss()"
   ],
   "outputs": [],
   "metadata": {}
  },
  {
   "cell_type": "code",
   "execution_count": 191,
   "source": [
    "optimizer = optim.Adam(model.parameters())"
   ],
   "outputs": [],
   "metadata": {}
  },
  {
   "cell_type": "code",
   "execution_count": 192,
   "source": [
    "losses = []"
   ],
   "outputs": [],
   "metadata": {}
  },
  {
   "cell_type": "code",
   "execution_count": 193,
   "source": [
    "for epoch in range(3):\r\n",
    "    optimizer.zero_grad()\r\n",
    "    y_pred = model(X) # forwar 연산\r\n",
    "    loss = loss_fn(y_pred, Y)\r\n",
    "    loss.backward()\r\n",
    "    optimizer.step()\r\n",
    "\r\n",
    "    if epoch % 10 == 0:\r\n",
    "        print('Epoch {:4d}/{} Cost: {:.6f}'.format(\r\n",
    "        epoch, 100, loss.item()\r\n",
    "        ))\r\n",
    "\r\n",
    "    losses.append(loss.item())"
   ],
   "outputs": [
    {
     "output_type": "stream",
     "name": "stdout",
     "text": [
      "Epoch    0/100 Cost: 2.441051\n"
     ]
    }
   ],
   "metadata": {}
  },
  {
   "cell_type": "code",
   "execution_count": 194,
   "source": [
    "plt.plot(losses)"
   ],
   "outputs": [
    {
     "output_type": "execute_result",
     "data": {
      "text/plain": [
       "[<matplotlib.lines.Line2D at 0x1d6cbf2fd68>]"
      ]
     },
     "metadata": {},
     "execution_count": 194
    },
    {
     "output_type": "display_data",
     "data": {
      "image/png": "[encoded data removed]",
      "text/plain": [
       "<Figure size 432x288 with 1 Axes>"
      ]
     },
     "metadata": {
      "needs_background": "light"
     }
    }
   ],
   "metadata": {}
  },
  {
   "cell_type": "markdown",
   "source": [
    "---\r\n",
    "## Classification report"
   ],
   "metadata": {}
  },
  {
   "cell_type": "code",
   "execution_count": 195,
   "source": [
    "# 라이브러리 불러오기\r\n",
    "from sklearn.metrics import classification_report\r\n",
    "\r\n",
    "# 예측값 추출\r\n",
    "y_pred = model(X)\r\n",
    "y_pred = torch.argmax(y_pred, 1).detach().numpy()\r\n",
    "\r\n",
    "# classification report \r\n",
    "print(classification_report(Y, y_pred, zero_division='warn'))"
   ],
   "outputs": [
    {
     "output_type": "stream",
     "name": "stdout",
     "text": [
      "              precision    recall  f1-score   support\n",
      "\n",
      "           0       0.00      0.00      0.00       178\n",
      "           1       0.18      0.59      0.28       182\n",
      "           2       0.00      0.00      0.00       177\n",
      "           3       0.10      0.37      0.15       183\n",
      "           4       0.02      0.01      0.01       181\n",
      "           5       0.17      0.38      0.23       182\n",
      "           6       0.00      0.00      0.00       181\n",
      "           7       0.33      0.04      0.07       179\n",
      "           8       0.00      0.00      0.00       174\n",
      "           9       0.00      0.00      0.00       180\n",
      "\n",
      "    accuracy                           0.14      1797\n",
      "   macro avg       0.08      0.14      0.07      1797\n",
      "weighted avg       0.08      0.14      0.08      1797\n",
      "\n"
     ]
    },
    {
     "output_type": "stream",
     "name": "stderr",
     "text": [
      "C:\\Users\\lemon\\anaconda3\\envs\\chch\\lib\\site-packages\\sklearn\\metrics\\_classification.py:1248: UndefinedMetricWarning: Precision and F-score are ill-defined and being set to 0.0 in labels with no predicted samples. Use `zero_division` parameter to control this behavior.\n",
      "  _warn_prf(average, modifier, msg_start, len(result))\n",
      "C:\\Users\\lemon\\anaconda3\\envs\\chch\\lib\\site-packages\\sklearn\\metrics\\_classification.py:1248: UndefinedMetricWarning: Precision and F-score are ill-defined and being set to 0.0 in labels with no predicted samples. Use `zero_division` parameter to control this behavior.\n",
      "  _warn_prf(average, modifier, msg_start, len(result))\n",
      "C:\\Users\\lemon\\anaconda3\\envs\\chch\\lib\\site-packages\\sklearn\\metrics\\_classification.py:1248: UndefinedMetricWarning: Precision and F-score are ill-defined and being set to 0.0 in labels with no predicted samples. Use `zero_division` parameter to control this behavior.\n",
      "  _warn_prf(average, modifier, msg_start, len(result))\n"
     ]
    }
   ],
   "metadata": {}
  },
  {
   "cell_type": "code",
   "execution_count": 196,
   "source": [
    "print(classification_report(Y, y_pred, zero_division=1))"
   ],
   "outputs": [
    {
     "output_type": "stream",
     "name": "stdout",
     "text": [
      "              precision    recall  f1-score   support\n",
      "\n",
      "           0       0.00      0.00      0.00       178\n",
      "           1       0.18      0.59      0.28       182\n",
      "           2       1.00      0.00      0.00       177\n",
      "           3       0.10      0.37      0.15       183\n",
      "           4       0.02      0.01      0.01       181\n",
      "           5       0.17      0.38      0.23       182\n",
      "           6       0.00      0.00      0.00       181\n",
      "           7       0.33      0.04      0.07       179\n",
      "           8       1.00      0.00      0.00       174\n",
      "           9       0.00      0.00      0.00       180\n",
      "\n",
      "    accuracy                           0.14      1797\n",
      "   macro avg       0.28      0.14      0.07      1797\n",
      "weighted avg       0.28      0.14      0.08      1797\n",
      "\n"
     ]
    }
   ],
   "metadata": {}
  },
  {
   "cell_type": "code",
   "execution_count": 197,
   "source": [
    "from sklearn.metrics import accuracy_score\r\n",
    "print(accuracy_score(Y, y_pred))"
   ],
   "outputs": [
    {
     "output_type": "stream",
     "name": "stdout",
     "text": [
      "0.13967723984418476\n"
     ]
    }
   ],
   "metadata": {}
  },
  {
   "cell_type": "code",
   "execution_count": 204,
   "source": [
    "for i in range(10):\r\n",
    "    print(i, '라벨의 개수:', end= ' ')\r\n",
    "    print(Y.tolist().count(i))"
   ],
   "outputs": [
    {
     "output_type": "stream",
     "name": "stdout",
     "text": [
      "0 라벨의 개수: 178\n",
      "1 라벨의 개수: 182\n",
      "2 라벨의 개수: 177\n",
      "3 라벨의 개수: 183\n",
      "4 라벨의 개수: 181\n",
      "5 라벨의 개수: 182\n",
      "6 라벨의 개수: 181\n",
      "7 라벨의 개수: 179\n",
      "8 라벨의 개수: 174\n",
      "9 라벨의 개수: 180\n"
     ]
    }
   ],
   "metadata": {}
  }
 ],
 "metadata": {
  "orig_nbformat": 4,
  "language_info": {
   "name": "python",
   "version": "3.6.5",
   "mimetype": "text/x-python",
   "codemirror_mode": {
    "name": "ipython",
    "version": 3
   },
   "pygments_lexer": "ipython3",
   "nbconvert_exporter": "python",
   "file_extension": ".py"
  },
  "kernelspec": {
   "name": "python3",
   "display_name": "Python 3.6.5 64-bit ('chch': conda)"
  },
  "interpreter": {
   "hash": "fdd75c4cec139db88207ac7c4293bdcbae3543546183bc362ebf9b62ac7e89fe"
  }
 },
 "nbformat": 4,
 "nbformat_minor": 2
}