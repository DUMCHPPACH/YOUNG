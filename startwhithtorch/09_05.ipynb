{
 "cells": [
  {
   "cell_type": "markdown",
   "source": [
    "# 05. 임베딩 벡터의 시각화(Embedding Visualization)\r\n",
    "---"
   ],
   "metadata": {}
  },
  {
   "cell_type": "code",
   "execution_count": null,
   "source": [
    "# 구글에서 제공하는 embedding projector를 이용해 데이터를 시각화해보자\r\n",
    "\r\n",
    "# 임베딩 프로젝터 논문 : https://arxiv.org/pdf/1611.05469v1.pdf"
   ],
   "outputs": [],
   "metadata": {}
  },
  {
   "cell_type": "code",
   "execution_count": 1,
   "source": [
    "# eng_w2v 파일을 이용해보자\r\n",
    "# eng_w2v_path = 'D:\\chch\\startwhithtorch\\datafolder\\eng_w2v'\r\n",
    "\r\n",
    "# cmd켜고 eng_w2v 경로에가서\r\n",
    "# python -m gensim.scripts.word2vec2tensor --input eng_w2v --output eng_w2v\r\n",
    "# eng_w2v_metadata.tsv와 eng_w2v_tensor.tsv 두 개의 파일이 생성\r\n",
    "# 이 두 파일을 이용해 시각화를 해보자"
   ],
   "outputs": [],
   "metadata": {}
  },
  {
   "cell_type": "code",
   "execution_count": 2,
   "source": [
    "# 2. 임베딩 프로젝터를 사용하여 시각화하기\r\n",
    "\r\n",
    "# 아래 링크로 접속\r\n",
    "# 링크 : https://projector.tensorflow.org/\r\n",
    "\r\n",
    "# load 버튼을 누르고\r\n",
    "# 처음에는 tensor.tsv\r\n",
    "# 두번째는 metadata.tsv\r\n",
    "\r\n",
    "# 우와 신기하다~~~\r\n"
   ],
   "outputs": [],
   "metadata": {}
  }
 ],
 "metadata": {
  "orig_nbformat": 4,
  "language_info": {
   "name": "python",
   "version": "3.8.5",
   "mimetype": "text/x-python",
   "codemirror_mode": {
    "name": "ipython",
    "version": 3
   },
   "pygments_lexer": "ipython3",
   "nbconvert_exporter": "python",
   "file_extension": ".py"
  },
  "kernelspec": {
   "name": "python3",
   "display_name": "Python 3.8.5 64-bit ('chch': conda)"
  },
  "interpreter": {
   "hash": "fdd75c4cec139db88207ac7c4293bdcbae3543546183bc362ebf9b62ac7e89fe"
  }
 },
 "nbformat": 4,
 "nbformat_minor": 2
}