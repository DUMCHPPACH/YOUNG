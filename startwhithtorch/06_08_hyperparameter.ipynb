{
 "cells": [
  {
   "cell_type": "markdown",
   "source": [
    "---\r\n",
    "# 08. 다층 퍼셉트론으로 MNIST 분류하기"
   ],
   "metadata": {}
  },
  {
   "cell_type": "code",
   "execution_count": 2,
   "source": [
    "import numpy as np\r\n",
    "import matplotlib.pyplot as plt\r\n",
    "\r\n",
    "# 데이터 불러오기\r\n",
    "from sklearn.datasets import fetch_openml"
   ],
   "outputs": [],
   "metadata": {}
  },
  {
   "cell_type": "code",
   "execution_count": 3,
   "source": [
    "mnist = fetch_openml('mnist_784', version=1, cache=True)"
   ],
   "outputs": [],
   "metadata": {}
  },
  {
   "cell_type": "code",
   "execution_count": null,
   "source": [
    "print(type(mnist))\r\n",
    "# <class 'sklearn.utils.Bunch'>\r\n",
    "print('-'*40)\r\n",
    "print(mnist)\r\n",
    "# {'data':        pixel1  pixel2  pixel3  pixel4  pixel5  pixel6  pixel7  pixel8  pixel9  \\\r\n",
    "# 0         0.0     0.0     0.0     0.0     0.0     0.0     0.0     0.0     0.0   \r\n",
    "# 1         0.0     0.0     0.0     0.0     0.0     0.0     0.0     0.0     0.0   \r\n",
    "# 2         0.0     0.0     0.0     0.0     0.0     0.0     0.0     0.0     0.0   \r\n",
    "# 3         0.0     0.0     0.0     0.0     0.0     0.0     0.0     0.0     0.0   \r\n",
    "# 4         0.0     0.0     0.0     0.0     0.0     0.0     0.0     0.0     0.0   \r\n",
    "# ...       ...     ...     ...     ...     ...     ...     ...     ...     ...   \r\n",
    "# 69995     0.0     0.0     0.0     0.0     0.0     0.0     0.0     0.0     0.0   \r\n",
    "# 69996     0.0     0.0     0.0     0.0     0.0     0.0     0.0     0.0     0.0   \r\n",
    "# 69997     0.0     0.0     0.0     0.0     0.0     0.0     0.0     0.0     0.0   \r\n",
    "# 69998     0.0     0.0     0.0     0.0     0.0     0.0     0.0     0.0     0.0   \r\n",
    "# 69999     0.0     0.0     0.0     0.0     0.0     0.0     0.0     0.0     0.0   \r\n",
    "\r\n",
    "#        pixel10  ...  pixel775  pixel776  pixel777  pixel778  pixel779  \\\r\n",
    "# 0          0.0  ...       0.0       0.0       0.0       0.0       0.0   \r\n",
    "# 1          0.0  ...       0.0       0.0       0.0       0.0       0.0   \r\n",
    "# 2          0.0  ...       0.0       0.0       0.0       0.0       0.0   \r\n",
    "# 3          0.0  ...       0.0       0.0       0.0       0.0       0.0   \r\n",
    "# 4          0.0  ...       0.0       0.0       0.0       0.0       0.0   \r\n",
    "# ...        ...  ...       ...       ...       ...       ...       ...   \r\n",
    "# 69995      0.0  ...       0.0       0.0       0.0       0.0       0.0   \r\n",
    "# 69996      0.0  ...       0.0       0.0       0.0       0.0       0.0   \r\n",
    "# 69997      0.0  ...       0.0       0.0       0.0       0.0       0.0\r\n",
    "print('-'*40)\r\n",
    "print(mnist[0])\r\n",
    "# KeyError: 0 -> 안불러짐"
   ],
   "outputs": [],
   "metadata": {}
  },
  {
   "cell_type": "code",
   "execution_count": 15,
   "source": [
    "print(len(mnist))\r\n",
    "print(type(mnist.data))\r\n",
    "print(mnist.data)\r\n",
    "print(type(mnist.target))\r\n",
    "print(mnist.target)"
   ],
   "outputs": [
    {
     "output_type": "stream",
     "name": "stdout",
     "text": [
      "9\n",
      "<class 'pandas.core.frame.DataFrame'>\n",
      "       pixel1  pixel2  pixel3  pixel4  pixel5  pixel6  pixel7  pixel8  pixel9  \\\n",
      "0         0.0     0.0     0.0     0.0     0.0     0.0     0.0     0.0     0.0   \n",
      "1         0.0     0.0     0.0     0.0     0.0     0.0     0.0     0.0     0.0   \n",
      "2         0.0     0.0     0.0     0.0     0.0     0.0     0.0     0.0     0.0   \n",
      "3         0.0     0.0     0.0     0.0     0.0     0.0     0.0     0.0     0.0   \n",
      "4         0.0     0.0     0.0     0.0     0.0     0.0     0.0     0.0     0.0   \n",
      "...       ...     ...     ...     ...     ...     ...     ...     ...     ...   \n",
      "69995     0.0     0.0     0.0     0.0     0.0     0.0     0.0     0.0     0.0   \n",
      "69996     0.0     0.0     0.0     0.0     0.0     0.0     0.0     0.0     0.0   \n",
      "69997     0.0     0.0     0.0     0.0     0.0     0.0     0.0     0.0     0.0   \n",
      "69998     0.0     0.0     0.0     0.0     0.0     0.0     0.0     0.0     0.0   \n",
      "69999     0.0     0.0     0.0     0.0     0.0     0.0     0.0     0.0     0.0   \n",
      "\n",
      "       pixel10  ...  pixel775  pixel776  pixel777  pixel778  pixel779  \\\n",
      "0          0.0  ...       0.0       0.0       0.0       0.0       0.0   \n",
      "1          0.0  ...       0.0       0.0       0.0       0.0       0.0   \n",
      "2          0.0  ...       0.0       0.0       0.0       0.0       0.0   \n",
      "3          0.0  ...       0.0       0.0       0.0       0.0       0.0   \n",
      "4          0.0  ...       0.0       0.0       0.0       0.0       0.0   \n",
      "...        ...  ...       ...       ...       ...       ...       ...   \n",
      "69995      0.0  ...       0.0       0.0       0.0       0.0       0.0   \n",
      "69996      0.0  ...       0.0       0.0       0.0       0.0       0.0   \n",
      "69997      0.0  ...       0.0       0.0       0.0       0.0       0.0   \n",
      "69998      0.0  ...       0.0       0.0       0.0       0.0       0.0   \n",
      "69999      0.0  ...       0.0       0.0       0.0       0.0       0.0   \n",
      "\n",
      "       pixel780  pixel781  pixel782  pixel783  pixel784  \n",
      "0           0.0       0.0       0.0       0.0       0.0  \n",
      "1           0.0       0.0       0.0       0.0       0.0  \n",
      "2           0.0       0.0       0.0       0.0       0.0  \n",
      "3           0.0       0.0       0.0       0.0       0.0  \n",
      "4           0.0       0.0       0.0       0.0       0.0  \n",
      "...         ...       ...       ...       ...       ...  \n",
      "69995       0.0       0.0       0.0       0.0       0.0  \n",
      "69996       0.0       0.0       0.0       0.0       0.0  \n",
      "69997       0.0       0.0       0.0       0.0       0.0  \n",
      "69998       0.0       0.0       0.0       0.0       0.0  \n",
      "69999       0.0       0.0       0.0       0.0       0.0  \n",
      "\n",
      "[70000 rows x 784 columns]\n",
      "<class 'pandas.core.series.Series'>\n",
      "0        5\n",
      "1        0\n",
      "2        4\n",
      "3        1\n",
      "4        9\n",
      "        ..\n",
      "69995    2\n",
      "69996    3\n",
      "69997    4\n",
      "69998    5\n",
      "69999    6\n",
      "Name: class, Length: 70000, dtype: category\n",
      "Categories (10, object): ['0', '1', '2', '3', ..., '6', '7', '8', '9']\n"
     ]
    }
   ],
   "metadata": {}
  },
  {
   "cell_type": "code",
   "execution_count": 8,
   "source": [
    "mnist2 = fetch_openml('mnist_784', version=1, as_frame=False)"
   ],
   "outputs": [],
   "metadata": {}
  },
  {
   "cell_type": "code",
   "execution_count": null,
   "source": [
    "print(type(mnist2))\r\n",
    "# <class 'sklearn.utils.Bunch'>\r\n",
    "print('-'*40)\r\n",
    "print(mnist2)\r\n",
    "# {'data': array([[0., 0., 0., ..., 0., 0., 0.],\r\n",
    "#        [0., 0., 0., ..., 0., 0., 0.],\r\n",
    "#        [0., 0., 0., ..., 0., 0., 0.],\r\n",
    "#        ...,\r\n",
    "#        [0., 0., 0., ..., 0., 0., 0.],\r\n",
    "#        [0., 0., 0., ..., 0., 0., 0.],\r\n",
    "#        [0., 0., 0., ..., 0., 0., 0.]]), 'target': array(['5', '0', '4', ..., '4', '5', '6'], dtype=object), 'frame': None, 'categories': {}, 'feature_names': ['pixel1', 'pixel2', 'pixel3', 'pixel4', 'pixel5', 'pixel6', 'pixel7', 'pixel8', 'pixel9', 'pixel10', 'pixel11', 'pixel12', 'pixel13', 'pixel14', 'pixel15', 'pixel16', 'pixel17', 'pixel18', 'pixel19', 'pixel20', 'pixel21', 'pixel22', 'pixel23', 'pixel24', 'pixel25', 'pixel26', 'pixel27', 'pixel28', 'pixel29', 'pixel30', 'pixel31', 'pixel32', 'pixel33', 'pixel34', 'pixel35', 'pixel36', 'pixel37', 'pixel38', 'pixel39', 'pixel40', 'pixel41', 'pixel42', 'pixel43', 'pixel44', 'pixel45', 'pixel46', 'pixel47', 'pixel48', 'pixel49', 'pixel50', 'pixel51', 'pixel52', 'pixel53', 'pixel54', 'pixel55', 'pixel56', 'pixel57', 'pixel58', 'pixel59', 'pixel60', 'pixel61', 'pixel62', 'pixel63', 'pixel64', 'pixel65', 'pixel66', 'pixel67', 'pixel68', 'pixel69', \r\n",
    "print('-'*40)\r\n",
    "print(mnist2[0])\r\n",
    "# KeyError: 0 -> 안불러짐"
   ],
   "outputs": [],
   "metadata": {}
  },
  {
   "cell_type": "code",
   "execution_count": 16,
   "source": [
    "print(len(mnist2))\r\n",
    "print(type(mnist2.data))\r\n",
    "print(mnist2.data)\r\n",
    "print(type(mnist2.target))\r\n",
    "print(mnist2.target)\r\n"
   ],
   "outputs": [
    {
     "output_type": "stream",
     "name": "stdout",
     "text": [
      "9\n",
      "<class 'numpy.ndarray'>\n",
      "[[0. 0. 0. ... 0. 0. 0.]\n",
      " [0. 0. 0. ... 0. 0. 0.]\n",
      " [0. 0. 0. ... 0. 0. 0.]\n",
      " ...\n",
      " [0. 0. 0. ... 0. 0. 0.]\n",
      " [0. 0. 0. ... 0. 0. 0.]\n",
      " [0. 0. 0. ... 0. 0. 0.]]\n",
      "<class 'numpy.ndarray'>\n",
      "['5' '0' '4' ... '4' '5' '6']\n"
     ]
    }
   ],
   "metadata": {}
  }
 ],
 "metadata": {
  "orig_nbformat": 4,
  "language_info": {
   "name": "python",
   "version": "3.6.5",
   "mimetype": "text/x-python",
   "codemirror_mode": {
    "name": "ipython",
    "version": 3
   },
   "pygments_lexer": "ipython3",
   "nbconvert_exporter": "python",
   "file_extension": ".py"
  },
  "kernelspec": {
   "name": "python3",
   "display_name": "Python 3.6.5 64-bit ('chch': conda)"
  },
  "interpreter": {
   "hash": "fdd75c4cec139db88207ac7c4293bdcbae3543546183bc362ebf9b62ac7e89fe"
  }
 },
 "nbformat": 4,
 "nbformat_minor": 2
}