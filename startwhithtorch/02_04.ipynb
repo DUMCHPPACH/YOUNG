{
 "cells": [
  {
   "cell_type": "code",
   "execution_count": null,
   "source": [
    "# https://wikidocs.net/60034"
   ],
   "outputs": [],
   "metadata": {}
  },
  {
   "cell_type": "markdown",
   "source": [
    "---\r\n",
    "# 파이썬 클래스"
   ],
   "metadata": {}
  },
  {
   "cell_type": "markdown",
   "source": [
    "---\r\n",
    "## 함수funtion와 클래스class의 차이"
   ],
   "metadata": {}
  },
  {
   "cell_type": "code",
   "execution_count": 1,
   "source": [
    "# 함수로 덧셈기 구현하기\r\n",
    "\r\n",
    "# 전역변수 선언\r\n",
    "result = 0\r\n",
    "\r\n",
    "def add(num):\r\n",
    "    global result\r\n",
    "    result += num\r\n",
    "    return result\r\n",
    "\r\n",
    "print(add(3))\r\n",
    "print(add(4))"
   ],
   "outputs": [
    {
     "output_type": "stream",
     "name": "stdout",
     "text": [
      "3\n",
      "7\n"
     ]
    }
   ],
   "metadata": {}
  },
  {
   "cell_type": "code",
   "execution_count": 3,
   "source": [
    "# 독립적인 두개의 덧셈기 구현하기\r\n",
    "\r\n",
    "result1 = 0\r\n",
    "result2 = 0\r\n",
    "\r\n",
    "def add1(num):\r\n",
    "    global result1\r\n",
    "    result1 += num\r\n",
    "    return result1\r\n",
    "\r\n",
    "def add2(num):\r\n",
    "    global result2\r\n",
    "    result2 += num\r\n",
    "    return result2\r\n",
    "\r\n",
    "print('add1: ',add1(3))\r\n",
    "print('add1: ',add1(4))\r\n",
    "print('add2: ',add2(3))\r\n",
    "print('add2: ',add2(7))\r\n",
    "\r\n",
    "# 서로 독립적인 결과를 반환하고 있음"
   ],
   "outputs": [
    {
     "output_type": "stream",
     "name": "stdout",
     "text": [
      "add1:  3\n",
      "add1:  7\n",
      "add2:  3\n",
      "add2:  10\n"
     ]
    }
   ],
   "metadata": {}
  },
  {
   "cell_type": "code",
   "execution_count": 4,
   "source": [
    "# 클래스로 덧셈기 구현\r\n",
    "\r\n",
    "class Calculator:\r\n",
    "    def __init__(self): # 객체 생성 시 호출될 때 실행되는 초기화 함수. 생성자라고 부른다.\r\n",
    "        self.result = 0\r\n",
    "    \r\n",
    "    def add(self, num): # 객체 생성 후 사용할 수 있는 함수\r\n",
    "        self.result += num\r\n",
    "        return self.result"
   ],
   "outputs": [],
   "metadata": {}
  },
  {
   "cell_type": "code",
   "execution_count": 6,
   "source": [
    "# 위에서 만든 클래서로 객제 만들기\r\n",
    "cal1 = Calculator()\r\n",
    "cal2 = Calculator()"
   ],
   "outputs": [],
   "metadata": {}
  },
  {
   "cell_type": "code",
   "execution_count": 8,
   "source": [
    "print('cal1 :', cal1.add(3))\r\n",
    "print('cal1 :', cal1.add(4))\r\n",
    "print('cal2 :', cal2.add(3))\r\n",
    "print('cal2 :', cal2.add(7))\r\n",
    "\r\n",
    "# 역시 독립적인 결과를 반환함\r\n",
    "\r\n",
    "# 즉 함수로 하면 두개의 함수를 만들어야 했지만,\r\n",
    "# 클래스로는 하나를 선언하고 객체를 통해 2개를 만들 수 있으니 더욱 간결하다."
   ],
   "outputs": [
    {
     "output_type": "stream",
     "name": "stdout",
     "text": [
      "cal1 : 10\n",
      "cal1 : 14\n",
      "cal2 : 13\n",
      "cal2 : 20\n"
     ]
    }
   ],
   "metadata": {}
  }
 ],
 "metadata": {
  "orig_nbformat": 4,
  "language_info": {
   "name": "python",
   "version": "3.6.5",
   "mimetype": "text/x-python",
   "codemirror_mode": {
    "name": "ipython",
    "version": 3
   },
   "pygments_lexer": "ipython3",
   "nbconvert_exporter": "python",
   "file_extension": ".py"
  },
  "kernelspec": {
   "name": "python3",
   "display_name": "Python 3.6.5 64-bit ('chch': conda)"
  },
  "interpreter": {
   "hash": "fdd75c4cec139db88207ac7c4293bdcbae3543546183bc362ebf9b62ac7e89fe"
  }
 },
 "nbformat": 4,
 "nbformat_minor": 2
}