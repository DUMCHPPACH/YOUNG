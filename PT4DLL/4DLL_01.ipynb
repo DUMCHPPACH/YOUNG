{
 "cells": [
  {
   "cell_type": "markdown",
   "source": [
    "## Pytorch Tutorial for Deep Learning Lovers\r\n",
    "---\r\n",
    "[링크](https://www.kaggle.com/kanncaa1/pytorch-tutorial-for-deep-learning-lovers/data)\r\n",
    "\r\n",
    "### Basics of Pytorch 진행"
   ],
   "metadata": {}
  },
  {
   "cell_type": "code",
   "execution_count": 6,
   "source": [
    "# 라이브러리 불러오기\r\n",
    "import numpy as np\r\n",
    "import pandas as pd\r\n",
    "import matplotlib.pyplot as plt\r\n",
    "import os\r\n",
    "import torch\r\n",
    "from torch.autograd import Variable\r\n",
    "print(os.listdir('D:/chchdata/dataset/digit_recognizer'))"
   ],
   "outputs": [
    {
     "output_type": "stream",
     "name": "stdout",
     "text": [
      "['sample_submission.csv', 'test.csv', 'train.csv']\n"
     ]
    }
   ],
   "metadata": {}
  },
  {
   "cell_type": "markdown",
   "source": [
    "---\r\n",
    "### Linear Regression\r\n"
   ],
   "metadata": {}
  },
  {
   "cell_type": "code",
   "execution_count": 8,
   "source": [
    "# 이전 자동차 판매 가격을 수집\r\n",
    "\r\n",
    "# 자동차 가격을 정의\r\n",
    "car_prices_array = [3,4,5,6,7,8,9]\r\n",
    "car_price_np = np.array(car_prices_array, dtype=np.float32)\r\n",
    "car_price_np = car_price_np.reshape(-1,1)\r\n",
    "car_price_tensor = Variable(torch.from_numpy(car_price_np))\r\n",
    "\r\n",
    "# 자동차 판매 대수를 정의\r\n",
    "number_of_car_sell_array = [7.5, 7, 6.5, 6.0, 5.5, 5.0, 4.5]\r\n",
    "number_of_car_sell_np = np.array(number_of_car_sell_array, dtype=np.float32)\r\n",
    "number_of_car_sell_np = number_of_car_sell_np.reshape(-1, 1)\r\n",
    "number_of_car_sell_tensor = Variable(torch.from_numpy(number_of_car_sell_np))\r\n",
    "\r\n",
    "# 데이터를 시각화\r\n",
    "import matplotlib.pyplot as plt\r\n",
    "plt.scatter(car_prices_array, number_of_car_sell_array)\r\n",
    "plt.xlabel('Car Price $')\r\n",
    "plt.ylabel('Number of Car Sell')\r\n",
    "plt.title('Car Price$ VS Number of Car Sell')\r\n",
    "plt.show()"
   ],
   "outputs": [
    {
     "output_type": "display_data",
     "data": {
      "text/plain": [
       "<Figure size 432x288 with 1 Axes>"
      ],
      "image/png": "[encoded data removed]"
     },
     "metadata": {
      "needs_background": "light"
     }
    }
   ],
   "metadata": {}
  },
  {
   "cell_type": "code",
   "execution_count": 11,
   "source": [
    "# Linear Regression with Pytorch\r\n",
    "\r\n",
    "# 라이브러리 불러오기\r\n",
    "import torch\r\n",
    "from torch.autograd import Variable\r\n",
    "import torch.nn as nn\r\n",
    "import warnings\r\n",
    "warnings.filterwarnings('ignore')\r\n",
    "\r\n",
    "# 클래스 생성\r\n",
    "class LinearRegression(nn.Module):\r\n",
    "    def __init__(self, input_size, output_size):\r\n",
    "        # 상속 함수. nn.Module을 상속 받아서 모든 기능을 사용할 수 있게 하는 클래스\r\n",
    "        super(LinearRegression, self).__init__()\r\n",
    "        # linear function\r\n",
    "        self.linear = nn.Linear(input_dim, output_dim)\r\n",
    "    \r\n",
    "    def forward(self, x):\r\n",
    "        return self.linear(x)\r\n",
    "\r\n",
    "# define model\r\n",
    "input_dim = 1\r\n",
    "output_dim = 1\r\n",
    "model = LinearRegression(input_dim, output_dim) # 인풋, 아웃풋 데이터 사이즈 : 1\r\n",
    "\r\n",
    "# MSE\r\n",
    "mse = nn.MSELoss()\r\n",
    "\r\n",
    "# Optimization (파라미터를 찾아서 에러를 최소화)\r\n",
    "learning_rate = 0.02\r\n",
    "optimizer = torch.optim.SGD(model.parameters(), lr = learning_rate)\r\n",
    "\r\n",
    "# 학습 모델\r\n",
    "loss_list = [] \r\n",
    "iteration_number = 1001\r\n",
    "for iteration in range(iteration_number):\r\n",
    "\r\n",
    "    # optimization\r\n",
    "    optimizer.zero_grad()\r\n",
    "\r\n",
    "    # 순전파\r\n",
    "    results = model(car_price_tensor)\r\n",
    "\r\n",
    "    # loss 계산\r\n",
    "    loss = mse(results, number_of_car_sell_tensor)\r\n",
    "\r\n",
    "    # 역전파\r\n",
    "    loss.backward()\r\n",
    "\r\n",
    "    # 파라미터 업데이트\r\n",
    "    optimizer.step()\r\n",
    "\r\n",
    "    # 로스 기록\r\n",
    "    loss_list.append(loss.data)\r\n",
    "\r\n",
    "    # 로스 출력\r\n",
    "    if(iteration % 50 == 0):\r\n",
    "        print('epoch {}, loss {}'.format(iteration, loss.data))\r\n",
    "    \r\n",
    "plt.plot(range(iteration_number), loss_list)\r\n",
    "plt.xlabel('Number of Iterations')\r\n",
    "plt.ylabel('Loss')\r\n",
    "plt.show()"
   ],
   "outputs": [
    {
     "output_type": "stream",
     "name": "stdout",
     "text": [
      "epoch 0, loss 27.04350471496582\n",
      "epoch 50, loss 5.0174455642700195\n",
      "epoch 100, loss 3.390497922897339\n",
      "epoch 150, loss 2.2911007404327393\n",
      "epoch 200, loss 1.5481913089752197\n",
      "epoch 250, loss 1.0461781024932861\n",
      "epoch 300, loss 0.7069472670555115\n",
      "epoch 350, loss 0.4777139127254486\n",
      "epoch 400, loss 0.32281187176704407\n",
      "epoch 450, loss 0.21813760697841644\n",
      "epoch 500, loss 0.1474047750234604\n",
      "epoch 550, loss 0.09960733354091644\n",
      "epoch 600, loss 0.06730847805738449\n",
      "epoch 650, loss 0.045483313500881195\n",
      "epoch 700, loss 0.030734781175851822\n",
      "epoch 750, loss 0.020768582820892334\n",
      "epoch 800, loss 0.014034160412847996\n",
      "epoch 850, loss 0.009483376517891884\n",
      "epoch 900, loss 0.0064083486795425415\n",
      "epoch 950, loss 0.004330442752689123\n",
      "epoch 1000, loss 0.0029262234456837177\n"
     ]
    },
    {
     "output_type": "display_data",
     "data": {
      "text/plain": [
       "<Figure size 432x288 with 1 Axes>"
      ],
      "image/png": "[encoded data removed]"
     },
     "metadata": {
      "needs_background": "light"
     }
    }
   ],
   "metadata": {}
  },
  {
   "cell_type": "code",
   "execution_count": 12,
   "source": [
    "# 자동차 가격을 예측\r\n",
    "\r\n",
    "predicted = model(car_price_tensor).data.numpy()\r\n",
    "plt.scatter(car_prices_array, number_of_car_sell_array, label = 'original data', color = 'red')\r\n",
    "plt.scatter(car_prices_array, predicted, label = 'predicted data', color = 'blue')\r\n",
    "\r\n",
    "# 예측한 자동차의 가격이 10달러라면 판매 대수를 예측 할 수 있다.\r\n",
    "plt.legend()\r\n",
    "plt.xlabel('Car Price $')\r\n",
    "plt.ylabel('Number of Car Sell')\r\n",
    "plt.title('Original vs Predicted values')\r\n",
    "plt.show()"
   ],
   "outputs": [
    {
     "output_type": "display_data",
     "data": {
      "text/plain": [
       "<Figure size 432x288 with 1 Axes>"
      ],
      "image/png": "[encoded data removed]"
     },
     "metadata": {
      "needs_background": "light"
     }
    }
   ],
   "metadata": {}
  },
  {
   "cell_type": "markdown",
   "source": [
    "---\r\n",
    "### Logistic Regression"
   ],
   "metadata": {}
  }
 ],
 "metadata": {
  "orig_nbformat": 4,
  "language_info": {
   "name": "python",
   "version": "3.6.5",
   "mimetype": "text/x-python",
   "codemirror_mode": {
    "name": "ipython",
    "version": 3
   },
   "pygments_lexer": "ipython3",
   "nbconvert_exporter": "python",
   "file_extension": ".py"
  },
  "kernelspec": {
   "name": "python3",
   "display_name": "Python 3.6.5 64-bit ('chch': conda)"
  },
  "interpreter": {
   "hash": "fdd75c4cec139db88207ac7c4293bdcbae3543546183bc362ebf9b62ac7e89fe"
  }
 },
 "nbformat": 4,
 "nbformat_minor": 2
}