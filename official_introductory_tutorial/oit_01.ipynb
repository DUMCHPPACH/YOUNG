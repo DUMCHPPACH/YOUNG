{
 "cells": [
  {
   "cell_type": "markdown",
   "source": [
    "### 1강. 텐서  \r\n",
    "https://youtu.be/6SF_qAd99Yg\r\n",
    "\r\n",
    "토치의 텐서는 numpy array와 비슷하다."
   ],
   "metadata": {}
  },
  {
   "cell_type": "code",
   "execution_count": 77,
   "source": [
    "# 라이브러리 불러오기\r\n",
    "import torch\r\n",
    "import numpy as np"
   ],
   "outputs": [],
   "metadata": {}
  },
  {
   "cell_type": "markdown",
   "source": [
    "### 텐서 만들기\r\n",
    "---"
   ],
   "metadata": {}
  },
  {
   "cell_type": "code",
   "execution_count": 78,
   "source": [
    "# 5,4 크기의 텐서 만들기\r\n",
    "x = torch.empty(5,4)\r\n",
    "print(x)"
   ],
   "outputs": [
    {
     "output_type": "stream",
     "name": "stdout",
     "text": [
      "tensor([[1.0194e-38, 1.0745e-38, 1.0653e-38, 1.0469e-38],\n",
      "        [8.7245e-39, 1.0745e-38, 1.0194e-38, 9.6429e-39],\n",
      "        [9.9184e-39, 5.5103e-39, 1.0286e-38, 1.0653e-38],\n",
      "        [1.0194e-38, 4.1328e-39, 1.0102e-38, 1.0745e-38],\n",
      "        [4.1328e-39, 4.9592e-39, 9.0918e-39, 4.6837e-39]])\n"
     ]
    }
   ],
   "metadata": {}
  },
  {
   "cell_type": "code",
   "execution_count": 79,
   "source": [
    "# 1로 채운 텐서 만들기\r\n",
    "torch.ones(3,3)"
   ],
   "outputs": [
    {
     "output_type": "execute_result",
     "data": {
      "text/plain": [
       "tensor([[1., 1., 1.],\n",
       "        [1., 1., 1.],\n",
       "        [1., 1., 1.]])"
      ]
     },
     "metadata": {},
     "execution_count": 79
    }
   ],
   "metadata": {}
  },
  {
   "cell_type": "code",
   "execution_count": 80,
   "source": [
    "# 0으로 채운 텐서 만들기\r\n",
    "torch.zeros(2)"
   ],
   "outputs": [
    {
     "output_type": "execute_result",
     "data": {
      "text/plain": [
       "tensor([0., 0.])"
      ]
     },
     "metadata": {},
     "execution_count": 80
    }
   ],
   "metadata": {}
  },
  {
   "cell_type": "code",
   "execution_count": 81,
   "source": [
    "# 랜덤 값으로 텐서 만들기\r\n",
    "torch.rand(5,6)"
   ],
   "outputs": [
    {
     "output_type": "execute_result",
     "data": {
      "text/plain": [
       "tensor([[0.8744, 0.7456, 0.6841, 0.9217, 0.8476, 0.0053],\n",
       "        [0.0270, 0.4349, 0.2463, 0.7308, 0.6352, 0.9979],\n",
       "        [0.0255, 0.7189, 0.6921, 0.7503, 0.9478, 0.9250],\n",
       "        [0.1799, 0.8316, 0.9696, 0.4956, 0.9517, 0.0986],\n",
       "        [0.8556, 0.4644, 0.6264, 0.8423, 0.1854, 0.9556]])"
      ]
     },
     "metadata": {},
     "execution_count": 81
    }
   ],
   "metadata": {}
  },
  {
   "cell_type": "markdown",
   "source": [
    "### list, array를 텐서로 변환하기\r\n",
    "---"
   ],
   "metadata": {}
  },
  {
   "cell_type": "code",
   "execution_count": 82,
   "source": [
    "# list와 array 생성\r\n",
    "l =  [13,4]\r\n",
    "r = np.array([4, 56, 7])"
   ],
   "outputs": [],
   "metadata": {}
  },
  {
   "cell_type": "code",
   "execution_count": 83,
   "source": [
    "torch.tensor(l)"
   ],
   "outputs": [
    {
     "output_type": "execute_result",
     "data": {
      "text/plain": [
       "tensor([13,  4])"
      ]
     },
     "metadata": {},
     "execution_count": 83
    }
   ],
   "metadata": {}
  },
  {
   "cell_type": "code",
   "execution_count": 84,
   "source": [
    "torch.tensor(r)"
   ],
   "outputs": [
    {
     "output_type": "execute_result",
     "data": {
      "text/plain": [
       "tensor([ 4, 56,  7], dtype=torch.int32)"
      ]
     },
     "metadata": {},
     "execution_count": 84
    }
   ],
   "metadata": {}
  },
  {
   "cell_type": "code",
   "execution_count": 85,
   "source": [
    "# 사이즈 확인하기\r\n",
    "x.size()"
   ],
   "outputs": [
    {
     "output_type": "execute_result",
     "data": {
      "text/plain": [
       "torch.Size([5, 4])"
      ]
     },
     "metadata": {},
     "execution_count": 85
    }
   ],
   "metadata": {}
  },
  {
   "cell_type": "code",
   "execution_count": 86,
   "source": [
    "# 타입 확인하기\r\n",
    "type(x)"
   ],
   "outputs": [
    {
     "output_type": "execute_result",
     "data": {
      "text/plain": [
       "torch.Tensor"
      ]
     },
     "metadata": {},
     "execution_count": 86
    }
   ],
   "metadata": {}
  },
  {
   "cell_type": "markdown",
   "source": [
    "### 텐서로 연산하기\r\n",
    "---"
   ],
   "metadata": {}
  },
  {
   "cell_type": "code",
   "execution_count": 87,
   "source": [
    "# 연산에 사용할 텐서 생성\r\n",
    "x = torch.rand(2,2)\r\n",
    "y = torch.rand(2,2)\r\n",
    "print(x)\r\n",
    "print(y)"
   ],
   "outputs": [
    {
     "output_type": "stream",
     "name": "stdout",
     "text": [
      "tensor([[0.4099, 0.1879],\n",
      "        [0.7032, 0.2403]])\n",
      "tensor([[0.5442, 0.6278],\n",
      "        [0.6010, 0.9378]])\n"
     ]
    }
   ],
   "metadata": {}
  },
  {
   "cell_type": "code",
   "execution_count": 88,
   "source": [
    "print(x + y)\r\n",
    "print(torch.add(x,y))"
   ],
   "outputs": [
    {
     "output_type": "stream",
     "name": "stdout",
     "text": [
      "tensor([[0.9541, 0.8156],\n",
      "        [1.3043, 1.1780]])\n",
      "tensor([[0.9541, 0.8156],\n",
      "        [1.3043, 1.1780]])\n"
     ]
    }
   ],
   "metadata": {}
  },
  {
   "cell_type": "code",
   "execution_count": 89,
   "source": [
    "print(y.add(x))\r\n",
    "# 이 경우는 y 값이 계속 유지가 된다.\r\n",
    "print(y)"
   ],
   "outputs": [
    {
     "output_type": "stream",
     "name": "stdout",
     "text": [
      "tensor([[0.9541, 0.8156],\n",
      "        [1.3043, 1.1780]])\n",
      "tensor([[0.5442, 0.6278],\n",
      "        [0.6010, 0.9378]])\n"
     ]
    }
   ],
   "metadata": {}
  },
  {
   "cell_type": "code",
   "execution_count": 90,
   "source": [
    "y.add_(x)\r\n",
    "# 이렇게 _를 넣으면 replace하여 y+x 한 값을 y로 대체한다.\r\n",
    "print(y)"
   ],
   "outputs": [
    {
     "output_type": "stream",
     "name": "stdout",
     "text": [
      "tensor([[0.9541, 0.8156],\n",
      "        [1.3043, 1.1780]])\n"
     ]
    }
   ],
   "metadata": {}
  },
  {
   "cell_type": "markdown",
   "source": [
    "### 인덱싱\r\n",
    "---"
   ],
   "metadata": {}
  },
  {
   "cell_type": "code",
   "execution_count": 91,
   "source": [
    "print(y[1,1])\r\n",
    "print(y[:1])"
   ],
   "outputs": [
    {
     "output_type": "stream",
     "name": "stdout",
     "text": [
      "tensor(1.1780)\n",
      "tensor([[0.9541, 0.8156]])\n"
     ]
    }
   ],
   "metadata": {}
  },
  {
   "cell_type": "code",
   "execution_count": 92,
   "source": [
    "# view 사용하기\r\n",
    "# 조금 큰 텐서 생성\r\n",
    "x = torch.rand(8,8)\r\n",
    "print(x)"
   ],
   "outputs": [
    {
     "output_type": "stream",
     "name": "stdout",
     "text": [
      "tensor([[0.4240, 0.6559, 0.2077, 0.4444, 0.2472, 0.3299, 0.2845, 0.2184],\n",
      "        [0.9672, 0.4555, 0.7161, 0.5054, 0.8513, 0.1385, 0.9200, 0.5050],\n",
      "        [0.4277, 0.1667, 0.6338, 0.2358, 0.2072, 0.5400, 0.7947, 0.9137],\n",
      "        [0.0177, 0.5114, 0.1768, 0.6483, 0.7898, 0.3753, 0.3020, 0.2973],\n",
      "        [0.7972, 0.7040, 0.5214, 0.0258, 0.7049, 0.2571, 0.5117, 0.3540],\n",
      "        [0.9580, 0.8907, 0.6664, 0.6618, 0.2466, 0.4488, 0.6059, 0.5156],\n",
      "        [0.8125, 0.9883, 0.3278, 0.2607, 0.0950, 0.5452, 0.4817, 0.7075],\n",
      "        [0.0582, 0.0671, 0.0056, 0.7677, 0.4985, 0.6044, 0.0770, 0.2661]])\n"
     ]
    }
   ],
   "metadata": {}
  },
  {
   "cell_type": "code",
   "execution_count": 93,
   "source": [
    "x.view(64)"
   ],
   "outputs": [
    {
     "output_type": "execute_result",
     "data": {
      "text/plain": [
       "tensor([0.4240, 0.6559, 0.2077, 0.4444, 0.2472, 0.3299, 0.2845, 0.2184, 0.9672,\n",
       "        0.4555, 0.7161, 0.5054, 0.8513, 0.1385, 0.9200, 0.5050, 0.4277, 0.1667,\n",
       "        0.6338, 0.2358, 0.2072, 0.5400, 0.7947, 0.9137, 0.0177, 0.5114, 0.1768,\n",
       "        0.6483, 0.7898, 0.3753, 0.3020, 0.2973, 0.7972, 0.7040, 0.5214, 0.0258,\n",
       "        0.7049, 0.2571, 0.5117, 0.3540, 0.9580, 0.8907, 0.6664, 0.6618, 0.2466,\n",
       "        0.4488, 0.6059, 0.5156, 0.8125, 0.9883, 0.3278, 0.2607, 0.0950, 0.5452,\n",
       "        0.4817, 0.7075, 0.0582, 0.0671, 0.0056, 0.7677, 0.4985, 0.6044, 0.0770,\n",
       "        0.2661])"
      ]
     },
     "metadata": {},
     "execution_count": 93
    }
   ],
   "metadata": {}
  },
  {
   "cell_type": "code",
   "execution_count": 94,
   "source": [
    "print(x.size())\r\n",
    "print(x.view(64).size())\r\n",
    "print(x.view(4, 16).size())\r\n",
    "# -1을 사용하면, 고정된 16이라는 값에 맞춰 -1에 값이 자동으로 들어간다.\r\n",
    "print(x.view(-1, 16).size())\r\n",
    "print(x.view(-1, 4, 4).size())\r\n",
    "# 이 view는 cnn 모델에서 마지막 단 FC layer에서 이미지를 한줄로 이어붙여 넘길 때 자주 사용한다."
   ],
   "outputs": [
    {
     "output_type": "stream",
     "name": "stdout",
     "text": [
      "torch.Size([8, 8])\n",
      "torch.Size([64])\n",
      "torch.Size([4, 16])\n",
      "torch.Size([4, 16])\n",
      "torch.Size([4, 4, 4])\n"
     ]
    }
   ],
   "metadata": {}
  },
  {
   "cell_type": "markdown",
   "source": [
    "### tensor에서 numpy 넘어가기\r\n",
    "---"
   ],
   "metadata": {}
  },
  {
   "cell_type": "code",
   "execution_count": 95,
   "source": [
    "y = torch.tensor(y)\r\n",
    "print(type(y))\r\n",
    "\r\n",
    "y = y.numpy()\r\n",
    "print(type(y))"
   ],
   "outputs": [
    {
     "output_type": "stream",
     "name": "stdout",
     "text": [
      "<class 'torch.Tensor'>\n",
      "<class 'numpy.ndarray'>\n"
     ]
    },
    {
     "output_type": "stream",
     "name": "stderr",
     "text": [
      "C:\\Users\\lemon\\anaconda3\\envs\\chch\\lib\\site-packages\\ipykernel_launcher.py:1: UserWarning: To copy construct from a tensor, it is recommended to use sourceTensor.clone().detach() or sourceTensor.clone().detach().requires_grad_(True), rather than torch.tensor(sourceTensor).\n",
      "  \"\"\"Entry point for launching an IPython kernel.\n"
     ]
    }
   ],
   "metadata": {}
  },
  {
   "cell_type": "markdown",
   "source": [
    "### tensor 가 scalar 형태일 때 item 사용하기\r\n",
    "---"
   ],
   "metadata": {}
  },
  {
   "cell_type": "code",
   "execution_count": 96,
   "source": [
    "x = torch.ones(1)"
   ],
   "outputs": [],
   "metadata": {}
  },
  {
   "cell_type": "code",
   "execution_count": 97,
   "source": [
    "x"
   ],
   "outputs": [
    {
     "output_type": "execute_result",
     "data": {
      "text/plain": [
       "tensor([1.])"
      ]
     },
     "metadata": {},
     "execution_count": 97
    }
   ],
   "metadata": {}
  },
  {
   "cell_type": "code",
   "execution_count": 98,
   "source": [
    "# 정수나 실수 값 하나로 나오게\r\n",
    "x.item()\r\n",
    "# tensor 형태로 나온 로스 값을 변환 할 때 자주 사용한다."
   ],
   "outputs": [
    {
     "output_type": "execute_result",
     "data": {
      "text/plain": [
       "1.0"
      ]
     },
     "metadata": {},
     "execution_count": 98
    }
   ],
   "metadata": {}
  }
 ],
 "metadata": {
  "orig_nbformat": 4,
  "language_info": {
   "name": "python"
  }
 },
 "nbformat": 4,
 "nbformat_minor": 2
}