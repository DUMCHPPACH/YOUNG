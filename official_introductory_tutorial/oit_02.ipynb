{
 "cells": [
  {
   "cell_type": "markdown",
   "source": [
    "## 2강 역전파\r\n",
    "미분 자동으로 계산하기"
   ],
   "metadata": {}
  },
  {
   "cell_type": "code",
   "execution_count": 24,
   "source": [
    "import torch"
   ],
   "outputs": [],
   "metadata": {}
  },
  {
   "cell_type": "code",
   "execution_count": 25,
   "source": [
    "# requires_grad를 True로 한다. 디폴트는 False\r\n",
    "# requires_grad : x에 관한 연산을 추적할 수 있게하여 미분할 때 사용하게 한다.\r\n",
    "x = torch.ones(2,2, requires_grad=True)\r\n",
    "print(x)"
   ],
   "outputs": [
    {
     "output_type": "stream",
     "name": "stdout",
     "text": [
      "tensor([[1., 1.],\n",
      "        [1., 1.]], requires_grad=True)\n"
     ]
    }
   ],
   "metadata": {}
  },
  {
   "cell_type": "code",
   "execution_count": 26,
   "source": [
    "# x에 대한 y식을 만든다.\r\n",
    "y = x+1\r\n",
    "print(y)\r\n",
    "# rad_fn=<AddBackward0> 을 확인"
   ],
   "outputs": [
    {
     "output_type": "stream",
     "name": "stdout",
     "text": [
      "tensor([[2., 2.],\n",
      "        [2., 2.]], grad_fn=<AddBackward0>)\n"
     ]
    }
   ],
   "metadata": {}
  },
  {
   "cell_type": "code",
   "execution_count": 27,
   "source": [
    "# 또 다른 식을 만든다\r\n",
    "# 딥러닝에서는 loss 를 구하는 것으로 생각하면 쉽다.\r\n",
    "z = 2 * y**2\r\n",
    "result = z.mean()\r\n",
    "print(result)"
   ],
   "outputs": [
    {
     "output_type": "stream",
     "name": "stdout",
     "text": [
      "tensor(8., grad_fn=<MeanBackward0>)\n"
     ]
    }
   ],
   "metadata": {}
  },
  {
   "cell_type": "code",
   "execution_count": 28,
   "source": [
    "# 이렇게 나온 결과인 result(=loss)를 기준으로 해서 미분을 진행하자\r\n",
    "# d(res)/dx_i = x_i + 1\r\n",
    "# res = (z_1 + z_2 + .. + z_4)/4\r\n",
    "# z_i = 2y_i ** 2\r\n",
    "# z_i = 2(x_i+1)**2"
   ],
   "outputs": [],
   "metadata": {}
  },
  {
   "cell_type": "code",
   "execution_count": 29,
   "source": [
    "# 실제 계산을 해보자. 역전파 계산을 한다\r\n",
    "result.backward()"
   ],
   "outputs": [],
   "metadata": {}
  },
  {
   "cell_type": "code",
   "execution_count": 30,
   "source": [
    "# x에 대한 미분값이 보고싶을 때\r\n",
    "print(x.grad)"
   ],
   "outputs": [
    {
     "output_type": "stream",
     "name": "stdout",
     "text": [
      "tensor([[2., 2.],\n",
      "        [2., 2.]])\n"
     ]
    }
   ],
   "metadata": {}
  }
 ],
 "metadata": {
  "orig_nbformat": 4,
  "language_info": {
   "name": "python"
  }
 },
 "nbformat": 4,
 "nbformat_minor": 2
}